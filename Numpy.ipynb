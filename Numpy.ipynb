{
 "cells": [
  {
   "cell_type": "markdown",
   "id": "65e7697a-4099-49cb-bff4-1fae2e428aa9",
   "metadata": {},
   "source": [
    "Numpy(Numerical Python) is a fundamental library for python numerical computing\n",
    "Key features:\n",
    "N-Dimensional Array\n",
    "Array with High performance\n",
    "Element wise Computation \n",
    "Verctorization\n",
    "Linear algebra\n"
   ]
  },
  {
   "cell_type": "code",
   "execution_count": 1,
   "id": "fbbdea26-92e1-4709-9d7f-f5176fd39938",
   "metadata": {},
   "outputs": [],
   "source": [
    "import numpy as np"
   ]
  },
  {
   "cell_type": "code",
   "execution_count": 3,
   "id": "5b8986a0-37ff-4927-9dc2-4f519a5b5a81",
   "metadata": {},
   "outputs": [],
   "source": [
    "# Using ndarray : The array object is called as ndarray.Numpy array are created \n",
    "#using array() function"
   ]
  },
  {
   "cell_type": "code",
   "execution_count": 8,
   "id": "c1c4de22-354e-4845-8797-5e3728ad884d",
   "metadata": {},
   "outputs": [
    {
     "name": "stdout",
     "output_type": "stream",
     "text": [
      "One D array\n",
      " [2 3 4]\n",
      "Two D array\n",
      " [[2 3]\n",
      " [4 5]]\n",
      "three D array\n",
      " [[[3 4 5]\n",
      "  [6 7 8]]\n",
      "\n",
      " [[1 2 3]\n",
      "  [0 4 3]]]\n"
     ]
    }
   ],
   "source": [
    "#creating 1D array\n",
    "one_D=np.array([2,3,4])\n",
    "two_D=np.array([[2,3],[4,5]])\n",
    "three_D=np.array([[[3,4,5],[6,7,8]],[[1,2,3],[0,4,3]]])\n",
    "print(\"One D array\\n\",one_D)\n",
    "print(\"Two D array\\n\",two_D)\n",
    "print(\"three D array\\n\",three_D)"
   ]
  },
  {
   "cell_type": "code",
   "execution_count": 10,
   "id": "82d49dfe-4b35-46b3-821f-8497040a9a51",
   "metadata": {},
   "outputs": [
    {
     "name": "stdout",
     "output_type": "stream",
     "text": [
      "zeros\n",
      " [[0. 0. 0.]\n",
      " [0. 0. 0.]\n",
      " [0. 0. 0.]]\n",
      "Ones\n",
      " [[1. 1.]\n",
      " [1. 1.]]\n",
      "Arange\n",
      " [0 2 4 6 8]\n"
     ]
    }
   ],
   "source": [
    "# using Numpy function\n",
    "Zeros=np.zeros((3,3))\n",
    "Ones=np.ones((2,2))\n",
    "Arange=np.arange(0,10,2)\n",
    "print(\"zeros\\n\",Zeros)\n",
    "print(\"Ones\\n\",Ones)\n",
    "print(\"Arange\\n\",Arange)"
   ]
  },
  {
   "cell_type": "code",
   "execution_count": 12,
   "id": "727ab14a-b093-41b5-bdf1-10757eda9acc",
   "metadata": {},
   "outputs": [
    {
     "name": "stdout",
     "output_type": "stream",
     "text": [
      "5\n",
      "6\n"
     ]
    }
   ],
   "source": [
    "# array indexing\n",
    "import numpy as np\n",
    "arr1=np.array([1,2,3,4,5,6,7])\n",
    "print(arr1[4])\n",
    "print(arr1[-2])\n"
   ]
  },
  {
   "cell_type": "code",
   "execution_count": 14,
   "id": "8b47b691-181a-4293-883c-95f9acc1dea2",
   "metadata": {},
   "outputs": [],
   "source": [
    "arr2=np.array([[[1,2,3],[3,4,5]],[[7,8,9],[4,5,6]]])"
   ]
  },
  {
   "cell_type": "code",
   "execution_count": 15,
   "id": "f0a52500-0702-4c9b-8db9-1482847ac6e3",
   "metadata": {},
   "outputs": [
    {
     "name": "stdout",
     "output_type": "stream",
     "text": [
      "5\n"
     ]
    }
   ],
   "source": [
    "print(arr2[1,1,1])"
   ]
  },
  {
   "cell_type": "code",
   "execution_count": 16,
   "id": "d5ddd23c-13a1-4610-b2a1-9372ee1e2d2d",
   "metadata": {},
   "outputs": [],
   "source": [
    "#Numpy Basic operation"
   ]
  },
  {
   "cell_type": "code",
   "execution_count": 17,
   "id": "0623551c-55f2-402d-b2a3-b0f7bd5fc5a2",
   "metadata": {},
   "outputs": [],
   "source": [
    "# Element wise operation : we can perform arthematical operation like \n",
    "# addition ,substraction,multiplication and division on Numpy array"
   ]
  },
  {
   "cell_type": "code",
   "execution_count": 18,
   "id": "1f9b8c1b-28dc-48e1-b86f-21a7cf778453",
   "metadata": {},
   "outputs": [
    {
     "name": "stdout",
     "output_type": "stream",
     "text": [
      "addition [5 7 9]\n",
      "substraction [-3 -3 -3]\n",
      "multiplication [ 4 10 18]\n",
      "division [0.25 0.4  0.5 ]\n"
     ]
    }
   ],
   "source": [
    "x=np.array([1,2,3])\n",
    "y=np.array([4,5,6])\n",
    "add=x+y\n",
    "print(\"addition\",add)\n",
    "sub=x-y\n",
    "print(\"substraction\",sub)\n",
    "multiply=x*y\n",
    "print(\"multiplication\",multiply)\n",
    "divide=x/y\n",
    "print(\"division\",divide)"
   ]
  },
  {
   "cell_type": "code",
   "execution_count": 20,
   "id": "ebe2b55a-0fd4-48fb-a58c-ba09a7944329",
   "metadata": {},
   "outputs": [
    {
     "name": "stdout",
     "output_type": "stream",
     "text": [
      "[3.  1.  0.  1.  3.  0.9]\n"
     ]
    }
   ],
   "source": [
    "# absolute in numpy\n",
    "arr=np.array([-3,-1,0,1,3,0.9])\n",
    "print(abs(arr))"
   ]
  },
  {
   "cell_type": "code",
   "execution_count": 21,
   "id": "84edbc60-f990-4b34-bc1b-0bae424a52e8",
   "metadata": {},
   "outputs": [
    {
     "name": "stdout",
     "output_type": "stream",
     "text": [
      "[5 7 9]\n"
     ]
    }
   ],
   "source": [
    "# Binary opeartion\n",
    "z=np.add(x,y)\n",
    "print(z)"
   ]
  },
  {
   "cell_type": "code",
   "execution_count": 23,
   "id": "059b861e-89d2-4261-be55-35442e616a12",
   "metadata": {},
   "outputs": [
    {
     "name": "stdout",
     "output_type": "stream",
     "text": [
      "Sine vlaues of array elements  [0.0000000e+00 1.0000000e+00 1.2246468e-16]\n"
     ]
    }
   ],
   "source": [
    "#  Numpy ufuncs\n",
    "import numpy as np\n",
    "a=np.array([0,np.pi/2,np.pi])\n",
    "print(\"Sine vlaues of array elements \",np.sin(a))"
   ]
  },
  {
   "cell_type": "code",
   "execution_count": 25,
   "id": "773c1f68-f51e-4ee9-876b-70f9f37f98dc",
   "metadata": {},
   "outputs": [
    {
     "name": "stdout",
     "output_type": "stream",
     "text": [
      "exponential of array elements [ 1.          2.71828183  7.3890561  20.08553692]\n"
     ]
    }
   ],
   "source": [
    "a=np.array([0,1,2,3])\n",
    "print(\"exponential of array elements\",np.exp(a))"
   ]
  },
  {
   "cell_type": "code",
   "execution_count": 26,
   "id": "9e5d41d6-57eb-46f1-ab6d-701e3f31082b",
   "metadata": {},
   "outputs": [
    {
     "name": "stdout",
     "output_type": "stream",
     "text": [
      "square root of array elements [0.         1.         1.41421356 1.73205081]\n"
     ]
    }
   ],
   "source": [
    "print(\"square root of array elements\",np.sqrt(a))"
   ]
  },
  {
   "cell_type": "code",
   "execution_count": 27,
   "id": "494b8848-a52c-46b7-b8e5-d56238a51a55",
   "metadata": {},
   "outputs": [
    {
     "name": "stdout",
     "output_type": "stream",
     "text": [
      "Array is of type <class 'numpy.ndarray'>\n"
     ]
    }
   ],
   "source": [
    "import numpy as np\n",
    "arr=np.array([[1,2,3],[4,5,6]])\n",
    "print(\"Array is of type\",type(arr))"
   ]
  },
  {
   "cell_type": "code",
   "execution_count": 28,
   "id": "6c726793-ada6-4434-8567-3522cbadcc20",
   "metadata": {},
   "outputs": [
    {
     "name": "stdout",
     "output_type": "stream",
     "text": [
      "NO of dimensions 2\n"
     ]
    }
   ],
   "source": [
    "print(\"NO of dimensions\",arr.ndim)"
   ]
  },
  {
   "cell_type": "code",
   "execution_count": 29,
   "id": "26d591b5-6ffd-473b-8624-2deb2dfc9ce9",
   "metadata": {},
   "outputs": [
    {
     "name": "stdout",
     "output_type": "stream",
     "text": [
      "shape of array (2, 3)\n"
     ]
    }
   ],
   "source": [
    "print(\"shape of array\",arr.shape)"
   ]
  },
  {
   "cell_type": "code",
   "execution_count": 30,
   "id": "e826c873-6e33-494b-a50a-d185a1e33021",
   "metadata": {},
   "outputs": [
    {
     "name": "stdout",
     "output_type": "stream",
     "text": [
      "size of array 6\n"
     ]
    }
   ],
   "source": [
    "print(\"size of array\",arr.size)"
   ]
  },
  {
   "cell_type": "code",
   "execution_count": 32,
   "id": "22c2768e-5076-4c38-9f98-68067c4e545f",
   "metadata": {},
   "outputs": [
    {
     "name": "stdout",
     "output_type": "stream",
     "text": [
      "array stores elements of type: int32\n"
     ]
    }
   ],
   "source": [
    "print(\"array stores elements of type:\",arr.dtype)"
   ]
  },
  {
   "cell_type": "code",
   "execution_count": null,
   "id": "1020686c-88df-416e-9deb-8ab81dc746cb",
   "metadata": {},
   "outputs": [],
   "source": []
  }
 ],
 "metadata": {
  "kernelspec": {
   "display_name": "Python 3 (ipykernel)",
   "language": "python",
   "name": "python3"
  },
  "language_info": {
   "codemirror_mode": {
    "name": "ipython",
    "version": 3
   },
   "file_extension": ".py",
   "mimetype": "text/x-python",
   "name": "python",
   "nbconvert_exporter": "python",
   "pygments_lexer": "ipython3",
   "version": "3.12.2"
  }
 },
 "nbformat": 4,
 "nbformat_minor": 5
}
