{
 "cells": [
  {
   "cell_type": "code",
   "execution_count": 1,
   "id": "14172153-a279-424d-9082-e6db58ab82eb",
   "metadata": {},
   "outputs": [],
   "source": [
    "import sys"
   ]
  },
  {
   "cell_type": "code",
   "execution_count": 2,
   "id": "0029e685-b36a-4e12-acf6-bc7343f3dcbd",
   "metadata": {},
   "outputs": [
    {
     "name": "stdout",
     "output_type": "stream",
     "text": [
      "56\n"
     ]
    }
   ],
   "source": [
    "list1=[]\n",
    "print(sys.getsizeof(list1))"
   ]
  },
  {
   "cell_type": "code",
   "execution_count": 4,
   "id": "fdc4eadd-1e51-4c19-bd77-1bbe43cdea0f",
   "metadata": {},
   "outputs": [
    {
     "name": "stdout",
     "output_type": "stream",
     "text": [
      "5\n"
     ]
    }
   ],
   "source": [
    "print((sys.getsizeof(list1)-36)//4)"
   ]
  },
  {
   "cell_type": "code",
   "execution_count": 6,
   "id": "58bcd1d0-3579-45f8-aea7-a4f43f02a8f0",
   "metadata": {},
   "outputs": [
    {
     "name": "stdout",
     "output_type": "stream",
     "text": [
      "0\n"
     ]
    }
   ],
   "source": [
    "print(len(list1))"
   ]
  },
  {
   "cell_type": "code",
   "execution_count": 7,
   "id": "2144e060-1f27-43c0-8b9e-50051325b100",
   "metadata": {},
   "outputs": [
    {
     "name": "stdout",
     "output_type": "stream",
     "text": [
      "empty list created\n",
      "list details\n",
      "capacity: 6\n",
      "56\n",
      "0\n",
      "space left 56\n",
      "after append list is like ['sugar']\n",
      "after append changes in list are\n",
      "capacity: 14\n",
      "88\n",
      "1\n",
      "space left 88\n",
      "after insertion list like ['banana', 'sugar']\n",
      "after insertion changes in list are\n",
      "capacity: 14\n",
      "88\n",
      "2\n",
      "space left 88\n"
     ]
    }
   ],
   "source": [
    "import sys\n",
    "def list_detail(list1):\n",
    "    print(\"capacity:\",(sys.getsizeof(list1)-32)//4)\n",
    "    print((sys.getsizeof(list1)))\n",
    "    print(len(list1))\n",
    "    print(\"space left\",sys.getsizeof(list1))\n",
    "    \n",
    "#driver code\n",
    "maria_list=[]\n",
    "print(\"empty list created\")\n",
    "print(\"list details\")\n",
    "list_detail(maria_list)\n",
    "maria_list.append(\"sugar\")\n",
    "print(\"after append list is like\",maria_list)\n",
    "print(\"after append changes in list are\")\n",
    "list_detail(maria_list)\n",
    "\n",
    "# insertion ti list\n",
    "maria_list.insert(0,\"banana\")\n",
    "print(\"after insertion list like\",maria_list)\n",
    "print(\"after insertion changes in list are\")\n",
    "list_detail(maria_list)"
   ]
  },
  {
   "cell_type": "code",
   "execution_count": 8,
   "id": "d2f1a52c-02e1-46c4-8108-a87320fe8dfc",
   "metadata": {},
   "outputs": [
    {
     "name": "stdout",
     "output_type": "stream",
     "text": [
      "Empty list created!!!\n",
      "List details:\n",
      "Capacity: 5\n",
      "Size: 0\n",
      "Space Left: 5\n",
      "Maria's list after adding Sugar:\n",
      "['Sugar']\n",
      "List details:\n",
      "Capacity: 13\n",
      "Size: 1\n",
      "Space Left: 12\n",
      "['Sugar', 'Tea Bags', 'Milk', 'Biscuit']\n",
      "List details:\n",
      "Capacity: 13\n",
      "Size: 4\n",
      "Space Left: 9\n",
      "['Sugar', 'Salt', 'Tea Bags', 'Milk', 'Biscuit']\n",
      "List details:\n",
      "Capacity: 21\n",
      "Size: 5\n",
      "Space Left: 16\n"
     ]
    }
   ],
   "source": [
    "#Do not remove the below import statement\n",
    "import sys\n",
    "\n",
    "'''This function provides the capacity, size and space left in the list.\n",
    "You can invoke it to get the details of the list'''\n",
    "\n",
    "def list_details(lst):\n",
    "    #Number of elements that can be stored in the list\n",
    "    print(\"Capacity:\", (sys.getsizeof(lst)-36)//4)\n",
    "\n",
    "    #Number of elements in the list\n",
    "    print(\"Size:\", len(lst))\n",
    "\n",
    "    #Number of elements that can be accommodated in the space left\n",
    "    print(\"Space Left:\", ((sys.getsizeof(lst)-36) - len(lst*4))//4)\n",
    "\n",
    "    #formula changes based on the system architecture\n",
    "    #(size-36)/4 for 32 bit machines and\n",
    "    #(size-64)/8 for 64 bit machines\n",
    "\n",
    "    # 36,64 - size of an empty list based on machine\n",
    "    # 4,8 - size of a single element in the list based on machine\n",
    "\n",
    "marias_lst=[]\n",
    "print(\"Empty list created!!!\")\n",
    "print(\"List details:\")\n",
    "list_details(marias_lst)\n",
    "\n",
    "\n",
    "marias_lst.append(\"Sugar\")\n",
    "print(\"Maria's list after adding Sugar:\")\n",
    "print(marias_lst)\n",
    "print(\"List details:\")\n",
    "list_details(marias_lst)\n",
    "\n",
    "\n",
    "marias_lst.append(\"Tea Bags\")\n",
    "marias_lst.append(\"Milk\")\n",
    "marias_lst.append(\"Biscuit\")\n",
    "print(marias_lst)\n",
    "print(\"List details:\")\n",
    "list_details(marias_lst)\n",
    "\n",
    "marias_lst.insert(1,\"Salt\")\n",
    "print(marias_lst)\n",
    "print(\"List details:\")\n",
    "list_details(marias_lst)\n",
    "                                              "
   ]
  },
  {
   "cell_type": "code",
   "execution_count": 9,
   "id": "560cee7a-aaa4-4b32-a7e7-4f3e7ebeb9a5",
   "metadata": {},
   "outputs": [
    {
     "name": "stdout",
     "output_type": "stream",
     "text": [
      "Search results:\n",
      "Jack   56789   Jack_xyz@organization.com\n",
      "Jackson   67895   Jackson_xyz@organization.com\n",
      "Henry Jack   23456   Jacky_xyz@organization.com\n"
     ]
    },
    {
     "data": {
      "text/plain": [
       "[<__main__.Employee at 0x1d648001b20>,\n",
       " <__main__.Employee at 0x1d64813f770>,\n",
       " <__main__.Employee at 0x1d64813fd10>]"
      ]
     },
     "execution_count": 9,
     "metadata": {},
     "output_type": "execute_result"
    }
   ],
   "source": [
    "class Employee:\n",
    "    def __init__(self, name, emp_id, email_id):\n",
    "        self.__name=name\n",
    "        self.__emp_id=emp_id\n",
    "        self.__email_id=email_id\n",
    "\n",
    "    def get_name(self):\n",
    "        return self.__name\n",
    "\n",
    "    def get_emp_id(self):\n",
    "        return self.__emp_id\n",
    "\n",
    "    def get_email_id(self):\n",
    "        return self.__email_id\n",
    "\n",
    "class OrganizationDirectory:\n",
    "    def __init__(self,emp_list):\n",
    "        self.__emp_list=emp_list\n",
    "\n",
    "    def lookup(self,key_name):\n",
    "        result_list=[]\n",
    "        for emp in self.__emp_list:\n",
    "            if(key_name in emp.get_name()):\n",
    "                result_list.append(emp)\n",
    "        self.display(result_list)\n",
    "        return result_list\n",
    "\n",
    "    def display(self,result_list):\n",
    "        print(\"Search results:\")\n",
    "        for emp in result_list:\n",
    "            print(emp.get_name(),\" \", emp.get_emp_id(),\" \",emp.get_email_id())\n",
    "\n",
    "\n",
    "\n",
    "emp1=Employee(\"Kevin\",24089, \"Kevin_xyz@organization.com\")\n",
    "emp2=Employee(\"Jack\",56789,\"Jack_xyz@organization.com\")\n",
    "emp3=Employee(\"Jackson\",67895,\"Jackson_xyz@organization.com\")\n",
    "emp4=Employee(\"Henry Jack\",23456,\"Jacky_xyz@organization.com\")\n",
    "emp_list=[emp1,emp2,emp3,emp4]\n",
    "\n",
    "org_dir=OrganizationDirectory(emp_list)\n",
    "#Search for an employee\n",
    "org_dir.lookup(\"Jack\")"
   ]
  },
  {
   "cell_type": "code",
   "execution_count": 10,
   "id": "a15bddb5-9a94-4296-b16e-12688a5ef27e",
   "metadata": {},
   "outputs": [],
   "source": [
    "#creation of node with the data\n",
    "class Node:\n",
    "    def __init__(self,data):\n",
    "        self.data=data\n",
    "        self.next=None\n",
    "\n",
    "item_node=Node(\"sugar\")"
   ]
  },
  {
   "cell_type": "code",
   "execution_count": 11,
   "id": "c5ef89f7-4f81-41d3-8f13-f9a7d236dd67",
   "metadata": {},
   "outputs": [
    {
     "name": "stdout",
     "output_type": "stream",
     "text": [
      "Name: Alice\n",
      "Age: 21\n",
      "Updated Name: Bob\n",
      "Updated Age: 25\n"
     ]
    }
   ],
   "source": [
    "class Student:\n",
    "    def __init__(self, name, age):\n",
    "        # Private attributes\n",
    "        self.__name = name\n",
    "        self.__age = age\n",
    "\n",
    "    # Getter method for 'name'\n",
    "    def get_name(self):\n",
    "        return self.__name\n",
    "\n",
    "    # Setter method for 'name'\n",
    "    def set_name(self, name):\n",
    "        self.__name = name\n",
    "\n",
    "    # Getter method for 'age'\n",
    "    def get_age(self):\n",
    "        return self.__age\n",
    "\n",
    "    # Setter method for 'age'\n",
    "    def set_age(self, age):\n",
    "        if age > 0:  # Validation\n",
    "            self.__age = age\n",
    "        else:\n",
    "            print(\"Age must be positive.\")\n",
    "\n",
    "# Creating an object of the Student class\n",
    "student = Student(\"Alice\", 21)\n",
    "\n",
    "# Using getter methods to access values\n",
    "print(f\"Name: {student.get_name()}\")\n",
    "print(f\"Age: {student.get_age()}\")\n",
    "\n",
    "# Using setter methods to modify values\n",
    "student.set_name(\"Bob\")\n",
    "student.set_age(25)\n",
    "\n",
    "# Display the updated values\n",
    "print(f\"Updated Name: {student.get_name()}\")\n",
    "print(f\"Updated Age: {student.get_age()}\")\n"
   ]
  },
  {
   "cell_type": "code",
   "execution_count": 16,
   "id": "f28ebdfa-c665-48f7-8b1b-492db14c4717",
   "metadata": {},
   "outputs": [],
   "source": [
    "class Node:\n",
    "    def __init__(self,data):\n",
    "        self.data=data\n",
    "        self.next=None\n",
    "\n",
    "item_node=Node(\"sugar\")"
   ]
  },
  {
   "cell_type": "code",
   "execution_count": 18,
   "id": "3fd489b3-34ea-4ee0-95fe-7e491e928e59",
   "metadata": {},
   "outputs": [
    {
     "ename": "TypeError",
     "evalue": "Node.set_data() missing 1 required positional argument: 'data'",
     "output_type": "error",
     "traceback": [
      "\u001b[1;31m---------------------------------------------------------------------------\u001b[0m",
      "\u001b[1;31mTypeError\u001b[0m                                 Traceback (most recent call last)",
      "Cell \u001b[1;32mIn[18], line 12\u001b[0m\n\u001b[0;32m     10\u001b[0m \u001b[38;5;66;03m#driver code\u001b[39;00m\n\u001b[0;32m     11\u001b[0m item_node\u001b[38;5;241m=\u001b[39mNode(\u001b[38;5;124m\"\u001b[39m\u001b[38;5;124msugar\u001b[39m\u001b[38;5;124m\"\u001b[39m)\n\u001b[1;32m---> 12\u001b[0m item_node\u001b[38;5;241m=\u001b[39m\u001b[43mNode\u001b[49m\u001b[38;5;241;43m.\u001b[39;49m\u001b[43mset_data\u001b[49m\u001b[43m(\u001b[49m\u001b[38;5;124;43m\"\u001b[39;49m\u001b[38;5;124;43mbanana\u001b[39;49m\u001b[38;5;124;43m\"\u001b[39;49m\u001b[43m)\u001b[49m\n\u001b[0;32m     13\u001b[0m \u001b[38;5;28mprint\u001b[39m(item_node\u001b[38;5;241m.\u001b[39mget_data())\n",
      "\u001b[1;31mTypeError\u001b[0m: Node.set_data() missing 1 required positional argument: 'data'"
     ]
    }
   ],
   "source": [
    "class Node:\n",
    "    def __init__(self,data):\n",
    "        self.data=data\n",
    "        self.next=None\n",
    "\n",
    "    def get_data(self):\n",
    "        return self.data\n",
    "    def set_data(self,data):\n",
    "        self.data=data\n",
    "#driver code\n",
    "item_node=Node(\"sugar\")\n",
    "item_node=Node.set_data(\"banana\")\n",
    "print(item_node.get_data())"
   ]
  },
  {
   "cell_type": "code",
   "execution_count": 23,
   "id": "28be6e07-0883-40ac-b7ac-8eb1e504a8ba",
   "metadata": {},
   "outputs": [
    {
     "name": "stdout",
     "output_type": "stream",
     "text": [
      "sugar\n",
      "banana\n"
     ]
    }
   ],
   "source": [
    "class node:\n",
    "    def __init__(self,data):\n",
    "        self.data=data\n",
    "        self.next=None\n",
    "    def get_data(self):\n",
    "        return self.data\n",
    "    def set_data(self,data):\n",
    "        self.data=data\n",
    "item_node=Node(\"sugar\")\n",
    "print(item_node.get_data())\n",
    "item_node.set_data(\"banana\")\n",
    "print(item_node.get_data())"
   ]
  },
  {
   "cell_type": "code",
   "execution_count": 24,
   "id": "691514f8-6770-4d01-bb21-b08443e1e696",
   "metadata": {},
   "outputs": [],
   "source": [
    "#creation of linkedlist\n",
    "class linkedlist:\n",
    "    def __init__(self):\n",
    "        self.head=None\n",
    "        self.tail=None\n",
    "    def get_head(self):\n",
    "        return self.head\n",
    "    def get_tail(self):\n",
    "        return self.tail"
   ]
  },
  {
   "cell_type": "code",
   "execution_count": 32,
   "id": "f3b5cfdf-a5a5-4712-ae96-9567366db2bb",
   "metadata": {},
   "outputs": [
    {
     "name": "stdout",
     "output_type": "stream",
     "text": [
      "bark\n"
     ]
    }
   ],
   "source": [
    "class dog:\n",
    "    sound=\"bark\"\n",
    "\n",
    "#creation of object\n",
    "dog1=dog()\n",
    "print(dog1.sound)"
   ]
  },
  {
   "cell_type": "code",
   "execution_count": 33,
   "id": "1832ce60-1d4c-4ac6-9f2a-4d905323fc77",
   "metadata": {},
   "outputs": [
    {
     "name": "stdout",
     "output_type": "stream",
     "text": [
      "buddy\n",
      "12\n"
     ]
    }
   ],
   "source": [
    "class dog:\n",
    "    species=\"canine\"\n",
    "    def __init__(self,name,age):\n",
    "        self.name=name\n",
    "        self.age=age\n",
    "\n",
    "dog1=dog(\"buddy\",12)\n",
    "print(dog1.name)\n",
    "print(dog1.age)"
   ]
  },
  {
   "cell_type": "code",
   "execution_count": 34,
   "id": "309b23c0-60cd-4893-9521-f1a74429f9af",
   "metadata": {},
   "outputs": [
    {
     "ename": "TypeError",
     "evalue": "Dog() takes no arguments",
     "output_type": "error",
     "traceback": [
      "\u001b[1;31m---------------------------------------------------------------------------\u001b[0m",
      "\u001b[1;31mTypeError\u001b[0m                                 Traceback (most recent call last)",
      "Cell \u001b[1;32mIn[34], line 5\u001b[0m\n\u001b[0;32m      2\u001b[0m     \u001b[38;5;28;01mdef\u001b[39;00m \u001b[38;5;21mbark\u001b[39m(\u001b[38;5;28mself\u001b[39m):\n\u001b[0;32m      3\u001b[0m         \u001b[38;5;28mprint\u001b[39m(\u001b[38;5;28mself\u001b[39m\u001b[38;5;241m.\u001b[39mname)\n\u001b[1;32m----> 5\u001b[0m dog1 \u001b[38;5;241m=\u001b[39m \u001b[43mDog\u001b[49m\u001b[43m(\u001b[49m\u001b[38;5;124;43m\"\u001b[39;49m\u001b[38;5;124;43mBuddy\u001b[39;49m\u001b[38;5;124;43m\"\u001b[39;49m\u001b[43m,\u001b[49m\u001b[43m \u001b[49m\u001b[38;5;241;43m3\u001b[39;49m\u001b[43m)\u001b[49m\n\u001b[0;32m      6\u001b[0m dog1\u001b[38;5;241m.\u001b[39mbark()\n",
      "\u001b[1;31mTypeError\u001b[0m: Dog() takes no arguments"
     ]
    }
   ],
   "source": []
  },
  {
   "cell_type": "code",
   "execution_count": 35,
   "id": "00c3089a-2172-4424-aec7-573dcb811c6d",
   "metadata": {},
   "outputs": [
    {
     "name": "stdout",
     "output_type": "stream",
     "text": [
      "Buddy says Woof!\n",
      "I am Buddy, and I am a Golden Retriever.\n"
     ]
    }
   ],
   "source": [
    "class Dog:\n",
    "    # Constructor to initialize the object attributes\n",
    "    def __init__(self, name, breed):\n",
    "        self.name = name  # Instance attribute\n",
    "        self.breed = breed  # Instance attribute\n",
    "    \n",
    "    # Method to describe the behavior of the Dog\n",
    "    def bark(self):\n",
    "        print(f\"{self.name} says Woof!\")\n",
    "\n",
    "    def introduce(self):\n",
    "        print(f\"I am {self.name}, and I am a {self.breed}.\")\n",
    "\n",
    "# Creating an object (instance) of the Dog class\n",
    "my_dog = Dog(\"Buddy\", \"Golden Retriever\")\n",
    "\n",
    "# Calling the object's methods\n",
    "my_dog.bark()  # Output: Buddy says Woof!\n",
    "my_dog.introduce()  # Output: I am Buddy, and I am a Golden Retriever.\n"
   ]
  },
  {
   "cell_type": "code",
   "execution_count": 41,
   "id": "df5ab94a-b8ca-48dc-bac9-ab1cc33e4f8a",
   "metadata": {},
   "outputs": [
    {
     "name": "stdout",
     "output_type": "stream",
     "text": [
      "buddy says bhoo\n",
      "i am buddy and iam retriever\n",
      "puppy says bhoo\n",
      "i am puppy and iam mudhol\n"
     ]
    }
   ],
   "source": [
    "class dog:\n",
    "    def __init__(self,name,breed):\n",
    "        self.name=name\n",
    "        self.breed=breed\n",
    "    def bark(self):\n",
    "        print(f\"{self.name} says bhoo\")\n",
    "\n",
    "    def introduction(self):\n",
    "        print(f\"i am {self.name} and iam {self.breed}\")\n",
    "\n",
    "my_dog=dog(\"buddy\",\"retriever\")\n",
    "my_dog2=dog(\"puppy\",\"mudhol\")\n",
    "my_dog.bark()\n",
    "my_dog.introduction()\n",
    "my_dog2.bark()\n",
    "my_dog2.introduction()\n",
    "    "
   ]
  },
  {
   "cell_type": "code",
   "execution_count": 43,
   "id": "b9620a26-6f80-41f7-ab23-cab44191e3b8",
   "metadata": {},
   "outputs": [
    {
     "name": "stdout",
     "output_type": "stream",
     "text": [
      "my buddy say bhoo\n",
      " my dog name buddy and its mudhol\n"
     ]
    }
   ],
   "source": [
    "class dog:\n",
    "    def __init__(self,dog,breed):\n",
    "        self.dog=dog\n",
    "        self.breed=breed\n",
    "    def bark(self):\n",
    "        print(f\"my {self.dog} say bhoo\")\n",
    "    def introduce(self):\n",
    "        print(f\" my dog name {self.dog} and its {self.breed}\")\n",
    "\n",
    "dog1=dog(\"buddy\",\"mudhol\")\n",
    "dog1.bark()\n",
    "dog1.introduce()"
   ]
  },
  {
   "cell_type": "code",
   "execution_count": null,
   "id": "95eb5eeb-e270-4ce3-9cbd-7b69bce69b45",
   "metadata": {},
   "outputs": [],
   "source": []
  }
 ],
 "metadata": {
  "kernelspec": {
   "display_name": "Python 3 (ipykernel)",
   "language": "python",
   "name": "python3"
  },
  "language_info": {
   "codemirror_mode": {
    "name": "ipython",
    "version": 3
   },
   "file_extension": ".py",
   "mimetype": "text/x-python",
   "name": "python",
   "nbconvert_exporter": "python",
   "pygments_lexer": "ipython3",
   "version": "3.12.2"
  }
 },
 "nbformat": 4,
 "nbformat_minor": 5
}
