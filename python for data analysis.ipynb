{
 "cells": [
  {
   "cell_type": "markdown",
   "id": "8f254350-bb65-4696-8ad7-579bcd31e595",
   "metadata": {},
   "source": [
    "# \"Introduction to python\"\n",
    "\n",
    "\n",
    "Key Features\n",
    "\n",
    "\n",
    "python is a simple and readable syntax make it beginner friendly\n",
    "\n",
    "\n",
    "python runs seamlessy on windows ,macos and linux \n",
    "\n",
    "Python includes libraries for web development,data analysis and machibe learning and etc...\n",
    "\n",
    "\n"
   ]
  },
  {
   "cell_type": "code",
   "execution_count": 1,
   "id": "8ec89a02-e198-407a-a102-56f751feb876",
   "metadata": {},
   "outputs": [
    {
     "name": "stdout",
     "output_type": "stream",
     "text": [
      "hello world\n"
     ]
    }
   ],
   "source": [
    "print(\"hello world\")"
   ]
  },
  {
   "cell_type": "code",
   "execution_count": 3,
   "id": "f8dc25d9-1b42-4105-9d55-ae511e19a78f",
   "metadata": {},
   "outputs": [],
   "source": [
    "# Indentation in python \n",
    "\n",
    "# indentation is used for define block of code indentation is achieved using whitespaces \n",
    "# Most commonly we use 4 spaces and tab"
   ]
  },
  {
   "cell_type": "code",
   "execution_count": 7,
   "id": "d31c1997-6fea-4c62-a69f-10d1da0af4b2",
   "metadata": {},
   "outputs": [
    {
     "ename": "IndentationError",
     "evalue": "unexpected indent (3082258250.py, line 2)",
     "output_type": "error",
     "traceback": [
      "\u001b[1;36m  Cell \u001b[1;32mIn[7], line 2\u001b[1;36m\u001b[0m\n\u001b[1;33m    print(\"hello world\")\u001b[0m\n\u001b[1;37m    ^\u001b[0m\n\u001b[1;31mIndentationError\u001b[0m\u001b[1;31m:\u001b[0m unexpected indent\n"
     ]
    }
   ],
   "source": [
    "print(\"hello world\")\n",
    "     print(\"hello world\")   "
   ]
  },
  {
   "cell_type": "code",
   "execution_count": 8,
   "id": "3b5f0217-784b-4764-ac09-312f8e4563b9",
   "metadata": {},
   "outputs": [],
   "source": [
    "# above code we get indentation because that is not a block of code"
   ]
  },
  {
   "cell_type": "code",
   "execution_count": 9,
   "id": "6d8dcbc3-2e52-4b6b-b3fd-c6acfc2a5df0",
   "metadata": {},
   "outputs": [
    {
     "name": "stdout",
     "output_type": "stream",
     "text": [
      "hello world\n"
     ]
    }
   ],
   "source": [
    "     print(\"hello world\")"
   ]
  },
  {
   "cell_type": "code",
   "execution_count": 10,
   "id": "b0b139a7-3714-4552-9fb8-a7918384d75c",
   "metadata": {},
   "outputs": [],
   "source": [
    "# famous applications build using python \n",
    "\n",
    "# Youtube ,Instagram, spotify,Netflix, Google , Uber ,Pinterest etc"
   ]
  },
  {
   "cell_type": "code",
   "execution_count": null,
   "id": "d7513aad-ed73-455b-ba6b-20c4302b7004",
   "metadata": {},
   "outputs": [],
   "source": []
  }
 ],
 "metadata": {
  "kernelspec": {
   "display_name": "Python 3 (ipykernel)",
   "language": "python",
   "name": "python3"
  },
  "language_info": {
   "codemirror_mode": {
    "name": "ipython",
    "version": 3
   },
   "file_extension": ".py",
   "mimetype": "text/x-python",
   "name": "python",
   "nbconvert_exporter": "python",
   "pygments_lexer": "ipython3",
   "version": "3.12.2"
  }
 },
 "nbformat": 4,
 "nbformat_minor": 5
}
