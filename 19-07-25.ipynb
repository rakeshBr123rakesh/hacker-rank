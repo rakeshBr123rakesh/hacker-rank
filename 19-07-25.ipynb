{
 "cells": [
  {
   "cell_type": "code",
   "execution_count": 1,
   "id": "384fa986-8fad-402f-938e-1fd81dcb5ed0",
   "metadata": {},
   "outputs": [],
   "source": [
    "#Basic of numpy array"
   ]
  },
  {
   "cell_type": "markdown",
   "id": "cd7b664c-00c1-4e63-b65e-f1e9d45b886f",
   "metadata": {},
   "source": [
    "Numpy stands for Numerical array and is used for handling large Multidimensional array and matrices"
   ]
  },
  {
   "cell_type": "markdown",
   "id": "607192ae-4b6c-416b-bbf5-6702ade112bd",
   "metadata": {},
   "source": [
    "Unlike pythons built  in lists numpy provide efficient storage and fast processing for numerical and scientific computations.It offers linear algebra and functions and random number generation it is importanty for data science and machine learning \n"
   ]
  },
  {
   "cell_type": "markdown",
   "id": "45c74af7-2345-4aad-8f51-549d22821ebe",
   "metadata": {},
   "source": [
    "Types of array\n",
    "\n",
    "One dimensional array :\n",
    "array is type of linear array\n"
   ]
  },
  {
   "cell_type": "code",
   "execution_count": 2,
   "id": "04e9b5ef-8185-40ed-bf40-466451ac9531",
   "metadata": {},
   "outputs": [],
   "source": [
    "import numpy as np\n",
    "lists=[1,2,3,4,5]\n",
    "sample_array=np.array(lists)"
   ]
  },
  {
   "cell_type": "code",
   "execution_count": 3,
   "id": "bb9e4e60-d641-46ab-af0f-7eb6a496c2b2",
   "metadata": {},
   "outputs": [
    {
     "name": "stdout",
     "output_type": "stream",
     "text": [
      "List is  [1, 2, 3, 4, 5]\n",
      "array is : [1 2 3 4 5]\n"
     ]
    }
   ],
   "source": [
    "print(\"List is \",lists)\n",
    "print(\"array is :\",sample_array)"
   ]
  },
  {
   "cell_type": "code",
   "execution_count": 4,
   "id": "8d8f5e6b-ec1f-41cf-b2f1-4562bfd71024",
   "metadata": {},
   "outputs": [
    {
     "name": "stdout",
     "output_type": "stream",
     "text": [
      "<class 'type'>\n",
      "<class 'numpy.ndarray'>\n"
     ]
    }
   ],
   "source": [
    "print(type(list))\n",
    "print(type(sample_array))"
   ]
  },
  {
   "cell_type": "markdown",
   "id": "817081d8-cad5-413d-a9cf-c3ffba82b0d6",
   "metadata": {},
   "source": [
    "2 Multi dimensional array\n",
    "\n",
    "a multi dimensional array is more than one dimension dimension such as row and column "
   ]
  },
  {
   "cell_type": "markdown",
   "id": "a3b6e475-ee52-4654-96f9-d9347c4fe82c",
   "metadata": {},
   "source": [
    "in simple term we can call array within an array"
   ]
  },
  {
   "cell_type": "code",
   "execution_count": 9,
   "id": "6a43c43f-4b3c-461b-863b-73d9b9ccb449",
   "metadata": {},
   "outputs": [
    {
     "name": "stdout",
     "output_type": "stream",
     "text": [
      "numpy multi dimensional array in python\n",
      " [[ 1  2  3  4]\n",
      " [ 5  6  7  8]\n",
      " [ 9 10 11 12]]\n"
     ]
    }
   ],
   "source": [
    "import numpy as np\n",
    "list_1=[1,2,3,4]\n",
    "list_2=[5,6,7,8]\n",
    "list_3=[9,8,7,6]\n",
    "smaple_array=np.array([list_1,list_2,list_3])\n",
    "print(\"numpy multi dimensional array in python\\n\",sample_array)"
   ]
  },
  {
   "cell_type": "code",
   "execution_count": 11,
   "id": "0793785b-f229-444b-be8b-e30fe32f9f68",
   "metadata": {},
   "outputs": [
    {
     "name": "stdout",
     "output_type": "stream",
     "text": [
      "Numpy multi dimensional array in python\n",
      " [[ 1  2  3  4]\n",
      " [ 5  6  7  8]\n",
      " [ 9 10 11 12]]\n"
     ]
    }
   ],
   "source": [
    "import numpy as np\n",
    "\n",
    "list_1 = [1, 2, 3, 4]\n",
    "list_2 = [5, 6, 7, 8]\n",
    "list_3 = [9, 10, 11, 12]\n",
    "\n",
    "sample_array = np.array([list_1, \n",
    "                         list_2,\n",
    "                         list_3])\n",
    "print(\"Numpy multi dimensional array in python\\n\",\n",
    "      sample_array)"
   ]
  },
  {
   "cell_type": "markdown",
   "id": "dc7562fe-fdae-49f4-b3a4-1f91a5e8a743",
   "metadata": {},
   "source": [
    "Parameters of a Numpy array"
   ]
  },
  {
   "cell_type": "markdown",
   "id": "5745b986-6dfa-4525-888c-35460e8b9aba",
   "metadata": {},
   "source": [
    "Axis :\n",
    "Axis of array describes the order of indexing into the array "
   ]
  },
  {
   "cell_type": "markdown",
   "id": "cb5d4102-e7f6-41bd-b984-478ff5546de8",
   "metadata": {},
   "source": [
    "Shape : Number of elements along with axis and is returned as a tuple"
   ]
  },
  {
   "cell_type": "code",
   "execution_count": 15,
   "id": "66180aa7-3c57-47b2-8178-32bc4a1e94a9",
   "metadata": {},
   "outputs": [
    {
     "name": "stdout",
     "output_type": "stream",
     "text": [
      "Shape of the array\n",
      " (4, 3)\n"
     ]
    }
   ],
   "source": [
    "arrays=np.array([[1,2,3],[4,5,6],[6,7,8],[9,8,7]])\n",
    "print(\"Shape of the array\\n\",arrays.shape)"
   ]
  },
  {
   "cell_type": "markdown",
   "id": "656f837c-f30e-471f-b542-5854430c7336",
   "metadata": {},
   "source": [
    "Rank : \n",
    "Rank of the array is simply the number of axes or dimensions it has"
   ]
  },
  {
   "cell_type": "code",
   "execution_count": 16,
   "id": "2e330030-2d69-4204-a4a5-c19bb2442a8d",
   "metadata": {},
   "outputs": [],
   "source": [
    "# data type in array (dtype)"
   ]
  },
  {
   "cell_type": "code",
   "execution_count": 19,
   "id": "3889b3a8-a376-432f-821a-a114c62f42a4",
   "metadata": {},
   "outputs": [
    {
     "name": "stdout",
     "output_type": "stream",
     "text": [
      "Data type of the array 1 int32\n",
      "Data type of array 2 float64\n"
     ]
    }
   ],
   "source": [
    "import numpy as np\n",
    "sample_array_1=np.array([[0,4,2]])\n",
    "sample_array_2=np.array([0.2,0.4,0.5])\n",
    "print(\"Data type of the array 1\",sample_array_1.dtype)\n",
    "print(\"Data type of array 2\",sample_array_2.dtype)"
   ]
  },
  {
   "cell_type": "markdown",
   "id": "49a7d4eb-8a32-4519-bbd6-4b015803c0e6",
   "metadata": {},
   "source": [
    "different type of creating array"
   ]
  },
  {
   "cell_type": "code",
   "execution_count": 21,
   "id": "16ee4d55-cb11-46b8-861b-5ce9f724446f",
   "metadata": {},
   "outputs": [
    {
     "name": "stdout",
     "output_type": "stream",
     "text": [
      "array [3 4 5 6]\n"
     ]
    }
   ],
   "source": [
    "# 1.Numpy.array() : numpy array object in numpy called as ndarray\n",
    "import numpy as np\n",
    "arr=np.array([3,4,5,6])\n",
    "print(\"array\",arr)"
   ]
  },
  {
   "cell_type": "code",
   "execution_count": 23,
   "id": "25a20dbd-5ad2-43fa-8b48-b8bd046a6b86",
   "metadata": {},
   "outputs": [
    {
     "name": "stdout",
     "output_type": "stream",
     "text": [
      "['g' 'e' 'e' 'k' 's' 'f' 'o' 'r' 'g' 'e' 'e' 'k' 's']\n"
     ]
    }
   ],
   "source": [
    "var=\"geeksforgeeks\"\n",
    "arr=np.fromiter(var,dtype=\"U2\")\n",
    "print(arr)"
   ]
  },
  {
   "cell_type": "code",
   "execution_count": 24,
   "id": "36777530-fc23-4dbd-8973-858b0a3c6809",
   "metadata": {},
   "outputs": [],
   "source": [
    "# 3 numpy.arange() : this is an inbuilt numpy function that return evenly spaced values within a given interval"
   ]
  },
  {
   "cell_type": "code",
   "execution_count": 25,
   "id": "ea8dc639-ff9c-415d-b763-846241bb1816",
   "metadata": {},
   "outputs": [],
   "source": [
    "#  syntax : numpy.arange(start,stop,step,dtype)"
   ]
  },
  {
   "cell_type": "code",
   "execution_count": 26,
   "id": "1866fe19-0c3d-4c09-8012-f1c604ec99cc",
   "metadata": {},
   "outputs": [
    {
     "data": {
      "text/plain": [
       "array([ 1.,  3.,  5.,  7.,  9., 11., 13., 15., 17., 19.], dtype=float32)"
      ]
     },
     "execution_count": 26,
     "metadata": {},
     "output_type": "execute_result"
    }
   ],
   "source": [
    "import numpy as np\n",
    "np.arange(1,20,2,dtype=np.float32)"
   ]
  },
  {
   "cell_type": "code",
   "execution_count": 27,
   "id": "73a54c06-bca7-4b36-b1ec-0a9aba0385a4",
   "metadata": {},
   "outputs": [],
   "source": [
    "# different ways to create numpy in python"
   ]
  },
  {
   "cell_type": "code",
   "execution_count": 28,
   "id": "2954aa7c-537d-42d4-a05c-756799fafcd6",
   "metadata": {},
   "outputs": [],
   "source": [
    "# 1 creating numpy array by list or tuple"
   ]
  },
  {
   "cell_type": "code",
   "execution_count": 29,
   "id": "1d18cc68-3742-4ed8-a053-3d4dc935c269",
   "metadata": {},
   "outputs": [
    {
     "name": "stdout",
     "output_type": "stream",
     "text": [
      "[1 2 3 4 5]\n"
     ]
    }
   ],
   "source": [
    "lists=[1,2,3,4,5]\n",
    "arr=np.array(lists)\n",
    "print(arr)"
   ]
  },
  {
   "cell_type": "code",
   "execution_count": 32,
   "id": "3cc5f00f-ab65-4724-9d16-7cf00336c58f",
   "metadata": {},
   "outputs": [
    {
     "name": "stdout",
     "output_type": "stream",
     "text": [
      "zeros array \n",
      " [[0. 0. 0.]\n",
      " [0. 0. 0.]]\n",
      "[[1. 1.]] [[2 2 2 2]\n",
      " [2 2 2 2]\n",
      " [2 2 2 2]] [0 2 4 6 8] [0.         0.11111111 0.22222222 0.33333333 0.44444444 0.55555556\n",
      " 0.66666667 0.77777778 0.88888889 1.        ]\n"
     ]
    }
   ],
   "source": [
    "import numpy as np\n",
    "zeros_array=np.zeros((2,3))\n",
    "ones_array=np.ones((1,2))\n",
    "full_array=np.full((3,4),2)\n",
    "arange_array=np.arange(0,10,2)\n",
    "linespace=np.linspace(0,1,10)\n",
    "print(\"zeros array \\n\",zeros_array)\n",
    "print(ones_array,full_array,arange_array,linespace)"
   ]
  },
  {
   "cell_type": "markdown",
   "id": "1024a777-3388-4d0b-a989-c495db5feb54",
   "metadata": {},
   "source": [
    "creating python  numpy using random number generation"
   ]
  },
  {
   "cell_type": "code",
   "execution_count": 33,
   "id": "1079c1ff-f9ef-4d43-ab1a-e75456e7bffd",
   "metadata": {},
   "outputs": [],
   "source": [
    "# np.random.rand(): creates an array of specified shape and fill it with random values sampled from \\\n",
    "# uniform distribution over[0,1]"
   ]
  },
  {
   "cell_type": "code",
   "execution_count": 34,
   "id": "7cc14a2e-5be0-491d-b11a-cfeff10c152f",
   "metadata": {},
   "outputs": [],
   "source": [
    "# np.arandom randn(): creates an array of specified shape and fill it with random values samples from standard normal \n",
    "#distribution"
   ]
  },
  {
   "cell_type": "code",
   "execution_count": 39,
   "id": "0c960df5-8bd2-4662-97ac-fe744dac1792",
   "metadata": {},
   "outputs": [
    {
     "name": "stdout",
     "output_type": "stream",
     "text": [
      "rand\n",
      " [[0.53841994 0.87768515 0.37153695]\n",
      " [0.3223253  0.44018781 0.68030921]]\n",
      "randn\n",
      " [[-0.79861673 -2.71032882 -0.37505715  0.39664812]\n",
      " [ 1.44732805  1.28517843  0.59108031 -0.31515969]\n",
      " [ 0.23573116  1.57131487 -0.17903516  2.15501186]]\n",
      "randint\n",
      " [[1 6 4]\n",
      " [9 2 1]\n",
      " [1 9 5]]\n"
     ]
    }
   ],
   "source": [
    "import numpy as np\n",
    "rand=np.random.rand(2,3)\n",
    "randn=np.random.randn(3,4)\n",
    "randint=np.random.randint(1,10,size=(3,3))\n",
    "print(\"rand\\n\",rand)\n",
    "print(\"randn\\n\",randn)\n",
    "print(\"randint\\n\",randint)"
   ]
  },
  {
   "cell_type": "markdown",
   "id": "63e1939c-ec6f-47cb-be72-70590853382b",
   "metadata": {},
   "source": [
    "creates python numpy array using matrix creation routines "
   ]
  },
  {
   "cell_type": "code",
   "execution_count": 40,
   "id": "46ecc4ab-ddc9-4532-9554-db9851fd5a4c",
   "metadata": {},
   "outputs": [
    {
     "name": "stdout",
     "output_type": "stream",
     "text": [
      "[[1. 0. 0.]\n",
      " [0. 1. 0.]\n",
      " [0. 0. 1.]]\n",
      "[[1 0 0]\n",
      " [0 2 0]\n",
      " [0 0 3]]\n",
      "[[0 0 0]\n",
      " [0 0 0]\n",
      " [0 0 0]]\n",
      "[[1 1 1]\n",
      " [1 1 1]\n",
      " [1 1 1]]\n"
     ]
    }
   ],
   "source": [
    "import numpy as np\n",
    "identity_matrix=np.eye(3)\n",
    "diagonal_matrix=np.diag([1,2,3])\n",
    "zeros_like=np.zeros_like(diagonal_matrix)\n",
    "ones_like=np.ones_like(diagonal_matrix)\n",
    "print(identity_matrix)\n",
    "print(diagonal_matrix)\n",
    "print(zeros_like)\n",
    "print(ones_like)"
   ]
  },
  {
   "cell_type": "markdown",
   "id": "dbb3a51b-eb50-4865-9162-5b20b109dd70",
   "metadata": {},
   "source": [
    "Numpy array indexing"
   ]
  },
  {
   "cell_type": "markdown",
   "id": "fb93a656-1b86-40e5-b835-a0f048ba4637",
   "metadata": {},
   "source": [
    "accessing elements in 1D array"
   ]
  },
  {
   "cell_type": "markdown",
   "id": "19dfd6be-7c1a-4b05-86c2-46326b9c1645",
   "metadata": {},
   "source": [
    "we can access  array start from zero and negative indexing stsrt from -1"
   ]
  },
  {
   "cell_type": "code",
   "execution_count": 41,
   "id": "9c44b9d4-8988-4c8e-972c-c4bf91d3e208",
   "metadata": {},
   "outputs": [
    {
     "name": "stdout",
     "output_type": "stream",
     "text": [
      "1\n"
     ]
    }
   ],
   "source": [
    "import numpy as np\n",
    "arr=np.array([1,2,3,4,5])\n",
    "print(arr[0])"
   ]
  },
  {
   "cell_type": "markdown",
   "id": "5e60c249-71d3-4368-b7bb-1125519d064f",
   "metadata": {},
   "source": [
    "accessing array in multi dimensional array\n",
    "2d array are access by specifying both row and column indexes like : matrix[row,column]"
   ]
  },
  {
   "cell_type": "code",
   "execution_count": 42,
   "id": "e8babcbb-2247-4880-9d02-a3cefd173d7f",
   "metadata": {},
   "outputs": [
    {
     "name": "stdout",
     "output_type": "stream",
     "text": [
      "6\n"
     ]
    }
   ],
   "source": [
    "import numpy as np\n",
    "matrix=np.array([[1,2,3],[4,5,6],[7,8,9]])\n",
    "print(matrix[1,2])"
   ]
  },
  {
   "cell_type": "code",
   "execution_count": 47,
   "id": "5ca5d6b5-8365-4562-8230-ec9c7861833e",
   "metadata": {},
   "outputs": [
    {
     "name": "stdout",
     "output_type": "stream",
     "text": [
      "90\n"
     ]
    }
   ],
   "source": [
    "import numpy as np\n",
    "cube=np.array([[[1,2,3],\n",
    "                [4,5,6],\n",
    "                [7,8,9]],\n",
    "               [[10,20,30],\n",
    "                [40,50,60],\n",
    "                [90,80,70]]])\n",
    "print(cube[1,2,0])"
   ]
  },
  {
   "cell_type": "code",
   "execution_count": 45,
   "id": "3066ab9c-bf04-4e3d-ba8c-6a631e482595",
   "metadata": {},
   "outputs": [
    {
     "name": "stdout",
     "output_type": "stream",
     "text": [
      "16\n"
     ]
    }
   ],
   "source": [
    "import numpy as np\n",
    "\n",
    "cube = np.array([[[1, 2, 3],\n",
    "                  [4, 5, 6],\n",
    "                  [7, 8, 9]],\n",
    "                 \n",
    "                 [[10, 11, 12],\n",
    "                  [13, 14, 15],\n",
    "                  [16, 17, 18]]])\n",
    "\n",
    "print(cube[1, 2, 0])"
   ]
  },
  {
   "cell_type": "markdown",
   "id": "d6939063-c8d3-4646-a47a-98975c193d5a",
   "metadata": {},
   "source": [
    "slicing arrays"
   ]
  },
  {
   "cell_type": "markdown",
   "id": "9f17331e-d9a0-4306-ab4b-ebc2ffcd39ff",
   "metadata": {},
   "source": [
    "It allows us to extract a range of elements using format start:stop:step"
   ]
  },
  {
   "cell_type": "markdown",
   "id": "6f7de25f-5bd1-4c18-91fc-0a821adbae4d",
   "metadata": {},
   "source": [
    "For both single dimensional and multidimensional array its same\n",
    "for both"
   ]
  },
  {
   "cell_type": "code",
   "execution_count": 48,
   "id": "5139903e-f2aa-4ad9-babf-ba4ede8da03c",
   "metadata": {},
   "outputs": [
    {
     "name": "stdout",
     "output_type": "stream",
     "text": [
      "[2 3 4]\n"
     ]
    }
   ],
   "source": [
    "arr=np.array([1,2,3,4,5,6])\n",
    "print(arr[1:4])"
   ]
  },
  {
   "cell_type": "code",
   "execution_count": 49,
   "id": "620a3a21-8849-44ee-a4a9-fda31463490e",
   "metadata": {},
   "outputs": [
    {
     "name": "stdout",
     "output_type": "stream",
     "text": [
      "[[2 3]\n",
      " [5 6]]\n"
     ]
    }
   ],
   "source": [
    "matrix=np.array([[1,2,3],[4,5,6],[7,8,9]])\n",
    "print(matrix[0:2,1:3])"
   ]
  },
  {
   "cell_type": "markdown",
   "id": "680a6ed2-3e8f-4f3a-8de1-b4a761fe70a2",
   "metadata": {},
   "source": [
    "Boolean indexing : it allows us to filter an array based on a condition and return only those that mett it"
   ]
  },
  {
   "cell_type": "code",
   "execution_count": 51,
   "id": "fcfb7c71-70fb-4c09-96f0-ca5225f2991f",
   "metadata": {},
   "outputs": [
    {
     "name": "stdout",
     "output_type": "stream",
     "text": [
      "[4 5 6]\n"
     ]
    }
   ],
   "source": [
    "print(arr[arr>3])"
   ]
  },
  {
   "cell_type": "code",
   "execution_count": 54,
   "id": "53bccae2-7753-436c-89ac-c933c2f91c9a",
   "metadata": {},
   "outputs": [
    {
     "name": "stdout",
     "output_type": "stream",
     "text": [
      "[3 4]\n"
     ]
    }
   ],
   "source": [
    "print(arr[(arr>2) & (arr<5)])"
   ]
  },
  {
   "cell_type": "markdown",
   "id": "a4916618-4fb9-45db-814e-6fdbc8a3e17d",
   "metadata": {},
   "source": [
    "fancy indexing : it is also called as advanced indexing it pick an elment from different position"
   ]
  },
  {
   "cell_type": "code",
   "execution_count": 55,
   "id": "734ab437-af25-4e1f-a984-bc40393e49a3",
   "metadata": {},
   "outputs": [
    {
     "name": "stdout",
     "output_type": "stream",
     "text": [
      "[1 3 4]\n"
     ]
    }
   ],
   "source": [
    "indexes=[0,2,3]\n",
    "print(arr[indexes])"
   ]
  },
  {
   "cell_type": "code",
   "execution_count": 56,
   "id": "e0362779-3258-4dd1-bff1-7655eff195d2",
   "metadata": {},
   "outputs": [],
   "source": [
    "# reshape numpy array"
   ]
  },
  {
   "cell_type": "code",
   "execution_count": 1,
   "id": "cc3d0f75-24aa-4de6-8ea8-d0a2bc03f169",
   "metadata": {},
   "outputs": [],
   "source": [
    "# Numpy array is a general purpose array -processing package .It provides high performance multidimensional array object and tool for \n",
    "#working these arrays objects "
   ]
  },
  {
   "cell_type": "markdown",
   "id": "54e18145-e1b4-4a5d-9816-7ba68a53dc22",
   "metadata": {},
   "source": [
    "reshape an array using N and M "
   ]
  },
  {
   "cell_type": "code",
   "execution_count": 28,
   "id": "deac6bf7-9280-4264-9afb-34199510130a",
   "metadata": {},
   "outputs": [
    {
     "name": "stdout",
     "output_type": "stream",
     "text": [
      "array\n",
      " [1 2 3 4 5 6 7 8 9]\n"
     ]
    }
   ],
   "source": [
    "import numpy as np\n",
    "arr=np.array([1,2,3,4,5,6,7,8,9])\n",
    "print(\"array\\n\",arr)"
   ]
  },
  {
   "cell_type": "code",
   "execution_count": 29,
   "id": "1ac6b99c-dddb-4543-8f95-b46bb6b479ab",
   "metadata": {},
   "outputs": [
    {
     "name": "stdout",
     "output_type": "stream",
     "text": [
      "9\n"
     ]
    }
   ],
   "source": [
    "n=arr.size\n",
    "print(n)"
   ]
  },
  {
   "cell_type": "code",
   "execution_count": 30,
   "id": "e09d4998-dc2e-4b27-8578-375c121f0ae7",
   "metadata": {},
   "outputs": [],
   "source": [
    "N=3\n"
   ]
  },
  {
   "cell_type": "code",
   "execution_count": 31,
   "id": "5ccc1ab7-0875-4e28-94b8-b7dfd6dc13a0",
   "metadata": {},
   "outputs": [],
   "source": [
    "M=n/N"
   ]
  },
  {
   "cell_type": "code",
   "execution_count": 33,
   "id": "0f2fe463-d894-49a4-8a2b-c5201212b31f",
   "metadata": {},
   "outputs": [
    {
     "ename": "TypeError",
     "evalue": "'float' object cannot be interpreted as an integer",
     "output_type": "error",
     "traceback": [
      "\u001b[1;31m---------------------------------------------------------------------------\u001b[0m",
      "\u001b[1;31mTypeError\u001b[0m                                 Traceback (most recent call last)",
      "Cell \u001b[1;32mIn[33], line 1\u001b[0m\n\u001b[1;32m----> 1\u001b[0m reshaped_arr\u001b[38;5;241m=\u001b[39m\u001b[43marr\u001b[49m\u001b[38;5;241;43m.\u001b[39;49m\u001b[43mreshape\u001b[49m\u001b[43m(\u001b[49m\u001b[43m(\u001b[49m\u001b[43mN\u001b[49m\u001b[43m,\u001b[49m\u001b[43mM\u001b[49m\u001b[43m)\u001b[49m\u001b[43m)\u001b[49m\n",
      "\u001b[1;31mTypeError\u001b[0m: 'float' object cannot be interpreted as an integer"
     ]
    }
   ],
   "source": [
    "reshaped_arr=arr.reshape((N,M))"
   ]
  },
  {
   "cell_type": "code",
   "execution_count": 35,
   "id": "8e4ae99b-9e69-459c-9e17-613b26575a45",
   "metadata": {},
   "outputs": [],
   "source": [
    "import numpy as np\n",
    "arr=np.array([1,2,3,4,5,6])\n",
    "arr.resize(3,3)"
   ]
  },
  {
   "cell_type": "code",
   "execution_count": 36,
   "id": "ca4dd47e-ddab-4733-9178-76abbbe50708",
   "metadata": {},
   "outputs": [
    {
     "name": "stdout",
     "output_type": "stream",
     "text": [
      "[[1 2 3]\n",
      " [4 5 6]\n",
      " [0 0 0]]\n"
     ]
    }
   ],
   "source": [
    "print(arr)"
   ]
  },
  {
   "cell_type": "code",
   "execution_count": 37,
   "id": "5f457c0b-7f18-4855-bae3-f7c7d0f1ca18",
   "metadata": {},
   "outputs": [
    {
     "name": "stdout",
     "output_type": "stream",
     "text": [
      "[[1 2]\n",
      " [3 4]\n",
      " [5 6]]\n"
     ]
    }
   ],
   "source": [
    "arr.resize(3,2)\n",
    "print(arr)"
   ]
  },
  {
   "cell_type": "code",
   "execution_count": 42,
   "id": "3fe073c0-7d85-4842-a0ba-067b2ff6b641",
   "metadata": {},
   "outputs": [
    {
     "name": "stdout",
     "output_type": "stream",
     "text": [
      "[array([1, 2]), array([3, 4]), array([5, 6])]\n"
     ]
    }
   ],
   "source": [
    "#array split\n",
    "import numpy as np\n",
    "arr=np.array([1,2,3,4,5,6])\n",
    "array=np.array_split(arr,3)\n",
    "print(array)"
   ]
  },
  {
   "cell_type": "code",
   "execution_count": 40,
   "id": "a8bc76b2-b4c2-4ab2-bf7a-481236657019",
   "metadata": {},
   "outputs": [],
   "source": [
    "# splitting array into piecses equally using numpy.split()"
   ]
  },
  {
   "cell_type": "code",
   "execution_count": 43,
   "id": "70889250-8029-4e7b-a257-9bb2a148a598",
   "metadata": {},
   "outputs": [
    {
     "name": "stdout",
     "output_type": "stream",
     "text": [
      "[array([1, 2, 3]), array([4, 5, 6])]\n"
     ]
    }
   ],
   "source": [
    "array=np.split(arr,2)\n",
    "print(array)"
   ]
  },
  {
   "cell_type": "code",
   "execution_count": 44,
   "id": "d2fd97d3-9dea-4270-8eb0-275f8e95a45b",
   "metadata": {},
   "outputs": [],
   "source": [
    "#unequal split of an array using numpy.array_split()"
   ]
  },
  {
   "cell_type": "code",
   "execution_count": 45,
   "id": "7a513075-d653-4b4e-8be0-22a040e1290b",
   "metadata": {},
   "outputs": [
    {
     "name": "stdout",
     "output_type": "stream",
     "text": [
      "[ 0  1  2  3  4  5  6  7  8  9 10 11 12]\n"
     ]
    }
   ],
   "source": [
    "import numpy as np\n",
    "array=np.arange(13)\n",
    "result=np.array_split(array,4)\n",
    "print(array)"
   ]
  },
  {
   "cell_type": "code",
   "execution_count": 46,
   "id": "ec7301e5-7a93-48b1-b2d1-becab8b7e1f7",
   "metadata": {},
   "outputs": [
    {
     "name": "stdout",
     "output_type": "stream",
     "text": [
      "[array([0, 1, 2, 3]), array([4, 5, 6]), array([7, 8, 9]), array([10, 11, 12])]\n"
     ]
    }
   ],
   "source": [
    "print(result)"
   ]
  },
  {
   "cell_type": "code",
   "execution_count": 47,
   "id": "d0eb2b16-985e-461d-aa99-da7496d1d548",
   "metadata": {},
   "outputs": [],
   "source": [
    "# splitting of an array with an axis "
   ]
  },
  {
   "cell_type": "code",
   "execution_count": 50,
   "id": "1ff18c98-1689-4b9e-bd8f-088725861fcf",
   "metadata": {},
   "outputs": [
    {
     "name": "stdout",
     "output_type": "stream",
     "text": [
      "2D Array:\n",
      "[[3 2 1]\n",
      " [8 9 7]\n",
      " [4 6 5]]\n",
      "\n",
      "Result after numpy.split() along axis=1:\n",
      "[array([[3],\n",
      "       [8],\n",
      "       [4]]), array([[2],\n",
      "       [9],\n",
      "       [6]]), array([[1],\n",
      "       [7],\n",
      "       [5]])]\n"
     ]
    }
   ],
   "source": [
    "import numpy as np\n",
    "\n",
    "# Creating a 2D array\n",
    "array = np.array([[3, 2, 1], [8, 9, 7], [4, 6, 5]])\n",
    "\n",
    "# Splitting the array into 3 equal parts along the second axis (axis=1)\n",
    "result = np.split(array, 3, axis=1)\n",
    "\n",
    "print(\"2D Array:\")\n",
    "print(array)\n",
    "print(\"\\nResult after numpy.split() along axis=1:\")\n",
    "print(result)"
   ]
  },
  {
   "cell_type": "code",
   "execution_count": 51,
   "id": "aa330a18-1ee8-43e7-9edd-93435f209167",
   "metadata": {},
   "outputs": [],
   "source": [
    "matrix = np.array([[1, 2, 3],\n",
    "                            [4, 5, 6],\n",
    "                            [7, 8, 9],\n",
    "                            [10, 11, 12]])\n",
    "result=np.vsplit(matrix,2)"
   ]
  },
  {
   "cell_type": "code",
   "execution_count": 52,
   "id": "4a8d837c-94c1-4029-975c-5a311e1799c2",
   "metadata": {},
   "outputs": [
    {
     "name": "stdout",
     "output_type": "stream",
     "text": [
      "[array([[1, 2, 3],\n",
      "       [4, 5, 6]]), array([[ 7,  8,  9],\n",
      "       [10, 11, 12]])]\n"
     ]
    }
   ],
   "source": [
    "print(result)"
   ]
  },
  {
   "cell_type": "code",
   "execution_count": 56,
   "id": "e393046d-c189-4cb9-a10d-d00acb055381",
   "metadata": {},
   "outputs": [
    {
     "name": "stdout",
     "output_type": "stream",
     "text": [
      "[  7  77  23 130]\n",
      "[ 3 67  3 70]\n",
      "[  10  360  130 3000]\n",
      "[ 2.5        14.4         1.3         3.33333333]\n",
      "[ 1  2  3 10]\n"
     ]
    }
   ],
   "source": [
    "a = np.array([5, 72, 13, 100])\n",
    "b = np.array([2, 5, 10, 30])\n",
    "add=np.add(a,b)\n",
    "sub=np.subtract(a,b)\n",
    "multiply=np.multiply(a,b)\n",
    "division=np.divide(a,b)\n",
    "exponential=np.power(a,b)\n",
    "modulas=np.mod(a,b)\n",
    "print(add)\n",
    "print(sub)\n",
    "print(multiply)\n",
    "print(division)\n",
    "print(modulas)"
   ]
  },
  {
   "cell_type": "code",
   "execution_count": 58,
   "id": "568fb535-53dc-4af6-b1ee-0c4488bd8c5c",
   "metadata": {},
   "outputs": [
    {
     "name": "stdout",
     "output_type": "stream",
     "text": [
      "10\n"
     ]
    }
   ],
   "source": [
    "import numpy as np\n",
    "\n",
    "input_1=10\n",
    "input_2=20\n",
    "out=np.minimum(input_1,input_2)\n",
    "print(out)"
   ]
  },
  {
   "cell_type": "code",
   "execution_count": 63,
   "id": "682f6d48-84dc-43f4-98bb-8a4b72b8cef8",
   "metadata": {},
   "outputs": [],
   "source": [
    "inp_1=[10,890,45]\n",
    "inp_2=[2,0,np.nan]\n",
    "result=np.minimum(inp_1,inp_2)"
   ]
  },
  {
   "cell_type": "code",
   "execution_count": 64,
   "id": "0915e4a3-3e3a-4ebd-909c-538240db5ccb",
   "metadata": {},
   "outputs": [
    {
     "name": "stdout",
     "output_type": "stream",
     "text": [
      "[ 2.  0. nan]\n"
     ]
    }
   ],
   "source": [
    "print(result)"
   ]
  },
  {
   "cell_type": "code",
   "execution_count": 65,
   "id": "854e5d31-a472-4c34-8a43-17e27b342040",
   "metadata": {},
   "outputs": [
    {
     "name": "stdout",
     "output_type": "stream",
     "text": [
      "[ 10. 890.  nan]\n"
     ]
    }
   ],
   "source": [
    "result=np.maximum(inp_1,inp_2)\n",
    "print(result)"
   ]
  },
  {
   "cell_type": "code",
   "execution_count": 69,
   "id": "90d757c7-db93-4eea-b2b4-5127eb64159f",
   "metadata": {},
   "outputs": [],
   "source": [
    "arr = [[14, 17, 12, 33, 44],  \n",
    "       [15, 6, 27, 8, 19], \n",
    "       [23, 2, 54, 1, 4, ]] \n"
   ]
  },
  {
   "cell_type": "code",
   "execution_count": 73,
   "id": "bcb6f652-bc75-44d8-81d0-355ecb86cdf5",
   "metadata": {},
   "outputs": [
    {
     "name": "stdout",
     "output_type": "stream",
     "text": [
      "[24.  15.  16.8]\n"
     ]
    }
   ],
   "source": [
    "print(np.mean(arr,axis=1))"
   ]
  },
  {
   "cell_type": "code",
   "execution_count": 74,
   "id": "b3992eed-0e91-4d35-b343-4dccdc098ae7",
   "metadata": {},
   "outputs": [
    {
     "name": "stdout",
     "output_type": "stream",
     "text": [
      "[[1 4]\n",
      " [2 5]\n",
      " [3 6]]\n"
     ]
    }
   ],
   "source": [
    "#transpose of matrix \n",
    "my_array=np.array([[1,2,3],[4,5,6]])\n",
    "print(np.transpose(my_array))"
   ]
  },
  {
   "cell_type": "code",
   "execution_count": 76,
   "id": "b033d6bb-354c-447c-b13e-7a7a25516344",
   "metadata": {},
   "outputs": [
    {
     "data": {
      "text/plain": [
       "array([1, 2, 3, 4, 5, 6])"
      ]
     },
     "execution_count": 76,
     "metadata": {},
     "output_type": "execute_result"
    }
   ],
   "source": [
    "my_array.flatten()"
   ]
  },
  {
   "cell_type": "markdown",
   "id": "b8c53e8c-5934-48df-aee3-7e763ce223da",
   "metadata": {},
   "source": [
    "Task\n",
    "\n",
    "You are given a X integer array matrix with space separated elements ( = rows and  = columns).\n",
    "Your task is to print the transpose and flatten results.\n",
    "\n",
    "Input Format\n",
    "\n",
    "The first line contains the space separated values of  and .\n",
    "The next  lines contains the space separated elements of  columns.\n",
    "\n",
    "Output Format\n",
    "\n",
    "First, print the transpose array and then print the flatten."
   ]
  },
  {
   "cell_type": "code",
   "execution_count": 78,
   "id": "a4a40d5f-fa64-40a2-a44e-63566179b548",
   "metadata": {},
   "outputs": [
    {
     "name": "stdin",
     "output_type": "stream",
     "text": [
      " 3 3 \n",
      " 4 5\n",
      " 2 3\n",
      " 3 4\n"
     ]
    },
    {
     "name": "stdout",
     "output_type": "stream",
     "text": [
      "[[4 2 3]\n",
      " [5 3 4]]\n",
      "[4 5 2 3 3 4]\n"
     ]
    }
   ],
   "source": [
    "import numpy\n",
    "\n",
    "# Read N and M\n",
    "N, M = map(int, input().strip().split())\n",
    "\n",
    "# Read N lines of input, each with M numbers\n",
    "arr = numpy.array([input().strip().split() for _ in range(N)], int)\n",
    "\n",
    "# Print transpose\n",
    "print(numpy.transpose(arr))\n",
    "\n",
    "# Print flatten\n",
    "print(arr.flatten())\n"
   ]
  },
  {
   "cell_type": "code",
   "execution_count": null,
   "id": "83daf286-0fe7-4ded-81d7-6c1b7af45de7",
   "metadata": {},
   "outputs": [],
   "source": []
  }
 ],
 "metadata": {
  "kernelspec": {
   "display_name": "Python 3 (ipykernel)",
   "language": "python",
   "name": "python3"
  },
  "language_info": {
   "codemirror_mode": {
    "name": "ipython",
    "version": 3
   },
   "file_extension": ".py",
   "mimetype": "text/x-python",
   "name": "python",
   "nbconvert_exporter": "python",
   "pygments_lexer": "ipython3",
   "version": "3.12.2"
  }
 },
 "nbformat": 4,
 "nbformat_minor": 5
}
