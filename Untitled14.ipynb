{
 "cells": [
  {
   "cell_type": "code",
   "execution_count": 1,
   "id": "2cfc5c4b-6057-4408-b99c-78f71ff30e28",
   "metadata": {},
   "outputs": [],
   "source": [
    "import random"
   ]
  },
  {
   "cell_type": "code",
   "execution_count": 2,
   "id": "75eb3e3c-ef1e-4c39-852f-dcfe6a66dcd8",
   "metadata": {},
   "outputs": [
    {
     "name": "stdout",
     "output_type": "stream",
     "text": [
      "0.30255272154485835\n"
     ]
    }
   ],
   "source": [
    "print(random.random())"
   ]
  },
  {
   "cell_type": "code",
   "execution_count": 3,
   "id": "9213822c-70f0-472e-91e4-49af1c6d64a2",
   "metadata": {},
   "outputs": [
    {
     "name": "stdout",
     "output_type": "stream",
     "text": [
      "3\n"
     ]
    }
   ],
   "source": [
    "#to generate random number between 1 to 10\n",
    "print(random.randint(1,10))"
   ]
  },
  {
   "cell_type": "code",
   "execution_count": 4,
   "id": "002d9a71-a155-40ac-a3aa-dcf29cab2dd7",
   "metadata": {},
   "outputs": [
    {
     "name": "stdout",
     "output_type": "stream",
     "text": [
      "23.59865103089102\n"
     ]
    }
   ],
   "source": [
    "#to generate  random value with float\n",
    "print(random.uniform(1,30))"
   ]
  },
  {
   "cell_type": "code",
   "execution_count": 6,
   "id": "78b4d1c3-35a9-4f5f-9564-f5000e834adc",
   "metadata": {},
   "outputs": [
    {
     "name": "stdout",
     "output_type": "stream",
     "text": [
      "red\n"
     ]
    }
   ],
   "source": [
    "color=[\"red\",\"blue\",\"green\"]\n",
    "print(random.choice(color))\n"
   ]
  },
  {
   "cell_type": "code",
   "execution_count": null,
   "id": "9d409991-bcc5-4c3a-85f9-f04ec9a77868",
   "metadata": {},
   "outputs": [],
   "source": [
    "#write a python pgm that simulates the behaviour of a magic 8 ball\n",
    "#the pgm should prompt user to ask yes or No\n",
    "# after user enter tjhe question the pgm should \n",
    "#randomly provide one several possible responses such as \"yes\"\n",
    "#\"no\" \"maybe\" ,\"ask again later\",\"Definitely NOt\",or \"yes but with caution\"\n",
    "#the program should then display the chosen response to the user ,offering the fun and interactive experience similar to using \n",
    "#an actual Magic 8 ball\n",
    "random_answer=[\"yes\",\"no\",\"maybe\",\"ask again later\",\"definately not\",\"yes but with caution\"]\n",
    "while True:\n",
    "    question=input(\"enter a question enter 'quit' to exit\")\n",
    "    if question=='quit':\n",
    "        print(\"good bye\")\n",
    "        break\n",
    "    else:\n",
    "        print(random.choice(random_answer))\n",
    "\n",
    "\n"
   ]
  },
  {
   "cell_type": "code",
   "execution_count": null,
   "id": "eb425a2a-359e-4811-96b5-ba9af5da6331",
   "metadata": {},
   "outputs": [],
   "source": []
  }
 ],
 "metadata": {
  "kernelspec": {
   "display_name": "Python 3 (ipykernel)",
   "language": "python",
   "name": "python3"
  },
  "language_info": {
   "codemirror_mode": {
    "name": "ipython",
    "version": 3
   },
   "file_extension": ".py",
   "mimetype": "text/x-python",
   "name": "python",
   "nbconvert_exporter": "python",
   "pygments_lexer": "ipython3",
   "version": "3.12.2"
  }
 },
 "nbformat": 4,
 "nbformat_minor": 5
}
