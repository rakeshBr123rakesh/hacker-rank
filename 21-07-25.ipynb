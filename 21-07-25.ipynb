{
 "cells": [
  {
   "cell_type": "markdown",
   "id": "e151468c-0254-4f85-b229-b1f18515210b",
   "metadata": {},
   "source": [
    "vectorization in numpy is a method of performing operations on entire array without explicit loops we can significantly optimize performance in data analysis,machine learning and scientific computing "
   ]
  },
  {
   "cell_type": "code",
   "execution_count": 1,
   "id": "7a11b0ce-c4d9-494d-935d-0443323ad8a4",
   "metadata": {},
   "outputs": [
    {
     "name": "stdout",
     "output_type": "stream",
     "text": [
      "[ 4  6  8 10]\n"
     ]
    }
   ],
   "source": [
    "import numpy as np\n",
    "vector=np.array([2,4,6,8])\n",
    "number=2\n",
    "result=vector+number\n",
    "print(result)\n",
    "                "
   ]
  },
  {
   "cell_type": "markdown",
   "id": "3bb12e18-1713-4980-a20a-b9446df49c67",
   "metadata": {},
   "source": [
    "why vectorization\n",
    "\n",
    "improves performance\n",
    "\n",
    "simplifies code\n",
    "\n",
    "support scalability"
   ]
  },
  {
   "cell_type": "code",
   "execution_count": 2,
   "id": "4f30200a-8917-4f22-b4c3-07dfe0082c6e",
   "metadata": {},
   "outputs": [
    {
     "name": "stdout",
     "output_type": "stream",
     "text": [
      "[ 9 11 13  5]\n"
     ]
    }
   ],
   "source": [
    "# adding two arrays with vectorization\n",
    "\n",
    "a1=np.array([2,3,4,5])\n",
    "a2=np.array([7,8,9,0])\n",
    "result=a1+a2\n",
    "print(result)"
   ]
  },
  {
   "cell_type": "code",
   "execution_count": 3,
   "id": "c0a60708-9db8-496f-8c55-c3167c4c8cdf",
   "metadata": {},
   "outputs": [
    {
     "name": "stdout",
     "output_type": "stream",
     "text": [
      "[ 4  6  8 10]\n"
     ]
    }
   ],
   "source": [
    "# element wise multiplication with array\n",
    "result=a1*2\n",
    "print(result)"
   ]
  },
  {
   "cell_type": "code",
   "execution_count": 4,
   "id": "4bf1a884-0049-47b0-b831-1c1a067ca372",
   "metadata": {},
   "outputs": [
    {
     "name": "stdout",
     "output_type": "stream",
     "text": [
      "[False False  True False]\n"
     ]
    }
   ],
   "source": [
    "# logical operation on arrays\n",
    "result=a2>8\n",
    "print(result)"
   ]
  },
  {
   "cell_type": "code",
   "execution_count": 5,
   "id": "3b30a8fa-c42f-4cbe-bd57-ca8b5595a176",
   "metadata": {},
   "outputs": [
    {
     "name": "stdout",
     "output_type": "stream",
     "text": [
      "[[23 10]\n",
      " [51 26]]\n"
     ]
    }
   ],
   "source": [
    "# matrix operations using vectorization \n",
    "a1=np.array([[1,2],[3,4]])\n",
    "a2=np.array([[5,6],[9,2]])\n",
    "result=np.dot(a1,a2)\n",
    "print(result)"
   ]
  },
  {
   "cell_type": "code",
   "execution_count": 7,
   "id": "aed48e99-75c0-4c25-b100-e9273f85a392",
   "metadata": {},
   "outputs": [
    {
     "name": "stdout",
     "output_type": "stream",
     "text": [
      "[ 4  9 16 25]\n"
     ]
    }
   ],
   "source": [
    "# applying custom function with numpy vectorize() function \n",
    "import numpy as np\n",
    "def custom_func(x):\n",
    "    return x**2+2*x+1\n",
    "\n",
    "a1=np.array([1,2,3,4])\n",
    "result=custom_func(a1)\n",
    "print(result)"
   ]
  },
  {
   "cell_type": "code",
   "execution_count": 8,
   "id": "a3597c5b-b43b-4956-9de3-f912883f583f",
   "metadata": {},
   "outputs": [],
   "source": [
    "# vectorization for aggregation operation"
   ]
  },
  {
   "cell_type": "code",
   "execution_count": 9,
   "id": "b1879cd9-6507-47a6-ace4-80be4477e4fb",
   "metadata": {},
   "outputs": [
    {
     "name": "stdout",
     "output_type": "stream",
     "text": [
      "14\n",
      "3.5\n"
     ]
    }
   ],
   "source": [
    "import numpy as np\n",
    "a1=np.array([2,3,4,5])\n",
    "summ=a1.sum()\n",
    "mean=a1.mean()\n",
    "print(summ)\n",
    "print(mean)"
   ]
  },
  {
   "cell_type": "markdown",
   "id": "8c4cee8f-67b8-4774-b154-5cb5059c9b1d",
   "metadata": {},
   "source": [
    "Numpy array broadcasting "
   ]
  },
  {
   "cell_type": "markdown",
   "id": "b1111803-e26b-4a86-933b-f97300c3fd33",
   "metadata": {},
   "source": [
    "Broadcasting in numpy allows to perform arthematic operation on arrays of different sizes and shape swithout replacing it"
   ]
  },
  {
   "cell_type": "code",
   "execution_count": 12,
   "id": "5f0c5bdc-d69c-4594-ab02-42538309d2b0",
   "metadata": {},
   "outputs": [
    {
     "name": "stdout",
     "output_type": "stream",
     "text": [
      "[4 5 6 7]\n"
     ]
    }
   ],
   "source": [
    "# broadcasting with 1D array\n",
    "arr=np.array([2,3,4,5])\n",
    "scalar=2\n",
    "result=arr+scalar\n",
    "print(result)"
   ]
  },
  {
   "cell_type": "code",
   "execution_count": 13,
   "id": "202c00f5-74a8-4ff9-8a34-1b059ab55943",
   "metadata": {},
   "outputs": [
    {
     "name": "stdout",
     "output_type": "stream",
     "text": [
      "[[ 4  6  8]\n",
      " [11  8 10]]\n"
     ]
    }
   ],
   "source": [
    "# broadcasting with 2D array\n",
    "a1=np.array([[2,3,4],[9,5,6]])\n",
    "a2=np.array([2,3,4])\n",
    "result=a1+a2\n",
    "print(result)"
   ]
  },
  {
   "cell_type": "code",
   "execution_count": 14,
   "id": "3172e1c2-98b3-453a-80db-e2ea36739dd1",
   "metadata": {},
   "outputs": [],
   "source": [
    "# Broadcasting in conditional opearations"
   ]
  },
  {
   "cell_type": "code",
   "execution_count": 16,
   "id": "d7ed4896-4c64-4bc0-a661-d33715c6c288",
   "metadata": {},
   "outputs": [
    {
     "name": "stdout",
     "output_type": "stream",
     "text": [
      "['Minor' 'adult' 'adult' 'adult' 'adult']\n"
     ]
    }
   ],
   "source": [
    "#we may need to apply a condition to an entire array or subset of it >broadcasting ca n help to\n",
    "#perform these opeartion efficiently without loops\n",
    "\n",
    "ages=np.array([10,20,30,40,70])\n",
    "age_group=np.array([\"adult\",\"Minor\"])\n",
    "result=np.where(ages>18,age_group[0],age_group[1])\n",
    "print(result)"
   ]
  },
  {
   "cell_type": "code",
   "execution_count": 17,
   "id": "1ceddb88-3065-4b9e-9420-42f805edefc9",
   "metadata": {},
   "outputs": [],
   "source": [
    "# broadcasting for matrix multiplication"
   ]
  },
  {
   "cell_type": "code",
   "execution_count": 18,
   "id": "cb09c7fe-31f0-48eb-a652-68394dcc1dc5",
   "metadata": {},
   "outputs": [
    {
     "name": "stdout",
     "output_type": "stream",
     "text": [
      "[[ 4  9 16]\n",
      " [18 15 24]]\n"
     ]
    }
   ],
   "source": [
    "result=a1*a2\n",
    "print(result)"
   ]
  },
  {
   "cell_type": "code",
   "execution_count": 19,
   "id": "b5174dc2-7c20-4e15-b2d6-3e8851b77ef0",
   "metadata": {},
   "outputs": [
    {
     "name": "stdout",
     "output_type": "stream",
     "text": [
      "[[  2.4   8.7  31.2]\n",
      " [157.2  70.8 292. ]\n",
      " [165.6  95.1 191.2]\n",
      " [ 43.2  33.   39.2]]\n"
     ]
    }
   ],
   "source": [
    "# scaling data with broadcasting \n",
    "food_data = np.array([[0.8, 2.9, 3.9], \n",
    "                      [52.4, 23.6, 36.5],\n",
    "                      [55.2, 31.7, 23.9],\n",
    "                      [14.4, 11, 4.9]])\n",
    "\n",
    "calories_values=np.array([3,3,8])\n",
    "calories_breakdown=food_data*calories_values\n",
    "print(calories_breakdown)"
   ]
  },
  {
   "cell_type": "markdown",
   "id": "65fe46c0-ef31-4e83-8c96-cea2f35924a8",
   "metadata": {},
   "source": [
    "Normalizing image "
   ]
  },
  {
   "cell_type": "code",
   "execution_count": 21,
   "id": "98223a01-d422-4850-bd81-ce07f2376460",
   "metadata": {},
   "outputs": [
    {
     "name": "stdout",
     "output_type": "stream",
     "text": [
      "[[ 1.22474487  1.22474487  0.        ]\n",
      " [ 0.          0.          1.22474487]\n",
      " [-1.22474487 -1.22474487 -1.22474487]]\n"
     ]
    }
   ],
   "source": [
    "image = np.array([\n",
    "    [100, 120, 130],\n",
    "    [90, 110, 140],\n",
    "    [80, 100, 120]\n",
    "])\n",
    "\n",
    "mean=image.mean(axis=0)\n",
    "std=image.std(axis=0)\n",
    "nor_img=(image-mean)/std\n",
    "print(nor_img)"
   ]
  },
  {
   "cell_type": "markdown",
   "id": "4edc00ca-4956-4c0d-b4c2-ec88976eb181",
   "metadata": {},
   "source": [
    "sparse matrix with scipy"
   ]
  },
  {
   "cell_type": "markdown",
   "id": "00028998-bb7b-4010-8157-38cea2bab4e3",
   "metadata": {},
   "source": [
    "if most of the elements of the matrix have 0 values then it is called as sparse matrix"
   ]
  },
  {
   "cell_type": "markdown",
   "id": "32698fdf-64f9-434b-bb21-9475509552de",
   "metadata": {},
   "source": [
    "benefits :\n",
    "\n",
    "storage \n",
    "\n",
    "\n",
    "computing time"
   ]
  },
  {
   "cell_type": "markdown",
   "id": "c5e92b54-059c-4edb-b72e-48eeef4fd807",
   "metadata": {},
   "source": [
    "0 0 3 0 4            \n",
    "0 0 5 7 0\n",
    "0 0 0 0 0\n",
    "0 2 6 0 0\n",
    "\n",
    "instead of storing non-zero elements with triples-(Row,column,value)"
   ]
  },
  {
   "cell_type": "markdown",
   "id": "2f6062f3-e8a4-406c-9d40-844d421d21c8",
   "metadata": {},
   "source": [
    "sparse matrix with scipy"
   ]
  },
  {
   "cell_type": "markdown",
   "id": "98afa0ad-76b8-424a-b387-4ddfca497b97",
   "metadata": {},
   "source": [
    "scipy.sparse module in python provides efficient wya to store and work with large sparse matrix using various formats"
   ]
  },
  {
   "cell_type": "markdown",
   "id": "f7c7718e-17a6-48c6-969a-4c97b330a2b1",
   "metadata": {},
   "source": [
    "create sparse matrix with scipy"
   ]
  },
  {
   "cell_type": "code",
   "execution_count": 22,
   "id": "ffd5dcea-7e71-46ab-b075-46fae836b1bf",
   "metadata": {},
   "outputs": [],
   "source": [
    "# csr matrix\n",
    "from scipy.sparse import csr_matrix"
   ]
  },
  {
   "cell_type": "code",
   "execution_count": 23,
   "id": "b469efde-6534-4fc1-8dcf-4f62bf3f8626",
   "metadata": {},
   "outputs": [],
   "source": [
    "import numpy as np"
   ]
  },
  {
   "cell_type": "code",
   "execution_count": 24,
   "id": "42932786-320a-4c60-9049-a1685570bf1d",
   "metadata": {},
   "outputs": [],
   "source": [
    "d = np.array([3, 4, 5, 7, 2, 6])     # data\n",
    "r = np.array([0, 0, 1, 1, 3, 3])     # rows\n",
    "c = np.array([2, 4, 2, 3, 1, 2])"
   ]
  },
  {
   "cell_type": "code",
   "execution_count": 25,
   "id": "2c746d0a-027c-4366-8828-d934654067dc",
   "metadata": {},
   "outputs": [
    {
     "name": "stdout",
     "output_type": "stream",
     "text": [
      "[[0 0 3 0 4]\n",
      " [0 0 5 7 0]\n",
      " [0 0 0 0 0]\n",
      " [0 2 6 0 0]]\n"
     ]
    }
   ],
   "source": [
    "csr=csr_matrix((d,(r,c)),shape=(4,5))\n",
    "print(csr.toarray())"
   ]
  },
  {
   "cell_type": "code",
   "execution_count": 27,
   "id": "63707672-5309-4105-9f75-424bf491ecda",
   "metadata": {},
   "outputs": [],
   "source": [
    "csr=csr_matrix((d,(r,c)),shape=(4,5))"
   ]
  },
  {
   "cell_type": "code",
   "execution_count": 28,
   "id": "23a34c4c-7828-4591-8f9a-1b27de94a348",
   "metadata": {},
   "outputs": [
    {
     "name": "stdout",
     "output_type": "stream",
     "text": [
      "[[0 0 3 0 4]\n",
      " [0 0 5 7 0]\n",
      " [0 0 0 0 0]\n",
      " [0 2 6 0 0]]\n"
     ]
    }
   ],
   "source": [
    "print(csr.toarray())"
   ]
  },
  {
   "cell_type": "code",
   "execution_count": 29,
   "id": "3ef018a0-8878-449d-8cbf-cb8525d5e214",
   "metadata": {},
   "outputs": [],
   "source": [
    "from scipy.sparse import csc_matrix"
   ]
  },
  {
   "cell_type": "code",
   "execution_count": 31,
   "id": "5effb67b-d2da-4b01-8f01-531c1d85ed92",
   "metadata": {},
   "outputs": [
    {
     "name": "stdout",
     "output_type": "stream",
     "text": [
      "[[0 3 0 0 0]\n",
      " [0 0 0 0 1]\n",
      " [0 0 4 0 0]\n",
      " [0 0 0 0 0]\n",
      " [2 0 0 9 0]]\n"
     ]
    }
   ],
   "source": [
    "d=np.array([3,4,2,1,9])\n",
    "r=np.array([0,2,4,1,4])\n",
    "c=np.array([1,2,0,4,3])\n",
    "\n",
    "csc=csc_matrix((d,(r,c)),shape=(5,5))\n",
    "print(csc.toarray())"
   ]
  },
  {
   "cell_type": "code",
   "execution_count": 32,
   "id": "871ed595-9d42-4223-a7fa-7e930ab0e4fa",
   "metadata": {},
   "outputs": [],
   "source": [
    "from scipy.sparse import coo_matrix"
   ]
  },
  {
   "cell_type": "code",
   "execution_count": 33,
   "id": "26ec2041-880d-4fc1-a0ae-e8ae56f29758",
   "metadata": {},
   "outputs": [
    {
     "name": "stdout",
     "output_type": "stream",
     "text": [
      "[[0 3 0 0 0]\n",
      " [0 0 0 0 1]\n",
      " [0 0 4 0 0]\n",
      " [0 0 0 0 0]\n",
      " [2 0 0 9 0]]\n"
     ]
    }
   ],
   "source": [
    "d=np.array([3,4,2,1,9])\n",
    "r=np.array([0,2,4,1,4])\n",
    "c=np.array([1,2,0,4,3])\n",
    "\n",
    "coo=coo_matrix((d,(r,c)),shape=(5,5))\n",
    "print(coo.toarray())"
   ]
  },
  {
   "cell_type": "code",
   "execution_count": 35,
   "id": "f55a6744-acf1-407b-9ded-b324ea6be6b4",
   "metadata": {},
   "outputs": [
    {
     "name": "stdout",
     "output_type": "stream",
     "text": [
      "[[3. 0. 3. 0. 0.]\n",
      " [0. 0. 5. 7. 0.]\n",
      " [0. 0. 0. 0. 0.]\n",
      " [0. 2. 6. 0. 0.]]\n"
     ]
    }
   ],
   "source": [
    "# lil_matrix(list of lists)\n",
    "\n",
    "from scipy.sparse import lil_matrix\n",
    "lil=lil_matrix((4,5))\n",
    "lil[0,0]=3\n",
    "lil[0,2]=3\n",
    "lil[1, 2] = 5\n",
    "lil[1, 3] = 7\n",
    "lil[3, 1] = 2\n",
    "lil[3, 2] = 6\n",
    "\n",
    "print(lil.toarray())"
   ]
  },
  {
   "cell_type": "code",
   "execution_count": 37,
   "id": "1d0e545a-316c-4dc8-9b3a-cd75f37664d8",
   "metadata": {},
   "outputs": [
    {
     "name": "stdout",
     "output_type": "stream",
     "text": [
      "[[0. 0. 3. 0. 0.]\n",
      " [0. 0. 5. 7. 0.]\n",
      " [0. 0. 0. 0. 0.]\n",
      " [0. 2. 6. 0. 0.]]\n"
     ]
    }
   ],
   "source": [
    "from scipy.sparse import dok_matrix\n",
    "dok=dok_matrix((4,5))\n",
    "dok[0,2]=3\n",
    "dok[1, 2] = 5\n",
    "dok[1, 3] = 7\n",
    "dok[3, 1] = 2\n",
    "dok[3, 2] = 6\n",
    "\n",
    "print(dok.toarray())"
   ]
  },
  {
   "cell_type": "markdown",
   "id": "0d942991-3053-4c07-a298-5026da23f818",
   "metadata": {},
   "source": [
    "Normal distribution in numpy"
   ]
  },
  {
   "cell_type": "markdown",
   "id": "0a737c7a-2c53-4f9c-8f1e-e68522bce893",
   "metadata": {},
   "source": [
    "Normal distribution is also aclled as gaussian distribution .It is one of the most important distribution in statistics ans data science .It is widely used to real worls phenemena such as IQ scores ,heart rates ,test results and many other naturally occured events"
   ]
  },
  {
   "cell_type": "code",
   "execution_count": 38,
   "id": "05b26941-2834-46c8-b1f5-6cf0b57719e0",
   "metadata": {},
   "outputs": [],
   "source": [
    "# numpy.random.normal() method"
   ]
  },
  {
   "cell_type": "markdown",
   "id": "8d74cdd4-0882-4673-a7ec-6f6c580968f1",
   "metadata": {},
   "source": [
    "loc : specifies the center(mean ) of the distribution where the peak of the bell curve exists"
   ]
  },
  {
   "cell_type": "markdown",
   "id": "a35b7e1d-b266-4989-a635-2521f2ca7684",
   "metadata": {},
   "source": [
    "sacle : determines the spread(standard distribution of the ) chart and how flat or narrow the gtraph is \n",
    "\n",
    "\n",
    "size  :  defines  the shape of the returned array"
   ]
  },
  {
   "cell_type": "code",
   "execution_count": 39,
   "id": "9306d714-bfc6-4aa9-8d49-52f7f47ecc95",
   "metadata": {},
   "outputs": [],
   "source": [
    "# syntax : numpy.random.normal(loc=0,scale=1.0,size=None) "
   ]
  },
  {
   "cell_type": "code",
   "execution_count": 40,
   "id": "78ae4f56-0835-4016-b181-bbb20ed34e07",
   "metadata": {},
   "outputs": [
    {
     "name": "stdout",
     "output_type": "stream",
     "text": [
      "0.33051965774168157\n"
     ]
    }
   ],
   "source": [
    "import numpy as np\n",
    "random_number=np.random.normal()\n",
    "print(random_number)"
   ]
  },
  {
   "cell_type": "code",
   "execution_count": 41,
   "id": "84d97294-66be-478a-ac10-c81001d0ba9f",
   "metadata": {},
   "outputs": [
    {
     "name": "stdout",
     "output_type": "stream",
     "text": [
      "[ 0.34847461 -0.5159372  -0.0509476  -0.54494152  3.85543204]\n"
     ]
    }
   ],
   "source": [
    "random_number=np.random.normal(size=5)\n",
    "print(random_number)"
   ]
  },
  {
   "cell_type": "code",
   "execution_count": 47,
   "id": "d1ea7ea5-b916-463d-8d54-7853b9d2e16d",
   "metadata": {},
   "outputs": [
    {
     "ename": "NameError",
     "evalue": "name 'normal' is not defined",
     "output_type": "error",
     "traceback": [
      "\u001b[1;31m---------------------------------------------------------------------------\u001b[0m",
      "\u001b[1;31mNameError\u001b[0m                                 Traceback (most recent call last)",
      "Cell \u001b[1;32mIn[47], line 5\u001b[0m\n\u001b[0;32m      3\u001b[0m data\u001b[38;5;241m=\u001b[39mnp\u001b[38;5;241m.\u001b[39mrandom\u001b[38;5;241m.\u001b[39mnormal(loc\u001b[38;5;241m=\u001b[39m\u001b[38;5;241m0\u001b[39m,scale\u001b[38;5;241m=\u001b[39m\u001b[38;5;241m1.0\u001b[39m,size\u001b[38;5;241m=\u001b[39m\u001b[38;5;241m10000\u001b[39m)\n\u001b[0;32m      4\u001b[0m plt\u001b[38;5;241m.\u001b[39mhist(data,bins\u001b[38;5;241m=\u001b[39m\u001b[38;5;241m30\u001b[39m,edgecolor\u001b[38;5;241m=\u001b[39m\u001b[38;5;124m\"\u001b[39m\u001b[38;5;124mblack\u001b[39m\u001b[38;5;124m\"\u001b[39m,density\u001b[38;5;241m=\u001b[39m\u001b[38;5;28;01mTrue\u001b[39;00m)\n\u001b[1;32m----> 5\u001b[0m pdf\u001b[38;5;241m=\u001b[39m\u001b[43mnormal\u001b[49m\u001b[38;5;241m.\u001b[39mpdf(x,loc\u001b[38;5;241m=\u001b[39mloc,scale\u001b[38;5;241m=\u001b[39mscale)\n\u001b[0;32m      6\u001b[0m plt\u001b[38;5;241m.\u001b[39mplot(x,color\u001b[38;5;241m=\u001b[39m\u001b[38;5;124m\"\u001b[39m\u001b[38;5;124mred\u001b[39m\u001b[38;5;124m\"\u001b[39m,label\u001b[38;5;241m=\u001b[39m\u001b[38;5;124m\"\u001b[39m\u001b[38;5;124mTheoretical PDF\u001b[39m\u001b[38;5;124m\"\u001b[39m)\n\u001b[0;32m      7\u001b[0m plt\u001b[38;5;241m.\u001b[39mgrid(\u001b[38;5;28;01mTrue\u001b[39;00m)\n",
      "\u001b[1;31mNameError\u001b[0m: name 'normal' is not defined"
     ]
    },
    {
     "data": {
      "image/png": "[encoded data removed]",
      "text/plain": [
       "<Figure size 640x480 with 1 Axes>"
      ]
     },
     "metadata": {},
     "output_type": "display_data"
    }
   ],
   "source": [
    "import numpy as np\n",
    "import matplotlib.pyplot as plt\n",
    "data=np.random.normal(loc=0,scale=1.0,size=10000)\n",
    "plt.hist(data,bins=30,edgecolor=\"black\",density=True)\n",
    "pdf=normal.pdf(x,loc=loc,scale=scale)\n",
    "plt.plot(x,color=\"red\",label=\"Theoretical PDF\")\n",
    "plt.grid(True)\n",
    "plt.show()"
   ]
  },
  {
   "cell_type": "code",
   "execution_count": 49,
   "id": "b9eb9901-8c12-4d39-9f92-17e7495115b5",
   "metadata": {},
   "outputs": [
    {
     "ename": "NameError",
     "evalue": "name 'normal' is not defined",
     "output_type": "error",
     "traceback": [
      "\u001b[1;31m---------------------------------------------------------------------------\u001b[0m",
      "\u001b[1;31mNameError\u001b[0m                                 Traceback (most recent call last)",
      "Cell \u001b[1;32mIn[49], line 7\u001b[0m\n\u001b[0;32m      4\u001b[0m data \u001b[38;5;241m=\u001b[39m np\u001b[38;5;241m.\u001b[39mrandom\u001b[38;5;241m.\u001b[39mnormal(loc\u001b[38;5;241m=\u001b[39m\u001b[38;5;241m0\u001b[39m, scale\u001b[38;5;241m=\u001b[39m\u001b[38;5;241m1\u001b[39m, size\u001b[38;5;241m=\u001b[39m\u001b[38;5;241m1000\u001b[39m)\n\u001b[0;32m      6\u001b[0m plt\u001b[38;5;241m.\u001b[39mhist(data, bins\u001b[38;5;241m=\u001b[39m\u001b[38;5;241m30\u001b[39m, edgecolor\u001b[38;5;241m=\u001b[39m\u001b[38;5;124m'\u001b[39m\u001b[38;5;124mblack\u001b[39m\u001b[38;5;124m'\u001b[39m, density\u001b[38;5;241m=\u001b[39m\u001b[38;5;28;01mTrue\u001b[39;00m)\n\u001b[1;32m----> 7\u001b[0m pdf \u001b[38;5;241m=\u001b[39m \u001b[43mnormal\u001b[49m\u001b[38;5;241m.\u001b[39mpdf(x, loc\u001b[38;5;241m=\u001b[39mloc, scale\u001b[38;5;241m=\u001b[39mscale)  \n\u001b[0;32m      8\u001b[0m plt\u001b[38;5;241m.\u001b[39mplot(x, pdf, color\u001b[38;5;241m=\u001b[39m\u001b[38;5;124m'\u001b[39m\u001b[38;5;124mred\u001b[39m\u001b[38;5;124m'\u001b[39m, label\u001b[38;5;241m=\u001b[39m\u001b[38;5;124m'\u001b[39m\u001b[38;5;124mTheoretical PDF\u001b[39m\u001b[38;5;124m'\u001b[39m)\n\u001b[0;32m      9\u001b[0m plt\u001b[38;5;241m.\u001b[39mtitle(\u001b[38;5;124m\"\u001b[39m\u001b[38;5;124mNormal Distribution\u001b[39m\u001b[38;5;124m\"\u001b[39m)\n",
      "\u001b[1;31mNameError\u001b[0m: name 'normal' is not defined"
     ]
    },
    {
     "data": {
      "image/png": "[encoded data removed]",
      "text/plain": [
       "<Figure size 640x480 with 1 Axes>"
      ]
     },
     "metadata": {},
     "output_type": "display_data"
    }
   ],
   "source": [
    "import numpy as np\n",
    "import matplotlib.pyplot as plt\n",
    "\n",
    "data = np.random.normal(loc=0, scale=1, size=1000)\n",
    "\n",
    "plt.hist(data, bins=30, edgecolor='black', density=True)\n",
    "pdf = normal.pdf(x, loc=loc, scale=scale)  \n",
    "plt.plot(x, pdf, color='red', label='Theoretical PDF')\n",
    "plt.title(\"Normal Distribution\")\n",
    "plt.xlabel(\"Value\")\n",
    "plt.ylabel(\"Density\")\n",
    "plt.grid(True)\n",
    "plt.show()"
   ]
  },
  {
   "cell_type": "markdown",
   "id": "b6fbe29f-b90b-402c-9bd0-7f4a9ed03657",
   "metadata": {},
   "source": [
    "Binomial Distribution "
   ]
  },
  {
   "cell_type": "markdown",
   "id": "7dab947e-d66e-473d-a704-95b23d8b7ff1",
   "metadata": {},
   "source": [
    "the binomial distribution is a fundamental concept in probability and statistics. It models the number success in a fixed number of independent trails has two possible outcomes :success and failure .This distribution is widely used in scenarious like flips ,quality control; and surveys The numpy.random.binomial() method \n",
    "\n",
    "\n",
    "key parameters : \n",
    "n: number of trails \n",
    "p  : proobabiloity of suuccess in each trails\n",
    "size : the shape of returned array\n"
   ]
  },
  {
   "cell_type": "code",
   "execution_count": 53,
   "id": "fb9b66b7-3ea3-4fa5-9dd0-e80d8ccf9eef",
   "metadata": {},
   "outputs": [
    {
     "name": "stdout",
     "output_type": "stream",
     "text": [
      "5\n"
     ]
    }
   ],
   "source": [
    "import numpy as np\n",
    "random_number=np.random.binomial(n=10,p=0.5)\n",
    "print(random_number)"
   ]
  },
  {
   "cell_type": "code",
   "execution_count": 54,
   "id": "6d47b1d8-14d5-401e-8a90-c88aa7630b02",
   "metadata": {},
   "outputs": [
    {
     "name": "stdout",
     "output_type": "stream",
     "text": [
      "[6 4 5 5 5]\n"
     ]
    }
   ],
   "source": [
    "random_number=np.random.binomial(n=10,p=0.5,size=5)\n",
    "print(random_number)"
   ]
  },
  {
   "cell_type": "code",
   "execution_count": 55,
   "id": "f9695a06-4e42-4a79-917f-1d969f93607c",
   "metadata": {},
   "outputs": [
    {
     "ename": "NameError",
     "evalue": "name 'binom' is not defined",
     "output_type": "error",
     "traceback": [
      "\u001b[1;31m---------------------------------------------------------------------------\u001b[0m",
      "\u001b[1;31mNameError\u001b[0m                                 Traceback (most recent call last)",
      "Cell \u001b[1;32mIn[55], line 13\u001b[0m\n\u001b[0;32m     10\u001b[0m plt\u001b[38;5;241m.\u001b[39mhist(data, bins\u001b[38;5;241m=\u001b[39mnp\u001b[38;5;241m.\u001b[39marange(\u001b[38;5;241m-\u001b[39m\u001b[38;5;241m0.5\u001b[39m, n\u001b[38;5;241m+\u001b[39m\u001b[38;5;241m1.5\u001b[39m, \u001b[38;5;241m1\u001b[39m), density\u001b[38;5;241m=\u001b[39m\u001b[38;5;28;01mTrue\u001b[39;00m, edgecolor\u001b[38;5;241m=\u001b[39m\u001b[38;5;124m'\u001b[39m\u001b[38;5;124mblack\u001b[39m\u001b[38;5;124m'\u001b[39m, alpha\u001b[38;5;241m=\u001b[39m\u001b[38;5;241m0.7\u001b[39m, label\u001b[38;5;241m=\u001b[39m\u001b[38;5;124m'\u001b[39m\u001b[38;5;124mHistogram\u001b[39m\u001b[38;5;124m'\u001b[39m)\n\u001b[0;32m     12\u001b[0m x \u001b[38;5;241m=\u001b[39m np\u001b[38;5;241m.\u001b[39marange(\u001b[38;5;241m0\u001b[39m, n\u001b[38;5;241m+\u001b[39m\u001b[38;5;241m1\u001b[39m)  \n\u001b[1;32m---> 13\u001b[0m pmf \u001b[38;5;241m=\u001b[39m \u001b[43mbinom\u001b[49m\u001b[38;5;241m.\u001b[39mpmf(x, n\u001b[38;5;241m=\u001b[39mn, p\u001b[38;5;241m=\u001b[39mp)  \n\u001b[0;32m     14\u001b[0m plt\u001b[38;5;241m.\u001b[39mscatter(x, pmf, color\u001b[38;5;241m=\u001b[39m\u001b[38;5;124m'\u001b[39m\u001b[38;5;124mred\u001b[39m\u001b[38;5;124m'\u001b[39m, label\u001b[38;5;241m=\u001b[39m\u001b[38;5;124m'\u001b[39m\u001b[38;5;124mTheoretical PMF\u001b[39m\u001b[38;5;124m'\u001b[39m)\n\u001b[0;32m     15\u001b[0m plt\u001b[38;5;241m.\u001b[39mvlines(x, \u001b[38;5;241m0\u001b[39m, pmf, colors\u001b[38;5;241m=\u001b[39m\u001b[38;5;124m'\u001b[39m\u001b[38;5;124mred\u001b[39m\u001b[38;5;124m'\u001b[39m, linestyles\u001b[38;5;241m=\u001b[39m\u001b[38;5;124m'\u001b[39m\u001b[38;5;124mdashed\u001b[39m\u001b[38;5;124m'\u001b[39m)  \n",
      "\u001b[1;31mNameError\u001b[0m: name 'binom' is not defined"
     ]
    },
    {
     "data": {
      "image/png": "[encoded data removed]",
      "text/plain": [
       "<Figure size 640x480 with 1 Axes>"
      ]
     },
     "metadata": {},
     "output_type": "display_data"
    }
   ],
   "source": [
    "import numpy as np\n",
    "import matplotlib.pyplot as plt\n",
    "\n",
    "n = 10  \n",
    "p = 0.5  \n",
    "size = 1000  \n",
    "\n",
    "data = np.random.binomial(n=n, p=p, size=size)\n",
    "\n",
    "plt.hist(data, bins=np.arange(-0.5, n+1.5, 1), density=True, edgecolor='black', alpha=0.7, label='Histogram')\n",
    "\n",
    "x = np.arange(0, n+1)  \n",
    "pmf = binom.pmf(x, n=n, p=p)  \n",
    "plt.scatter(x, pmf, color='red', label='Theoretical PMF')\n",
    "plt.vlines(x, 0, pmf, colors='red', linestyles='dashed')  \n",
    "\n",
    "plt.title(\"Binomial Distribution (n=10, p=0.5)\")\n",
    "plt.xlabel(\"Number of Successes\")\n",
    "plt.ylabel(\"Probability\")\n",
    "plt.legend()\n",
    "plt.grid(True)\n",
    "\n",
    "plt.show()"
   ]
  },
  {
   "cell_type": "markdown",
   "id": "dd8f0def-dac7-46c6-8fac-5aa56842a904",
   "metadata": {},
   "source": [
    "poisson distribution \n",
    "\n",
    "the poisson distribution model the number of time an event occur within a fixed time "
   ]
  },
  {
   "cell_type": "markdown",
   "id": "a4a54f9c-fcda-470c-8a41-9165dae518df",
   "metadata": {},
   "source": [
    "numpy.random.poisson() method : It has two key paarameters \n",
    "they are:\n",
    "\n",
    "lam : The average number of events (lambda ) expected to occur in the interval \n",
    "\n",
    "size : The shape of the returned array "
   ]
  },
  {
   "cell_type": "code",
   "execution_count": 58,
   "id": "714cb754-fed1-4763-99d4-fcbcfec4c728",
   "metadata": {},
   "outputs": [
    {
     "data": {
      "text/plain": [
       "1"
      ]
     },
     "execution_count": 58,
     "metadata": {},
     "output_type": "execute_result"
    }
   ],
   "source": [
    "np.random.poisson(lam=1.0,size=None)"
   ]
  },
  {
   "cell_type": "code",
   "execution_count": 59,
   "id": "ace2b396-9427-410c-a507-2b1c4bbd2751",
   "metadata": {},
   "outputs": [
    {
     "name": "stdout",
     "output_type": "stream",
     "text": [
      "9\n"
     ]
    }
   ],
   "source": [
    "# generate the single random number \n",
    "\n",
    "import numpy as np\n",
    "random_number=np.random.poisson(lam=5)\n",
    "print(random_number)"
   ]
  },
  {
   "cell_type": "code",
   "execution_count": 60,
   "id": "69d139d5-153a-4d59-92ef-584e0e7dee32",
   "metadata": {},
   "outputs": [
    {
     "name": "stdout",
     "output_type": "stream",
     "text": [
      "[2 4 6 7 5]\n"
     ]
    }
   ],
   "source": [
    "# generate the array of the random number\n",
    "random_number=np.random.poisson(lam=5,size=5)\n",
    "print(random_number)"
   ]
  },
  {
   "cell_type": "code",
   "execution_count": 61,
   "id": "61340c68-a1fa-468b-9f25-ba931b83a1e3",
   "metadata": {},
   "outputs": [],
   "source": [
    "# uniform distribution in numpy\n",
    "# unifor distribution is used when the all number in a range have the same chancve of being picked.\n"
   ]
  },
  {
   "cell_type": "markdown",
   "id": "55b80888-d828-4d77-89d2-0d893d326513",
   "metadata": {},
   "source": [
    "For example if we choose the number between 10 to 20 then every number in that range is just likely as any another "
   ]
  },
  {
   "cell_type": "code",
   "execution_count": 62,
   "id": "dfc3252f-44c1-4389-94fc-b26361742924",
   "metadata": {},
   "outputs": [],
   "source": [
    "#np.random.uniform(low,high,size)"
   ]
  },
  {
   "cell_type": "code",
   "execution_count": 64,
   "id": "b35e3566-f7d7-4271-a91b-74caa65863d9",
   "metadata": {},
   "outputs": [],
   "source": [
    "# low: lower bound of the range >Default it is 0.0\n",
    "# high : higher bound of the range >Default its is 1.0\n",
    "# size : the shape of the returned araay"
   ]
  },
  {
   "cell_type": "code",
   "execution_count": 65,
   "id": "276e3135-388d-4559-ad1f-abc8b9bf2495",
   "metadata": {},
   "outputs": [
    {
     "name": "stdout",
     "output_type": "stream",
     "text": [
      "0.16200749273565107\n"
     ]
    }
   ],
   "source": [
    "# Generate the single random number \n",
    "import numpy as np\n",
    "random_number=np.random.uniform()\n",
    "print(random_number)"
   ]
  },
  {
   "cell_type": "code",
   "execution_count": 66,
   "id": "d097ee12-e9ed-4d97-aff9-5660d3088bc2",
   "metadata": {},
   "outputs": [
    {
     "name": "stdout",
     "output_type": "stream",
     "text": [
      "[0.23632233 0.16768689 0.2181613  0.43269577 0.72531714]\n"
     ]
    }
   ],
   "source": [
    "random_number=np.random.uniform(size=5)\n",
    "print(random_number)"
   ]
  },
  {
   "cell_type": "code",
   "execution_count": 67,
   "id": "c6262fc4-927f-4927-97ac-92b9411744d5",
   "metadata": {},
   "outputs": [
    {
     "ename": "NameError",
     "evalue": "name 'binom' is not defined",
     "output_type": "error",
     "traceback": [
      "\u001b[1;31m---------------------------------------------------------------------------\u001b[0m",
      "\u001b[1;31mNameError\u001b[0m                                 Traceback (most recent call last)",
      "Cell \u001b[1;32mIn[67], line 13\u001b[0m\n\u001b[0;32m     10\u001b[0m plt\u001b[38;5;241m.\u001b[39mhist(data, bins\u001b[38;5;241m=\u001b[39mnp\u001b[38;5;241m.\u001b[39marange(\u001b[38;5;241m-\u001b[39m\u001b[38;5;241m0.5\u001b[39m, n\u001b[38;5;241m+\u001b[39m\u001b[38;5;241m1.5\u001b[39m, \u001b[38;5;241m1\u001b[39m), density\u001b[38;5;241m=\u001b[39m\u001b[38;5;28;01mTrue\u001b[39;00m, edgecolor\u001b[38;5;241m=\u001b[39m\u001b[38;5;124m'\u001b[39m\u001b[38;5;124mblack\u001b[39m\u001b[38;5;124m'\u001b[39m, alpha\u001b[38;5;241m=\u001b[39m\u001b[38;5;241m0.7\u001b[39m, label\u001b[38;5;241m=\u001b[39m\u001b[38;5;124m'\u001b[39m\u001b[38;5;124mHistogram\u001b[39m\u001b[38;5;124m'\u001b[39m)\n\u001b[0;32m     12\u001b[0m x \u001b[38;5;241m=\u001b[39m np\u001b[38;5;241m.\u001b[39marange(\u001b[38;5;241m0\u001b[39m, n\u001b[38;5;241m+\u001b[39m\u001b[38;5;241m1\u001b[39m)  \n\u001b[1;32m---> 13\u001b[0m pmf \u001b[38;5;241m=\u001b[39m \u001b[43mbinom\u001b[49m\u001b[38;5;241m.\u001b[39mpmf(x, n\u001b[38;5;241m=\u001b[39mn, p\u001b[38;5;241m=\u001b[39mp)  \n\u001b[0;32m     14\u001b[0m plt\u001b[38;5;241m.\u001b[39mscatter(x, pmf, color\u001b[38;5;241m=\u001b[39m\u001b[38;5;124m'\u001b[39m\u001b[38;5;124mred\u001b[39m\u001b[38;5;124m'\u001b[39m, label\u001b[38;5;241m=\u001b[39m\u001b[38;5;124m'\u001b[39m\u001b[38;5;124mTheoretical PMF\u001b[39m\u001b[38;5;124m'\u001b[39m)\n\u001b[0;32m     15\u001b[0m plt\u001b[38;5;241m.\u001b[39mvlines(x, \u001b[38;5;241m0\u001b[39m, pmf, colors\u001b[38;5;241m=\u001b[39m\u001b[38;5;124m'\u001b[39m\u001b[38;5;124mred\u001b[39m\u001b[38;5;124m'\u001b[39m, linestyles\u001b[38;5;241m=\u001b[39m\u001b[38;5;124m'\u001b[39m\u001b[38;5;124mdashed\u001b[39m\u001b[38;5;124m'\u001b[39m)  \n",
      "\u001b[1;31mNameError\u001b[0m: name 'binom' is not defined"
     ]
    },
    {
     "data": {
      "image/png": "[encoded data removed]",
      "text/plain": [
       "<Figure size 640x480 with 1 Axes>"
      ]
     },
     "metadata": {},
     "output_type": "display_data"
    }
   ],
   "source": [
    "import numpy as np\n",
    "import matplotlib.pyplot as plt\n",
    "\n",
    "n = 10  \n",
    "p = 0.5  \n",
    "size = 1000  \n",
    "\n",
    "data = np.random.binomial(n=n, p=p, size=size)\n",
    "\n",
    "plt.hist(data, bins=np.arange(-0.5, n+1.5, 1), density=True, edgecolor='black', alpha=0.7, label='Histogram')\n",
    "\n",
    "x = np.arange(0, n+1)  \n",
    "pmf = binom.pmf(x, n=n, p=p)  \n",
    "plt.scatter(x, pmf, color='red', label='Theoretical PMF')\n",
    "plt.vlines(x, 0, pmf, colors='red', linestyles='dashed')  \n",
    "\n",
    "plt.title(\"Binomial Distribution (n=10, p=0.5)\")\n",
    "plt.xlabel(\"Number of Successes\")\n",
    "plt.ylabel(\"Probability\")\n",
    "plt.legend()\n",
    "plt.grid(True)\n",
    "\n",
    "plt.show()"
   ]
  },
  {
   "cell_type": "code",
   "execution_count": 68,
   "id": "3da50551-a090-402e-9c5e-39e9dca1d91f",
   "metadata": {},
   "outputs": [
    {
     "name": "stdout",
     "output_type": "stream",
     "text": [
      "0.38655038459194424\n"
     ]
    }
   ],
   "source": [
    "# exponential distribution in numpy \n",
    "random_number=np.random.exponential()\n",
    "print(random_number)"
   ]
  },
  {
   "cell_type": "code",
   "execution_count": 69,
   "id": "55a70b38-12d8-4d75-b569-7262ff9ea465",
   "metadata": {},
   "outputs": [],
   "source": [
    "# to generate multiple random numbes"
   ]
  },
  {
   "cell_type": "code",
   "execution_count": 70,
   "id": "d08a1ab6-d1f3-45b1-a6a0-5728d8a0e321",
   "metadata": {},
   "outputs": [
    {
     "name": "stdout",
     "output_type": "stream",
     "text": [
      "[1.69607801 0.10774443 0.09282715 0.3368288  0.72851782]\n"
     ]
    }
   ],
   "source": [
    "random_number=np.random.exponential(size=5)\n",
    "print(random_number)"
   ]
  },
  {
   "cell_type": "code",
   "execution_count": 71,
   "id": "af160028-3b50-42a0-8fd1-bb7a00d3f958",
   "metadata": {},
   "outputs": [
    {
     "data": {
      "image/png": "[encoded data removed]",
      "text/plain": [
       "<Figure size 640x480 with 1 Axes>"
      ]
     },
     "metadata": {},
     "output_type": "display_data"
    }
   ],
   "source": [
    "import numpy as np\n",
    "import matplotlib.pyplot as plt\n",
    "import seaborn as sns\n",
    "\n",
    "scale = 2  \n",
    "size = 1000  \n",
    "\n",
    "data = np.random.exponential(scale=scale, size=size)\n",
    "\n",
    "sns.histplot(data, bins=30, kde=True, color='orange', edgecolor='black')\n",
    "\n",
    "plt.title(f\"Exponential Distribution (Scale={scale})\")\n",
    "plt.xlabel(\"Value\")\n",
    "plt.ylabel(\"Frequency\")\n",
    "plt.grid(True)\n",
    "\n",
    "plt.show()"
   ]
  },
  {
   "cell_type": "code",
   "execution_count": 73,
   "id": "2125c5b6-9681-4de2-a540-0e747e021a87",
   "metadata": {},
   "outputs": [
    {
     "data": {
      "image/png": "[encoded data removed]",
      "text/plain": [
       "<Figure size 640x480 with 1 Axes>"
      ]
     },
     "metadata": {},
     "output_type": "display_data"
    }
   ],
   "source": [
    "import numpy as np\n",
    "import matplotlib.pyplot as plt\n",
    "import seaborn as sns\n",
    "scale=2\n",
    "size=1000\n",
    "data=np.random.exponential(scale=scale,size=size)\n",
    "sns.histplot(data,bins=30,kde=True,color=\"orange\",edgecolor=\"black\")\n",
    "plt.show()"
   ]
  },
  {
   "cell_type": "markdown",
   "id": "a6080301-9b54-4926-9409-5509e797c754",
   "metadata": {},
   "source": [
    "pandas is open sourse library which is used for data manupulation ansd analysis.It consist of data sructure and functions to perform efficient operations"
   ]
  },
  {
   "cell_type": "markdown",
   "id": "de4c2b88-d4f3-441c-ad94-a57da9652bd5",
   "metadata": {},
   "source": [
    "it is well suitable for tabular data such as spreadsheets or SQL tables .it is used for data science because it is well suitable for working with other important libraries \n",
    "\n",
    "\n",
    "it is built on top of numpy library\n",
    "\n",
    "pandas is used for other libraries such as :\n",
    "\n",
    "matplotlib : for plotting graphs\n",
    "\n",
    "SciPy : for statistical analysis\n",
    "\n",
    "SciKit_learn : for machine learning algarithms"
   ]
  },
  {
   "cell_type": "markdown",
   "id": "dc51f2d7-34dd-4ccd-a2ed-e12f8ab3bc3c",
   "metadata": {},
   "source": [
    "Data cleaning,merging and joining : clean and combine data from multiple sources ,handling inconsistancies and duplicates \n",
    "\n",
    "Handling missing values : manages missing values(NaN) in both floating and Non-floating points data\n",
    "\n",
    "\n",
    "column insertion and deletion :  easily add,remove and modify columns in dataframe\n",
    "\n",
    "group  by operation \n",
    "\n",
    "\n",
    "data visualization : create visualization with matplotlib and seaborn,integrated with pandas"
   ]
  },
  {
   "cell_type": "code",
   "execution_count": 74,
   "id": "f9cbe9c9-e630-46da-a2f6-c7539db26199",
   "metadata": {},
   "outputs": [],
   "source": [
    "# for installation \n",
    "# pip install pandas \n",
    "# for importing data \n",
    "import pandas as pd"
   ]
  },
  {
   "cell_type": "code",
   "execution_count": 75,
   "id": "771bf8c1-956a-4bef-9be2-7fbcf7391694",
   "metadata": {},
   "outputs": [],
   "source": [
    "# data structure in pandas  library"
   ]
  },
  {
   "cell_type": "markdown",
   "id": "656e4ba3-63f6-47af-b56b-e0f6f9b2f0af",
   "metadata": {},
   "source": [
    "# 1.pandas dataframe \n",
    "\n",
    "pandas Dataframe is a two dimensional data structure with labeled axes (rows and columns). It is created by adding dataset from existing storage which can be a sql database csv file or an excel file "
   ]
  },
  {
   "cell_type": "code",
   "execution_count": 76,
   "id": "aa0e49cd-7697-46ec-bbcb-37cb67031eae",
   "metadata": {},
   "outputs": [
    {
     "name": "stdout",
     "output_type": "stream",
     "text": [
      "Empty DataFrame\n",
      "Columns: []\n",
      "Index: []\n"
     ]
    }
   ],
   "source": [
    "import pandas as pd\n",
    "df=pd.DataFrame()\n",
    "print(df)"
   ]
  },
  {
   "cell_type": "code",
   "execution_count": 77,
   "id": "46018139-4774-4762-a4fc-c29515558119",
   "metadata": {},
   "outputs": [
    {
     "name": "stdout",
     "output_type": "stream",
     "text": [
      "        0\n",
      "0   geeks\n",
      "1     for\n",
      "2   geeks\n",
      "3      is\n",
      "4  portal\n",
      "5     for\n",
      "6   geeks\n"
     ]
    }
   ],
   "source": [
    "lst=[\"geeks\",\"for\",\"geeks\",\"is\",\"portal\",\"for\",\"geeks\"]\n",
    "df=pd.DataFrame(lst)\n",
    "print(df)"
   ]
  },
  {
   "cell_type": "code",
   "execution_count": 78,
   "id": "11be6e1d-d9aa-4107-9209-c12dda7bef7a",
   "metadata": {},
   "outputs": [
    {
     "name": "stdout",
     "output_type": "stream",
     "text": [
      "0     geeks\n",
      "1       for\n",
      "2     geeks\n",
      "3        is\n",
      "4    portal\n",
      "5       for\n",
      "6     geeks\n",
      "dtype: object\n"
     ]
    }
   ],
   "source": [
    "ser=pd.Series(lst)\n",
    "print(ser)"
   ]
  },
  {
   "cell_type": "markdown",
   "id": "afa2ce83-c790-4160-b6c8-46bb33cb656d",
   "metadata": {},
   "source": [
    "## Pandas\n",
    "* Item1\n",
    "* Item2\n",
    "*    *sublist\n",
    "*    "
   ]
  },
  {
   "cell_type": "markdown",
   "id": "8ff1b6c0-e8f3-499e-b309-e06775127060",
   "metadata": {},
   "source": [
    "Pandas DataFrame is  a two dimensional tabel like structure in python where data arranged in rows and columns .it can store different types of data such as numbers ,text,and dates across its columns\n",
    "\n",
    "\n",
    "Data : actual value in the table \n",
    "Rows : labels that identify each row\n",
    "columns : labels that identify each data category"
   ]
  },
  {
   "cell_type": "code",
   "execution_count": 79,
   "id": "85a2cb40-8d46-42ab-9d34-b63d93e9f1c9",
   "metadata": {},
   "outputs": [
    {
     "name": "stdout",
     "output_type": "stream",
     "text": [
      "        0\n",
      "0   geeks\n",
      "1     for\n",
      "2   geeks\n",
      "3      is\n",
      "4  portal\n",
      "5     for\n",
      "6   geeks\n"
     ]
    }
   ],
   "source": [
    "# creating dataframe using a list \n",
    "import pandas as pd\n",
    "lst=[\"geeks\",\"for\",\"geeks\",\"is\",\"portal\",\"for\",\"geeks\"]\n",
    "df=pd.DataFrame(lst)\n",
    "print(df)"
   ]
  },
  {
   "cell_type": "code",
   "execution_count": 80,
   "id": "c53f8232-0b06-4a6a-ba6b-9b48c02057ed",
   "metadata": {},
   "outputs": [
    {
     "name": "stdout",
     "output_type": "stream",
     "text": [
      "    Name  age\n",
      "0    tom   20\n",
      "1   nick   21\n",
      "2  krish   22\n",
      "3   jack   34\n"
     ]
    }
   ],
   "source": [
    "import pandas as pd\n",
    "data={\"Name\":[\"tom\",\"nick\",\"krish\",\"jack\"],\n",
    "      \"age\":[20,21,22,34]}\n",
    "df=pd.DataFrame(data)\n",
    "print(df)"
   ]
  },
  {
   "cell_type": "markdown",
   "id": "d944bb39-2d07-4380-9a43-18c7c392234f",
   "metadata": {},
   "source": [
    "## working with Rows and columns in pandas Dataframe \n",
    "\n",
    "we can perform basic operation on rows/columns like selecting,deleting,adding and renaming "
   ]
  },
  {
   "cell_type": "code",
   "execution_count": 84,
   "id": "7c882a87-f695-40a5-b4a3-257fb363ac90",
   "metadata": {},
   "outputs": [
    {
     "name": "stdout",
     "output_type": "stream",
     "text": [
      "     Name Qualification\n",
      "0     Jai           Msc\n",
      "1  Princi            MA\n",
      "2  Gaurav           MCA\n",
      "3    Anuj           Phd\n"
     ]
    }
   ],
   "source": [
    "# column selection\n",
    "data = {'Name':['Jai', 'Princi', 'Gaurav', 'Anuj'],\n",
    "        'Age':[27, 24, 22, 32],\n",
    "        'Address':['Delhi', 'Kanpur', 'Allahabad', 'Kannauj'],\n",
    "        'Qualification':['Msc', 'MA', 'MCA', 'Phd']}\n",
    "\n",
    "df=pd.DataFrame(data)\n",
    "print(df[[\"Name\",\"Qualification\"]])"
   ]
  },
  {
   "cell_type": "code",
   "execution_count": null,
   "id": "9fc57223-78cb-45b2-b610-7bda4fc53105",
   "metadata": {},
   "outputs": [],
   "source": []
  }
 ],
 "metadata": {
  "kernelspec": {
   "display_name": "Python 3 (ipykernel)",
   "language": "python",
   "name": "python3"
  },
  "language_info": {
   "codemirror_mode": {
    "name": "ipython",
    "version": 3
   },
   "file_extension": ".py",
   "mimetype": "text/x-python",
   "name": "python",
   "nbconvert_exporter": "python",
   "pygments_lexer": "ipython3",
   "version": "3.12.2"
  }
 },
 "nbformat": 4,
 "nbformat_minor": 5
}
