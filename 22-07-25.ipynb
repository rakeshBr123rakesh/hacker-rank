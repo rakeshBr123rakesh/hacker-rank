{
 "cells": [
  {
   "cell_type": "markdown",
   "id": "e0bcd4cd-6059-4a69-aaf1-308349f45acb",
   "metadata": {},
   "source": [
    "## creating a pandas dataframe "
   ]
  },
  {
   "cell_type": "markdown",
   "id": "3f284cc2-af45-4744-8163-e167f70cbb6d",
   "metadata": {},
   "source": [
    "pandas dataframe is a powerfull tool that allows us to store and manipulate data in a structured way ,similar to an excel spread sheet or a SQL table .A dataframe issimilar to a table with rows and columns."
   ]
  },
  {
   "cell_type": "markdown",
   "id": "55a57289-b5fd-470b-a9a4-1a11a35b634f",
   "metadata": {},
   "source": [
    "## creating an empty dataframe \n",
    "\n",
    "An empty dataframe in pandas is a table with no data but can have defined column name and indexes .it is usefull for setting up   a structure before calling a framework"
   ]
  },
  {
   "cell_type": "code",
   "execution_count": 1,
   "id": "b4d7ac16-8982-4be8-bfb5-28b4f81f8b9d",
   "metadata": {},
   "outputs": [
    {
     "name": "stdout",
     "output_type": "stream",
     "text": [
      "Empty DataFrame\n",
      "Columns: []\n",
      "Index: []\n"
     ]
    }
   ],
   "source": [
    "import pandas as pd\n",
    "df=pd.DataFrame()\n",
    "print(df)"
   ]
  },
  {
   "cell_type": "code",
   "execution_count": 3,
   "id": "b7b4a390-1562-4cfe-b6fb-524588c46fc1",
   "metadata": {},
   "outputs": [
    {
     "name": "stdout",
     "output_type": "stream",
     "text": [
      "        0\n",
      "0   geeks\n",
      "1     for\n",
      "2   geeks\n",
      "3      is\n",
      "4  portal\n",
      "5     for\n",
      "6   geeks\n"
     ]
    }
   ],
   "source": [
    "# creating a dataframe with list \n",
    "# each item in the list becomes a row\n",
    "#the datafraame consist of the single unnamed columns\n",
    "import pandas as pd\n",
    "lst=[\"geeks\",\"for\",\"geeks\",\"is\",\"portal\",\"for\",\"geeks\"]\n",
    "df=pd.DataFrame(lst)\n",
    "print(df)"
   ]
  },
  {
   "cell_type": "code",
   "execution_count": 4,
   "id": "ddab36d1-137e-42ae-916b-71a53eaf424c",
   "metadata": {},
   "outputs": [
    {
     "name": "stdout",
     "output_type": "stream",
     "text": [
      "   A  B  C\n",
      "0  1  2  3\n",
      "1  4  5  6\n",
      "2  7  8  9\n"
     ]
    }
   ],
   "source": [
    "# creating dataframe from dict of numpy array\n",
    "import numpy as np\n",
    "import pandas as pd\n",
    "\n",
    "data=np.array([[1,2,3],[4,5,6],[7,8,9]])\n",
    "df=pd.DataFrame(data,columns=[\"A\",\"B\",\"C\"])\n",
    "print(df)"
   ]
  },
  {
   "cell_type": "markdown",
   "id": "290f765f-6c89-4755-9a72-df2c194530d9",
   "metadata": {},
   "source": [
    "### creating a dataframe from list of dictonaries\n",
    "it is useful when working with API and JSON files "
   ]
  },
  {
   "cell_type": "code",
   "execution_count": 8,
   "id": "368e8c23-a247-4bd6-9e62-33375fd519c2",
   "metadata": {},
   "outputs": [
    {
     "name": "stdout",
     "output_type": "stream",
     "text": [
      "     name  degree  score\n",
      "0  aparna     MBA     90\n",
      "1  Pankaj     MCA     40\n",
      "2  sudhir  M.Tech     80\n",
      "3   geeku  B.Tech     70\n"
     ]
    }
   ],
   "source": [
    "import pandas as pd\n",
    "dict={\"name\":[\"aparna\",\"Pankaj\",\"sudhir\",\"geeku\"],\n",
    "      \"degree\":[\"MBA\",\"MCA\",\"M.Tech\",\"B.Tech\"],\n",
    "      \"score\":[90,40,80,70]}\n",
    "df=pd.DataFrame(dict)\n",
    "print(df)"
   ]
  },
  {
   "cell_type": "markdown",
   "id": "9459e885-0ffe-4655-8ffe-c5ea21fbb9de",
   "metadata": {},
   "source": [
    "## pandas dataframe index"
   ]
  },
  {
   "cell_type": "code",
   "execution_count": 1,
   "id": "6aac43ce-42ef-4734-9bb8-8e096839ec2b",
   "metadata": {},
   "outputs": [
    {
     "name": "stdout",
     "output_type": "stream",
     "text": [
      "      Name  Age  Gender  Salary\n",
      "0     John   25    Male   50000\n",
      "1    Alice   30  Female   55000\n",
      "2      Bob   22    Male   40000\n",
      "3      Eve   35  Female   70000\n",
      "4  Charlie   28    Male   48000\n",
      "RangeIndex(start=0, stop=5, step=1)\n"
     ]
    }
   ],
   "source": [
    "import pandas as pd\n",
    "data = {'Name': ['John', 'Alice', 'Bob', 'Eve', 'Charlie'],\n",
    "        'Age': [25, 30, 22, 35, 28],\n",
    "        'Gender': ['Male', 'Female', 'Male', 'Female', 'Male'],\n",
    "        'Salary': [50000, 55000, 40000, 70000, 48000]}\n",
    "\n",
    "df=pd.DataFrame(data)\n",
    "print(df)\n",
    "print(df.index)"
   ]
  },
  {
   "cell_type": "code",
   "execution_count": 11,
   "id": "11cc0e9a-baff-47a2-b169-6237f276eac3",
   "metadata": {},
   "outputs": [
    {
     "name": "stdout",
     "output_type": "stream",
     "text": [
      "         Age  Gender  Salary\n",
      "Name                        \n",
      "John      25    Male   50000\n",
      "Alice     30  Female   55000\n",
      "Bob       22    Male   40000\n",
      "Eve       35  Female   70000\n",
      "Charlie   28    Male   48000\n"
     ]
    }
   ],
   "source": [
    "#setting index\n",
    "\n",
    "set_custom_index=df.set_index(\"Name\")\n",
    "print(set_custom_index)"
   ]
  },
  {
   "cell_type": "code",
   "execution_count": 12,
   "id": "c9150538-441e-4121-96a4-d99d62837c22",
   "metadata": {},
   "outputs": [
    {
     "name": "stdout",
     "output_type": "stream",
     "text": [
      "        Name  Gender  Salary\n",
      "Age                         \n",
      "25      John    Male   50000\n",
      "30     Alice  Female   55000\n",
      "22       Bob    Male   40000\n",
      "35       Eve  Female   70000\n",
      "28   Charlie    Male   48000\n"
     ]
    }
   ],
   "source": [
    "set_cus=df.set_index(\"Age\")\n",
    "print(set_cus)"
   ]
  },
  {
   "cell_type": "code",
   "execution_count": 13,
   "id": "82fc0de2-1108-40a0-b2ca-c6579a8070e9",
   "metadata": {},
   "outputs": [],
   "source": [
    "# resetting the index \n",
    "#  if you want reset the index back to default integer index use reset_index() method\n",
    "# this will convert the current index into regular column and create a new default index"
   ]
  },
  {
   "cell_type": "code",
   "execution_count": 14,
   "id": "e49c24d5-cd63-4b68-ad46-a1e57ec23090",
   "metadata": {},
   "outputs": [
    {
     "name": "stdout",
     "output_type": "stream",
     "text": [
      "   index     Name  Age  Gender  Salary\n",
      "0      0     John   25    Male   50000\n",
      "1      1    Alice   30  Female   55000\n",
      "2      2      Bob   22    Male   40000\n",
      "3      3      Eve   35  Female   70000\n",
      "4      4  Charlie   28    Male   48000\n"
     ]
    }
   ],
   "source": [
    "df_reset=df.reset_index()\n",
    "print(df_reset)"
   ]
  },
  {
   "cell_type": "markdown",
   "id": "9ddceeb6-dfda-4584-a83e-2e9654a7d455",
   "metadata": {},
   "source": [
    "# indexing with loc \n",
    "\n",
    "the loc[] method in pandas allows to access rowsa and columns of a dataframe using labels ,making it easy retrieve specific data points "
   ]
  },
  {
   "cell_type": "code",
   "execution_count": 18,
   "id": "e17c5147-01b8-4ded-bf97-89567b1fa492",
   "metadata": {},
   "outputs": [
    {
     "name": "stdout",
     "output_type": "stream",
     "text": [
      "Name       John\n",
      "Age          25\n",
      "Gender     Male\n",
      "Salary    50000\n",
      "Name: 0, dtype: object\n"
     ]
    }
   ],
   "source": [
    "# loc is used when first column of a row\n",
    "row=df.loc[0]\n",
    "print(row)\n"
   ]
  },
  {
   "cell_type": "markdown",
   "id": "9e1d50a1-4d1d-4b4b-9149-fc744cf0254f",
   "metadata": {},
   "source": [
    "### highlights\n",
    "df.index\n",
    "\n",
    "\n",
    "\n",
    "df.set_index()\n",
    "\n",
    "\n",
    "\n",
    "df.reset_index()\n",
    "\n",
    "\n",
    "\n",
    "df.loc[\"alice\"]\n"
   ]
  },
  {
   "cell_type": "code",
   "execution_count": 19,
   "id": "1146ace1-6d77-484d-8cc2-9d9328ced723",
   "metadata": {},
   "outputs": [],
   "source": [
    "## pandas access dataframe\n",
    "\n",
    "## accessing columns from dataframe"
   ]
  },
  {
   "cell_type": "code",
   "execution_count": 20,
   "id": "93a2541c-841a-443d-adaf-52cfa1c375a1",
   "metadata": {},
   "outputs": [
    {
     "name": "stdout",
     "output_type": "stream",
     "text": [
      "0    25\n",
      "1    30\n",
      "2    22\n",
      "3    35\n",
      "4    28\n",
      "Name: Age, dtype: int64\n"
     ]
    }
   ],
   "source": [
    "age_column=df[\"Age\"]\n",
    "print(age_column)"
   ]
  },
  {
   "cell_type": "code",
   "execution_count": 21,
   "id": "91f68991-75bc-4f21-a119-acb783df450d",
   "metadata": {},
   "outputs": [
    {
     "name": "stdout",
     "output_type": "stream",
     "text": [
      "Name       Alice\n",
      "Age           30\n",
      "Gender    Female\n",
      "Salary     55000\n",
      "Name: 1, dtype: object\n"
     ]
    }
   ],
   "source": [
    "# accessing rows by index\n",
    "second_row=df.iloc[1]\n",
    "print(second_row)"
   ]
  },
  {
   "cell_type": "code",
   "execution_count": 22,
   "id": "cdb40f9a-a6a0-47b8-b821-0037205e2b7d",
   "metadata": {},
   "outputs": [
    {
     "name": "stdout",
     "output_type": "stream",
     "text": [
      "Name       Alice\n",
      "Age           30\n",
      "Gender    Female\n",
      "Salary     55000\n",
      "Name: 1, dtype: object\n"
     ]
    }
   ],
   "source": [
    "#accessing rows by index\n",
    "second_row=df.iloc[1]\n",
    "print(second_row)"
   ]
  },
  {
   "cell_type": "code",
   "execution_count": 23,
   "id": "f19a44a6-548f-4335-a084-68f586a1679c",
   "metadata": {},
   "outputs": [
    {
     "name": "stdout",
     "output_type": "stream",
     "text": [
      "Name       John\n",
      "Age          25\n",
      "Gender     Male\n",
      "Salary    50000\n",
      "Name: 0, dtype: object\n"
     ]
    }
   ],
   "source": [
    "first_row=df.iloc[0]\n",
    "print(first_row)"
   ]
  },
  {
   "cell_type": "code",
   "execution_count": 24,
   "id": "e3c273bb-60a1-4983-b75c-ba138208addc",
   "metadata": {},
   "outputs": [
    {
     "name": "stdout",
     "output_type": "stream",
     "text": [
      "    Name  Age\n",
      "0   John   25\n",
      "1  Alice   30\n",
      "2    Bob   22\n"
     ]
    }
   ],
   "source": [
    "subset=df.loc[0:2,[\"Name\",\"Age\"]]\n",
    "print(subset)"
   ]
  },
  {
   "cell_type": "code",
   "execution_count": 25,
   "id": "c50319bf-3c16-45cf-8e31-af00b32937da",
   "metadata": {},
   "outputs": [
    {
     "name": "stdout",
     "output_type": "stream",
     "text": [
      "      Name  Age  Gender  Salary\n",
      "1    Alice   30  Female   55000\n",
      "3      Eve   35  Female   70000\n",
      "4  Charlie   28    Male   48000\n"
     ]
    }
   ],
   "source": [
    "# accessing rows based on condition\n",
    "filtered_data=df[df[\"Age\"]>25]\n",
    "print(filtered_data)"
   ]
  },
  {
   "cell_type": "code",
   "execution_count": 27,
   "id": "108afa6d-497f-4595-978c-8e950c2a79cd",
   "metadata": {},
   "outputs": [
    {
     "name": "stdout",
     "output_type": "stream",
     "text": [
      "40000\n"
     ]
    }
   ],
   "source": [
    "# accesiing a data based on the at and iat[]\n",
    "\n",
    "salary_at_index_2=df.at[2,\"Salary\"]\n",
    "print(salary_at_index_2)"
   ]
  },
  {
   "cell_type": "code",
   "execution_count": 28,
   "id": "48023a08-4b37-48fd-ac98-a2fae867325a",
   "metadata": {},
   "outputs": [
    {
     "name": "stdout",
     "output_type": "stream",
     "text": [
      "28\n"
     ]
    }
   ],
   "source": [
    "age=df.at[4,\"Age\"]\n",
    "print(age)"
   ]
  },
  {
   "cell_type": "code",
   "execution_count": 29,
   "id": "c25d0069-b428-4ab9-8ff9-db220eba24c0",
   "metadata": {},
   "outputs": [],
   "source": [
    "# indexing and selecting data with pandas \n",
    "# indexing and selecting data helps us to retrieve specific rows,columns or \n",
    "#subsets of the dat drom a dataframe."
   ]
  },
  {
   "cell_type": "code",
   "execution_count": 30,
   "id": "ae131724-ac5b-4e6b-884d-c31a9768061a",
   "metadata": {},
   "outputs": [],
   "source": [
    "# indexing data using [] operator"
   ]
  },
  {
   "cell_type": "code",
   "execution_count": 31,
   "id": "f7b54f1f-2fed-4b54-9869-a0075550d1d3",
   "metadata": {},
   "outputs": [],
   "source": [
    "# selecting a single column"
   ]
  },
  {
   "cell_type": "code",
   "execution_count": 33,
   "id": "2c9e8f45-0fb7-4616-8f2e-768019aae76f",
   "metadata": {},
   "outputs": [
    {
     "name": "stdout",
     "output_type": "stream",
     "text": [
      "    Name  Age  Gender  Salary\n",
      "0   John   25    Male   50000\n",
      "1  Alice   30  Female   55000\n"
     ]
    }
   ],
   "source": [
    "print(df.head(2))"
   ]
  },
  {
   "cell_type": "code",
   "execution_count": 34,
   "id": "3060df83-a816-41c8-a843-5c9364b8b47e",
   "metadata": {},
   "outputs": [
    {
     "data": {
      "text/html": [
       "<div>\n",
       "<style scoped>\n",
       "    .dataframe tbody tr th:only-of-type {\n",
       "        vertical-align: middle;\n",
       "    }\n",
       "\n",
       "    .dataframe tbody tr th {\n",
       "        vertical-align: top;\n",
       "    }\n",
       "\n",
       "    .dataframe thead th {\n",
       "        text-align: right;\n",
       "    }\n",
       "</style>\n",
       "<table border=\"1\" class=\"dataframe\">\n",
       "  <thead>\n",
       "    <tr style=\"text-align: right;\">\n",
       "      <th></th>\n",
       "      <th>Name</th>\n",
       "      <th>Age</th>\n",
       "      <th>Gender</th>\n",
       "      <th>Salary</th>\n",
       "    </tr>\n",
       "  </thead>\n",
       "  <tbody>\n",
       "    <tr>\n",
       "      <th>0</th>\n",
       "      <td>John</td>\n",
       "      <td>25</td>\n",
       "      <td>Male</td>\n",
       "      <td>50000</td>\n",
       "    </tr>\n",
       "    <tr>\n",
       "      <th>1</th>\n",
       "      <td>Alice</td>\n",
       "      <td>30</td>\n",
       "      <td>Female</td>\n",
       "      <td>55000</td>\n",
       "    </tr>\n",
       "  </tbody>\n",
       "</table>\n",
       "</div>"
      ],
      "text/plain": [
       "    Name  Age  Gender  Salary\n",
       "0   John   25    Male   50000\n",
       "1  Alice   30  Female   55000"
      ]
     },
     "metadata": {},
     "output_type": "display_data"
    }
   ],
   "source": [
    "display(df.head(2))"
   ]
  },
  {
   "cell_type": "code",
   "execution_count": 35,
   "id": "10de0ad5-766c-4599-af54-70d3fcd42e93",
   "metadata": {},
   "outputs": [
    {
     "data": {
      "text/plain": [
       "0    25\n",
       "1    30\n",
       "Name: Age, dtype: int64"
      ]
     },
     "metadata": {},
     "output_type": "display_data"
    }
   ],
   "source": [
    "first=df[\"Age\"]\n",
    "display(first.head(2))"
   ]
  },
  {
   "cell_type": "code",
   "execution_count": 43,
   "id": "44fa2c2b-293d-4ae1-80ab-07717c8867a1",
   "metadata": {},
   "outputs": [
    {
     "ename": "TypeError",
     "evalue": "unhashable type: 'list'",
     "output_type": "error",
     "traceback": [
      "\u001b[1;31m---------------------------------------------------------------------------\u001b[0m",
      "\u001b[1;31mTypeError\u001b[0m                                 Traceback (most recent call last)",
      "Cell \u001b[1;32mIn[43], line 2\u001b[0m\n\u001b[0;32m      1\u001b[0m \u001b[38;5;66;03m# selecting a multiple columns\u001b[39;00m\n\u001b[1;32m----> 2\u001b[0m first\u001b[38;5;241m=\u001b[39m\u001b[43mdata\u001b[49m\u001b[43m[\u001b[49m\u001b[43m[\u001b[49m\u001b[38;5;124;43m'\u001b[39;49m\u001b[38;5;124;43mAge\u001b[39;49m\u001b[38;5;124;43m'\u001b[39;49m\u001b[43m,\u001b[49m\u001b[38;5;124;43m'\u001b[39;49m\u001b[38;5;124;43mName\u001b[39;49m\u001b[38;5;124;43m'\u001b[39;49m\u001b[43m,\u001b[49m\u001b[38;5;124;43m'\u001b[39;49m\u001b[38;5;124;43mSalary\u001b[39;49m\u001b[38;5;124;43m'\u001b[39;49m\u001b[43m]\u001b[49m\u001b[43m]\u001b[49m\n\u001b[0;32m      3\u001b[0m display(first\u001b[38;5;241m.\u001b[39mhead(\u001b[38;5;241m3\u001b[39m))\n",
      "\u001b[1;31mTypeError\u001b[0m: unhashable type: 'list'"
     ]
    }
   ],
   "source": [
    "# selecting a multiple columns\n",
    "first=data[['Age','Name','Salary']]\n",
    "display(first.head(3))"
   ]
  },
  {
   "cell_type": "code",
   "execution_count": 6,
   "id": "ca822482-9d23-42b7-8c19-cced8e45e64b",
   "metadata": {},
   "outputs": [
    {
     "ename": "AttributeError",
     "evalue": "'dict' object has no attribute 'loc'",
     "output_type": "error",
     "traceback": [
      "\u001b[1;31m---------------------------------------------------------------------------\u001b[0m",
      "\u001b[1;31mAttributeError\u001b[0m                            Traceback (most recent call last)",
      "Cell \u001b[1;32mIn[6], line 1\u001b[0m\n\u001b[1;32m----> 1\u001b[0m row\u001b[38;5;241m=\u001b[39m\u001b[43mdata\u001b[49m\u001b[38;5;241;43m.\u001b[39;49m\u001b[43mloc\u001b[49m[\u001b[38;5;241m0\u001b[39m]\n\u001b[0;32m      2\u001b[0m \u001b[38;5;28mprint\u001b[39m(row)\n",
      "\u001b[1;31mAttributeError\u001b[0m: 'dict' object has no attribute 'loc'"
     ]
    }
   ],
   "source": [
    "row=data.loc[0]\n",
    "print(row)"
   ]
  },
  {
   "cell_type": "code",
   "execution_count": 3,
   "id": "58a8d6df-8d27-4ed3-ba2d-de5c2d8a9a02",
   "metadata": {},
   "outputs": [
    {
     "name": "stdout",
     "output_type": "stream",
     "text": [
      "      Name  Age  Gender  Salary\n",
      "0     John   25    Male   50000\n",
      "1    Alice   30  Female   55000\n",
      "2      Bob   22    Male   40000\n",
      "3      Eve   35  Female   70000\n",
      "4  Charlie   28    Male   48000\n",
      "RangeIndex(start=0, stop=5, step=1)\n"
     ]
    }
   ],
   "source": [
    "import pandas as pd\n",
    "data = {'Name': ['John', 'Alice', 'Bob', 'Eve', 'Charlie'],\n",
    "        'Age': [25, 30, 22, 35, 28],\n",
    "        'Gender': ['Male', 'Female', 'Male', 'Female', 'Male'],\n",
    "        'Salary': [50000, 55000, 40000, 70000, 48000]}\n",
    "\n",
    "df=pd.DataFrame(data)\n",
    "print(df)\n",
    "print(df.index)"
   ]
  },
  {
   "cell_type": "code",
   "execution_count": 5,
   "id": "6dc77939-6fbe-42e3-9bf1-af24fcf771f2",
   "metadata": {},
   "outputs": [],
   "source": [
    "import pandas as pd"
   ]
  },
  {
   "cell_type": "code",
   "execution_count": 7,
   "id": "eb79a5d8-d939-414a-a775-568719bc2eb5",
   "metadata": {},
   "outputs": [],
   "source": [
    "#working with crime data"
   ]
  },
  {
   "cell_type": "code",
   "execution_count": 8,
   "id": "abcbd760-af1e-47a1-ad6f-296bd485189c",
   "metadata": {},
   "outputs": [
    {
     "name": "stdout",
     "output_type": "stream",
     "text": [
      "Dataset\n"
     ]
    },
    {
     "data": {
      "text/html": [
       "<div>\n",
       "<style scoped>\n",
       "    .dataframe tbody tr th:only-of-type {\n",
       "        vertical-align: middle;\n",
       "    }\n",
       "\n",
       "    .dataframe tbody tr th {\n",
       "        vertical-align: top;\n",
       "    }\n",
       "\n",
       "    .dataframe thead th {\n",
       "        text-align: right;\n",
       "    }\n",
       "</style>\n",
       "<table border=\"1\" class=\"dataframe\">\n",
       "  <thead>\n",
       "    <tr style=\"text-align: right;\">\n",
       "      <th></th>\n",
       "      <th>STATE/UT</th>\n",
       "      <th>DISTRICT</th>\n",
       "      <th>YEAR</th>\n",
       "      <th>MURDER</th>\n",
       "      <th>ATTEMPT TO MURDER</th>\n",
       "      <th>CULPABLE HOMICIDE NOT AMOUNTING TO MURDER</th>\n",
       "      <th>RAPE</th>\n",
       "      <th>CUSTODIAL RAPE</th>\n",
       "      <th>OTHER RAPE</th>\n",
       "      <th>KIDNAPPING &amp; ABDUCTION</th>\n",
       "      <th>...</th>\n",
       "      <th>ARSON</th>\n",
       "      <th>HURT/GREVIOUS HURT</th>\n",
       "      <th>DOWRY DEATHS</th>\n",
       "      <th>ASSAULT ON WOMEN WITH INTENT TO OUTRAGE HER MODESTY</th>\n",
       "      <th>INSULT TO MODESTY OF WOMEN</th>\n",
       "      <th>CRUELTY BY HUSBAND OR HIS RELATIVES</th>\n",
       "      <th>IMPORTATION OF GIRLS FROM FOREIGN COUNTRIES</th>\n",
       "      <th>CAUSING DEATH BY NEGLIGENCE</th>\n",
       "      <th>OTHER IPC CRIMES</th>\n",
       "      <th>TOTAL IPC CRIMES</th>\n",
       "    </tr>\n",
       "  </thead>\n",
       "  <tbody>\n",
       "    <tr>\n",
       "      <th>0</th>\n",
       "      <td>Andhra Pradesh</td>\n",
       "      <td>ADILABAD</td>\n",
       "      <td>2013</td>\n",
       "      <td>96</td>\n",
       "      <td>72</td>\n",
       "      <td>13</td>\n",
       "      <td>61</td>\n",
       "      <td>0</td>\n",
       "      <td>61</td>\n",
       "      <td>65</td>\n",
       "      <td>...</td>\n",
       "      <td>30</td>\n",
       "      <td>2394</td>\n",
       "      <td>12</td>\n",
       "      <td>197</td>\n",
       "      <td>138</td>\n",
       "      <td>464</td>\n",
       "      <td>0</td>\n",
       "      <td>376</td>\n",
       "      <td>1390</td>\n",
       "      <td>6381</td>\n",
       "    </tr>\n",
       "    <tr>\n",
       "      <th>1</th>\n",
       "      <td>Andhra Pradesh</td>\n",
       "      <td>ANANTAPUR</td>\n",
       "      <td>2013</td>\n",
       "      <td>156</td>\n",
       "      <td>149</td>\n",
       "      <td>3</td>\n",
       "      <td>28</td>\n",
       "      <td>0</td>\n",
       "      <td>28</td>\n",
       "      <td>110</td>\n",
       "      <td>...</td>\n",
       "      <td>29</td>\n",
       "      <td>2537</td>\n",
       "      <td>23</td>\n",
       "      <td>337</td>\n",
       "      <td>43</td>\n",
       "      <td>161</td>\n",
       "      <td>0</td>\n",
       "      <td>573</td>\n",
       "      <td>1634</td>\n",
       "      <td>6913</td>\n",
       "    </tr>\n",
       "    <tr>\n",
       "      <th>2</th>\n",
       "      <td>Andhra Pradesh</td>\n",
       "      <td>CHITTOOR</td>\n",
       "      <td>2013</td>\n",
       "      <td>72</td>\n",
       "      <td>61</td>\n",
       "      <td>2</td>\n",
       "      <td>31</td>\n",
       "      <td>0</td>\n",
       "      <td>31</td>\n",
       "      <td>52</td>\n",
       "      <td>...</td>\n",
       "      <td>18</td>\n",
       "      <td>937</td>\n",
       "      <td>13</td>\n",
       "      <td>119</td>\n",
       "      <td>84</td>\n",
       "      <td>435</td>\n",
       "      <td>0</td>\n",
       "      <td>546</td>\n",
       "      <td>2239</td>\n",
       "      <td>5610</td>\n",
       "    </tr>\n",
       "    <tr>\n",
       "      <th>3</th>\n",
       "      <td>Andhra Pradesh</td>\n",
       "      <td>CUDDAPAH</td>\n",
       "      <td>2013</td>\n",
       "      <td>93</td>\n",
       "      <td>107</td>\n",
       "      <td>7</td>\n",
       "      <td>19</td>\n",
       "      <td>0</td>\n",
       "      <td>19</td>\n",
       "      <td>84</td>\n",
       "      <td>...</td>\n",
       "      <td>34</td>\n",
       "      <td>2310</td>\n",
       "      <td>9</td>\n",
       "      <td>318</td>\n",
       "      <td>163</td>\n",
       "      <td>207</td>\n",
       "      <td>0</td>\n",
       "      <td>464</td>\n",
       "      <td>1741</td>\n",
       "      <td>7048</td>\n",
       "    </tr>\n",
       "    <tr>\n",
       "      <th>4</th>\n",
       "      <td>Andhra Pradesh</td>\n",
       "      <td>CYBERABAD</td>\n",
       "      <td>2013</td>\n",
       "      <td>162</td>\n",
       "      <td>123</td>\n",
       "      <td>16</td>\n",
       "      <td>138</td>\n",
       "      <td>0</td>\n",
       "      <td>138</td>\n",
       "      <td>192</td>\n",
       "      <td>...</td>\n",
       "      <td>40</td>\n",
       "      <td>4284</td>\n",
       "      <td>43</td>\n",
       "      <td>350</td>\n",
       "      <td>338</td>\n",
       "      <td>1526</td>\n",
       "      <td>0</td>\n",
       "      <td>1104</td>\n",
       "      <td>3139</td>\n",
       "      <td>19992</td>\n",
       "    </tr>\n",
       "  </tbody>\n",
       "</table>\n",
       "<p>5 rows × 33 columns</p>\n",
       "</div>"
      ],
      "text/plain": [
       "         STATE/UT   DISTRICT  YEAR  MURDER  ATTEMPT TO MURDER  \\\n",
       "0  Andhra Pradesh   ADILABAD  2013      96                 72   \n",
       "1  Andhra Pradesh  ANANTAPUR  2013     156                149   \n",
       "2  Andhra Pradesh   CHITTOOR  2013      72                 61   \n",
       "3  Andhra Pradesh   CUDDAPAH  2013      93                107   \n",
       "4  Andhra Pradesh  CYBERABAD  2013     162                123   \n",
       "\n",
       "   CULPABLE HOMICIDE NOT AMOUNTING TO MURDER  RAPE  CUSTODIAL RAPE  \\\n",
       "0                                         13    61               0   \n",
       "1                                          3    28               0   \n",
       "2                                          2    31               0   \n",
       "3                                          7    19               0   \n",
       "4                                         16   138               0   \n",
       "\n",
       "   OTHER RAPE  KIDNAPPING & ABDUCTION  ...  ARSON  HURT/GREVIOUS HURT  \\\n",
       "0          61                      65  ...     30                2394   \n",
       "1          28                     110  ...     29                2537   \n",
       "2          31                      52  ...     18                 937   \n",
       "3          19                      84  ...     34                2310   \n",
       "4         138                     192  ...     40                4284   \n",
       "\n",
       "   DOWRY DEATHS  ASSAULT ON WOMEN WITH INTENT TO OUTRAGE HER MODESTY  \\\n",
       "0            12                                                197     \n",
       "1            23                                                337     \n",
       "2            13                                                119     \n",
       "3             9                                                318     \n",
       "4            43                                                350     \n",
       "\n",
       "   INSULT TO MODESTY OF WOMEN  CRUELTY BY HUSBAND OR HIS RELATIVES  \\\n",
       "0                         138                                  464   \n",
       "1                          43                                  161   \n",
       "2                          84                                  435   \n",
       "3                         163                                  207   \n",
       "4                         338                                 1526   \n",
       "\n",
       "   IMPORTATION OF GIRLS FROM FOREIGN COUNTRIES  CAUSING DEATH BY NEGLIGENCE  \\\n",
       "0                                            0                          376   \n",
       "1                                            0                          573   \n",
       "2                                            0                          546   \n",
       "3                                            0                          464   \n",
       "4                                            0                         1104   \n",
       "\n",
       "   OTHER IPC CRIMES  TOTAL IPC CRIMES  \n",
       "0              1390              6381  \n",
       "1              1634              6913  \n",
       "2              2239              5610  \n",
       "3              1741              7048  \n",
       "4              3139             19992  \n",
       "\n",
       "[5 rows x 33 columns]"
      ]
     },
     "metadata": {},
     "output_type": "display_data"
    }
   ],
   "source": [
    "data=pd.read_csv(\"crime.csv\")\n",
    "print(\"Dataset\")\n",
    "display(data.head(5))"
   ]
  },
  {
   "cell_type": "code",
   "execution_count": 9,
   "id": "5aff9c40-0ebc-4608-bfbf-d9a46e5ec873",
   "metadata": {},
   "outputs": [
    {
     "data": {
      "text/plain": [
       "0    Andhra Pradesh\n",
       "1    Andhra Pradesh\n",
       "2    Andhra Pradesh\n",
       "3    Andhra Pradesh\n",
       "4    Andhra Pradesh\n",
       "Name: STATE/UT, dtype: object"
      ]
     },
     "metadata": {},
     "output_type": "display_data"
    }
   ],
   "source": [
    "state=data[\"STATE/UT\"]\n",
    "display(state.head(5))"
   ]
  },
  {
   "cell_type": "code",
   "execution_count": 11,
   "id": "9a2756da-f344-4f54-91aa-9a3786d8a7e4",
   "metadata": {},
   "outputs": [
    {
     "ename": "NameError",
     "evalue": "name 'YEAR' is not defined",
     "output_type": "error",
     "traceback": [
      "\u001b[1;31m---------------------------------------------------------------------------\u001b[0m",
      "\u001b[1;31mNameError\u001b[0m                                 Traceback (most recent call last)",
      "Cell \u001b[1;32mIn[11], line 1\u001b[0m\n\u001b[1;32m----> 1\u001b[0m columns\u001b[38;5;241m=\u001b[39mdata[\u001b[38;5;124m\"\u001b[39m\u001b[38;5;124mSTATE/UT\u001b[39m\u001b[38;5;124m\"\u001b[39m,\u001b[38;5;124m\"\u001b[39m\u001b[38;5;124mDISTRICT\u001b[39m\u001b[38;5;124m\"\u001b[39m,\u001b[43mYEAR\u001b[49m]\n\u001b[0;32m      2\u001b[0m display(columns\u001b[38;5;241m.\u001b[39mhead(\u001b[38;5;241m5\u001b[39m))\n",
      "\u001b[1;31mNameError\u001b[0m: name 'YEAR' is not defined"
     ]
    }
   ],
   "source": [
    "columns=data[\"STATE/UT\",\"DISTRICT\",YEAR]\n",
    "display(columns.head(5))"
   ]
  },
  {
   "cell_type": "code",
   "execution_count": 12,
   "id": "e54dc449-d21b-46d4-be09-1fe268233f77",
   "metadata": {},
   "outputs": [
    {
     "ename": "KeyError",
     "evalue": "'Andhra Pradesh'",
     "output_type": "error",
     "traceback": [
      "\u001b[1;31m---------------------------------------------------------------------------\u001b[0m",
      "\u001b[1;31mKeyError\u001b[0m                                  Traceback (most recent call last)",
      "Cell \u001b[1;32mIn[12], line 1\u001b[0m\n\u001b[1;32m----> 1\u001b[0m row\u001b[38;5;241m=\u001b[39m\u001b[43mdata\u001b[49m\u001b[38;5;241;43m.\u001b[39;49m\u001b[43mloc\u001b[49m\u001b[43m[\u001b[49m\u001b[38;5;124;43m\"\u001b[39;49m\u001b[38;5;124;43mAndhra Pradesh\u001b[39;49m\u001b[38;5;124;43m\"\u001b[39;49m\u001b[43m]\u001b[49m\n\u001b[0;32m      2\u001b[0m \u001b[38;5;28mprint\u001b[39m(row)\n",
      "File \u001b[1;32m~\\AppData\\Local\\Programs\\Python\\Python312\\Lib\\site-packages\\pandas\\core\\indexing.py:1191\u001b[0m, in \u001b[0;36m_LocationIndexer.__getitem__\u001b[1;34m(self, key)\u001b[0m\n\u001b[0;32m   1189\u001b[0m maybe_callable \u001b[38;5;241m=\u001b[39m com\u001b[38;5;241m.\u001b[39mapply_if_callable(key, \u001b[38;5;28mself\u001b[39m\u001b[38;5;241m.\u001b[39mobj)\n\u001b[0;32m   1190\u001b[0m maybe_callable \u001b[38;5;241m=\u001b[39m \u001b[38;5;28mself\u001b[39m\u001b[38;5;241m.\u001b[39m_check_deprecated_callable_usage(key, maybe_callable)\n\u001b[1;32m-> 1191\u001b[0m \u001b[38;5;28;01mreturn\u001b[39;00m \u001b[38;5;28;43mself\u001b[39;49m\u001b[38;5;241;43m.\u001b[39;49m\u001b[43m_getitem_axis\u001b[49m\u001b[43m(\u001b[49m\u001b[43mmaybe_callable\u001b[49m\u001b[43m,\u001b[49m\u001b[43m \u001b[49m\u001b[43maxis\u001b[49m\u001b[38;5;241;43m=\u001b[39;49m\u001b[43maxis\u001b[49m\u001b[43m)\u001b[49m\n",
      "File \u001b[1;32m~\\AppData\\Local\\Programs\\Python\\Python312\\Lib\\site-packages\\pandas\\core\\indexing.py:1431\u001b[0m, in \u001b[0;36m_LocIndexer._getitem_axis\u001b[1;34m(self, key, axis)\u001b[0m\n\u001b[0;32m   1429\u001b[0m \u001b[38;5;66;03m# fall thru to straight lookup\u001b[39;00m\n\u001b[0;32m   1430\u001b[0m \u001b[38;5;28mself\u001b[39m\u001b[38;5;241m.\u001b[39m_validate_key(key, axis)\n\u001b[1;32m-> 1431\u001b[0m \u001b[38;5;28;01mreturn\u001b[39;00m \u001b[38;5;28;43mself\u001b[39;49m\u001b[38;5;241;43m.\u001b[39;49m\u001b[43m_get_label\u001b[49m\u001b[43m(\u001b[49m\u001b[43mkey\u001b[49m\u001b[43m,\u001b[49m\u001b[43m \u001b[49m\u001b[43maxis\u001b[49m\u001b[38;5;241;43m=\u001b[39;49m\u001b[43maxis\u001b[49m\u001b[43m)\u001b[49m\n",
      "File \u001b[1;32m~\\AppData\\Local\\Programs\\Python\\Python312\\Lib\\site-packages\\pandas\\core\\indexing.py:1381\u001b[0m, in \u001b[0;36m_LocIndexer._get_label\u001b[1;34m(self, label, axis)\u001b[0m\n\u001b[0;32m   1379\u001b[0m \u001b[38;5;28;01mdef\u001b[39;00m \u001b[38;5;21m_get_label\u001b[39m(\u001b[38;5;28mself\u001b[39m, label, axis: AxisInt):\n\u001b[0;32m   1380\u001b[0m     \u001b[38;5;66;03m# GH#5567 this will fail if the label is not present in the axis.\u001b[39;00m\n\u001b[1;32m-> 1381\u001b[0m     \u001b[38;5;28;01mreturn\u001b[39;00m \u001b[38;5;28;43mself\u001b[39;49m\u001b[38;5;241;43m.\u001b[39;49m\u001b[43mobj\u001b[49m\u001b[38;5;241;43m.\u001b[39;49m\u001b[43mxs\u001b[49m\u001b[43m(\u001b[49m\u001b[43mlabel\u001b[49m\u001b[43m,\u001b[49m\u001b[43m \u001b[49m\u001b[43maxis\u001b[49m\u001b[38;5;241;43m=\u001b[39;49m\u001b[43maxis\u001b[49m\u001b[43m)\u001b[49m\n",
      "File \u001b[1;32m~\\AppData\\Local\\Programs\\Python\\Python312\\Lib\\site-packages\\pandas\\core\\generic.py:4301\u001b[0m, in \u001b[0;36mNDFrame.xs\u001b[1;34m(self, key, axis, level, drop_level)\u001b[0m\n\u001b[0;32m   4299\u001b[0m             new_index \u001b[38;5;241m=\u001b[39m index[loc]\n\u001b[0;32m   4300\u001b[0m \u001b[38;5;28;01melse\u001b[39;00m:\n\u001b[1;32m-> 4301\u001b[0m     loc \u001b[38;5;241m=\u001b[39m \u001b[43mindex\u001b[49m\u001b[38;5;241;43m.\u001b[39;49m\u001b[43mget_loc\u001b[49m\u001b[43m(\u001b[49m\u001b[43mkey\u001b[49m\u001b[43m)\u001b[49m\n\u001b[0;32m   4303\u001b[0m     \u001b[38;5;28;01mif\u001b[39;00m \u001b[38;5;28misinstance\u001b[39m(loc, np\u001b[38;5;241m.\u001b[39mndarray):\n\u001b[0;32m   4304\u001b[0m         \u001b[38;5;28;01mif\u001b[39;00m loc\u001b[38;5;241m.\u001b[39mdtype \u001b[38;5;241m==\u001b[39m np\u001b[38;5;241m.\u001b[39mbool_:\n",
      "File \u001b[1;32m~\\AppData\\Local\\Programs\\Python\\Python312\\Lib\\site-packages\\pandas\\core\\indexes\\range.py:417\u001b[0m, in \u001b[0;36mRangeIndex.get_loc\u001b[1;34m(self, key)\u001b[0m\n\u001b[0;32m    415\u001b[0m         \u001b[38;5;28;01mraise\u001b[39;00m \u001b[38;5;167;01mKeyError\u001b[39;00m(key) \u001b[38;5;28;01mfrom\u001b[39;00m \u001b[38;5;21;01merr\u001b[39;00m\n\u001b[0;32m    416\u001b[0m \u001b[38;5;28;01mif\u001b[39;00m \u001b[38;5;28misinstance\u001b[39m(key, Hashable):\n\u001b[1;32m--> 417\u001b[0m     \u001b[38;5;28;01mraise\u001b[39;00m \u001b[38;5;167;01mKeyError\u001b[39;00m(key)\n\u001b[0;32m    418\u001b[0m \u001b[38;5;28mself\u001b[39m\u001b[38;5;241m.\u001b[39m_check_indexing_error(key)\n\u001b[0;32m    419\u001b[0m \u001b[38;5;28;01mraise\u001b[39;00m \u001b[38;5;167;01mKeyError\u001b[39;00m(key)\n",
      "\u001b[1;31mKeyError\u001b[0m: 'Andhra Pradesh'"
     ]
    }
   ],
   "source": [
    "row=data.loc[\"Andhra Pradesh\"]\n",
    "print(row)"
   ]
  },
  {
   "cell_type": "code",
   "execution_count": 31,
   "id": "7c15a967-c32e-48d5-bbf3-54a6a8c51b70",
   "metadata": {},
   "outputs": [
    {
     "name": "stdout",
     "output_type": "stream",
     "text": [
      "            Name  Age  Weight   Salery\n",
      "0      M.S.Dhoni   36      75  5428000\n",
      "1  A.B.D Villers   38      74  3428000\n",
      "2        V.Kohli   31      70  8428000\n",
      "3        S.Smith   34      80  4428000\n",
      "4        C.Gayle   40     100  4528000\n",
      "5         J.Root   33      72  7028000\n",
      "6     K.Peterson   42      85  2528000\n"
     ]
    }
   ],
   "source": [
    "# creating pandas datraframe \n",
    "\n",
    "\n",
    "# create custom dataframe \n",
    "\n",
    "player_list = [['M.S.Dhoni', 36, 75, 5428000],\n",
    "               ['A.B.D Villers', 38, 74, 3428000],\n",
    "               ['V.Kohli', 31, 70, 8428000],\n",
    "               ['S.Smith', 34, 80, 4428000],\n",
    "               ['C.Gayle', 40, 100, 4528000],\n",
    "               ['J.Root', 33, 72, 7028000],\n",
    "               ['K.Peterson', 42, 85, 2528000]]\n",
    "df=pd.DataFrame(player_list,columns=[\"Name\",\"Age\",\"Weight\",\"Salery\"])\n",
    "               \n",
    "print(df)"
   ]
  },
  {
   "cell_type": "code",
   "execution_count": 32,
   "id": "d7639bc5-f5f3-42f0-84cc-b41816bee501",
   "metadata": {},
   "outputs": [],
   "source": [
    "# slicing using iloc[] methos"
   ]
  },
  {
   "cell_type": "code",
   "execution_count": 33,
   "id": "6d3b76a3-3182-4e84-8ac5-999ba9133b5c",
   "metadata": {},
   "outputs": [
    {
     "name": "stdout",
     "output_type": "stream",
     "text": [
      "            Name  Age  Weight   Salery\n",
      "0      M.S.Dhoni   36      75  5428000\n",
      "1  A.B.D Villers   38      74  3428000\n",
      "2        V.Kohli   31      70  8428000\n"
     ]
    }
   ],
   "source": [
    "#slicing a rows from dataframe\n",
    "sliced_rows=df.iloc[0:3]\n",
    "print(sliced_rows)"
   ]
  },
  {
   "cell_type": "code",
   "execution_count": 34,
   "id": "b1b1d03e-c95b-4314-990f-99f5f84ee630",
   "metadata": {},
   "outputs": [
    {
     "name": "stdout",
     "output_type": "stream",
     "text": [
      "            Name  Age\n",
      "0      M.S.Dhoni   36\n",
      "1  A.B.D Villers   38\n",
      "2        V.Kohli   31\n",
      "3        S.Smith   34\n",
      "4        C.Gayle   40\n",
      "5         J.Root   33\n",
      "6     K.Peterson   42\n"
     ]
    }
   ],
   "source": [
    "# slicing column in dataframe\n",
    "sliced_col=df.iloc[:,0:2]\n",
    "print(sliced_col)"
   ]
  },
  {
   "cell_type": "code",
   "execution_count": 35,
   "id": "60ec7871-b8af-42dd-a3fe-0e98ea4f02dd",
   "metadata": {},
   "outputs": [
    {
     "name": "stdout",
     "output_type": "stream",
     "text": [
      "M.S.Dhoni\n"
     ]
    }
   ],
   "source": [
    "# selecting a specified cell in a table\n",
    "value=df.iloc[0,0]\n",
    "print(value)"
   ]
  },
  {
   "cell_type": "code",
   "execution_count": 36,
   "id": "a5927d03-adc7-4b4a-9d17-1303feec476a",
   "metadata": {},
   "outputs": [
    {
     "name": "stdout",
     "output_type": "stream",
     "text": [
      "         Name  Age  Weight   Salery\n",
      "6  K.Peterson   42      85  2528000\n"
     ]
    }
   ],
   "source": [
    "# selecting a table with a condition \n",
    "condition=df[df[\"Age\"]>40].iloc[:,:]\n",
    "print(condition)"
   ]
  },
  {
   "cell_type": "code",
   "execution_count": 37,
   "id": "d787dbe8-ffbc-4724-bf6a-e479ddbd6c7b",
   "metadata": {},
   "outputs": [
    {
     "name": "stdout",
     "output_type": "stream",
     "text": [
      "Empty DataFrame\n",
      "Columns: [Name, Age, Weight, Salery]\n",
      "Index: []\n"
     ]
    }
   ],
   "source": [
    "custom = df.loc['A.B.D Villers':'S.Smith']\n",
    "print(custom)"
   ]
  },
  {
   "cell_type": "code",
   "execution_count": 38,
   "id": "92b2c1cc-4fbf-4fbe-9993-e81a4cea99eb",
   "metadata": {},
   "outputs": [
    {
     "name": "stdout",
     "output_type": "stream",
     "text": [
      "               Age  Weight   Salery\n",
      "Name                               \n",
      "A.B.D Villers   38      74  3428000\n",
      "V.Kohli         31      70  8428000\n",
      "S.Smith         34      80  4428000\n"
     ]
    }
   ],
   "source": [
    "df.set_index('Name', inplace=True)\n",
    "\n",
    "custom = df.loc['A.B.D Villers':'S.Smith']\n",
    "print(custom)"
   ]
  },
  {
   "cell_type": "code",
   "execution_count": 39,
   "id": "5256e075-44b4-4aba-b476-70086df0a17b",
   "metadata": {},
   "outputs": [
    {
     "ename": "KeyError",
     "evalue": "\"None of ['Name'] are in the columns\"",
     "output_type": "error",
     "traceback": [
      "\u001b[1;31m---------------------------------------------------------------------------\u001b[0m",
      "\u001b[1;31mKeyError\u001b[0m                                  Traceback (most recent call last)",
      "\u001b[1;32m~\\AppData\\Local\\Temp\\ipykernel_5968\\2680542604.py\u001b[0m in \u001b[0;36m?\u001b[1;34m()\u001b[0m\n\u001b[1;32m----> 1\u001b[1;33m \u001b[0mdf\u001b[0m\u001b[1;33m.\u001b[0m\u001b[0mset_index\u001b[0m\u001b[1;33m(\u001b[0m\u001b[1;34m'Name'\u001b[0m\u001b[1;33m,\u001b[0m\u001b[0minplace\u001b[0m\u001b[1;33m=\u001b[0m\u001b[1;32mTrue\u001b[0m\u001b[1;33m)\u001b[0m\u001b[1;33m\u001b[0m\u001b[1;33m\u001b[0m\u001b[0m\n\u001b[0m\u001b[0;32m      2\u001b[0m \u001b[0mcustom\u001b[0m\u001b[1;33m=\u001b[0m\u001b[0mdf\u001b[0m\u001b[1;33m.\u001b[0m\u001b[0mloc\u001b[0m\u001b[1;33m[\u001b[0m\u001b[1;34m\"A.B.D Villers\"\u001b[0m\u001b[1;33m:\u001b[0m\u001b[1;34m\"S.Smith\"\u001b[0m\u001b[1;33m]\u001b[0m\u001b[1;33m\u001b[0m\u001b[1;33m\u001b[0m\u001b[0m\n\u001b[0;32m      3\u001b[0m \u001b[0mprint\u001b[0m\u001b[1;33m(\u001b[0m\u001b[0mcustom\u001b[0m\u001b[1;33m)\u001b[0m\u001b[1;33m\u001b[0m\u001b[1;33m\u001b[0m\u001b[0m\n",
      "\u001b[1;32m~\\AppData\\Local\\Programs\\Python\\Python312\\Lib\\site-packages\\pandas\\core\\frame.py\u001b[0m in \u001b[0;36m?\u001b[1;34m(self, keys, drop, append, inplace, verify_integrity)\u001b[0m\n\u001b[0;32m   6118\u001b[0m                     \u001b[1;32mif\u001b[0m \u001b[1;32mnot\u001b[0m \u001b[0mfound\u001b[0m\u001b[1;33m:\u001b[0m\u001b[1;33m\u001b[0m\u001b[1;33m\u001b[0m\u001b[0m\n\u001b[0;32m   6119\u001b[0m                         \u001b[0mmissing\u001b[0m\u001b[1;33m.\u001b[0m\u001b[0mappend\u001b[0m\u001b[1;33m(\u001b[0m\u001b[0mcol\u001b[0m\u001b[1;33m)\u001b[0m\u001b[1;33m\u001b[0m\u001b[1;33m\u001b[0m\u001b[0m\n\u001b[0;32m   6120\u001b[0m \u001b[1;33m\u001b[0m\u001b[0m\n\u001b[0;32m   6121\u001b[0m         \u001b[1;32mif\u001b[0m \u001b[0mmissing\u001b[0m\u001b[1;33m:\u001b[0m\u001b[1;33m\u001b[0m\u001b[1;33m\u001b[0m\u001b[0m\n\u001b[1;32m-> 6122\u001b[1;33m             \u001b[1;32mraise\u001b[0m \u001b[0mKeyError\u001b[0m\u001b[1;33m(\u001b[0m\u001b[1;33mf\"\u001b[0m\u001b[1;33mNone of \u001b[0m\u001b[1;33m{\u001b[0m\u001b[0mmissing\u001b[0m\u001b[1;33m}\u001b[0m\u001b[1;33m are in the columns\u001b[0m\u001b[1;33m\"\u001b[0m\u001b[1;33m)\u001b[0m\u001b[1;33m\u001b[0m\u001b[1;33m\u001b[0m\u001b[0m\n\u001b[0m\u001b[0;32m   6123\u001b[0m \u001b[1;33m\u001b[0m\u001b[0m\n\u001b[0;32m   6124\u001b[0m         \u001b[1;32mif\u001b[0m \u001b[0minplace\u001b[0m\u001b[1;33m:\u001b[0m\u001b[1;33m\u001b[0m\u001b[1;33m\u001b[0m\u001b[0m\n\u001b[0;32m   6125\u001b[0m             \u001b[0mframe\u001b[0m \u001b[1;33m=\u001b[0m \u001b[0mself\u001b[0m\u001b[1;33m\u001b[0m\u001b[1;33m\u001b[0m\u001b[0m\n",
      "\u001b[1;31mKeyError\u001b[0m: \"None of ['Name'] are in the columns\""
     ]
    }
   ],
   "source": [
    "df.set_index('Name',inplace=True)\n",
    "custom=df.loc[\"A.B.D Villers\":\"S.Smith\"]\n",
    "print(custom)"
   ]
  },
  {
   "cell_type": "code",
   "execution_count": 40,
   "id": "9fa4f2ac-48cb-417f-a0e5-f4a3e00aece1",
   "metadata": {},
   "outputs": [
    {
     "ename": "KeyError",
     "evalue": "\"None of ['Name'] are in the columns\"",
     "output_type": "error",
     "traceback": [
      "\u001b[1;31m---------------------------------------------------------------------------\u001b[0m",
      "\u001b[1;31mKeyError\u001b[0m                                  Traceback (most recent call last)",
      "\u001b[1;32m~\\AppData\\Local\\Temp\\ipykernel_5968\\3958285079.py\u001b[0m in \u001b[0;36m?\u001b[1;34m()\u001b[0m\n\u001b[1;32m----> 1\u001b[1;33m \u001b[0mdf\u001b[0m\u001b[1;33m.\u001b[0m\u001b[0mset_index\u001b[0m\u001b[1;33m(\u001b[0m\u001b[1;34m'Name'\u001b[0m\u001b[1;33m,\u001b[0m \u001b[0minplace\u001b[0m\u001b[1;33m=\u001b[0m\u001b[1;32mTrue\u001b[0m\u001b[1;33m)\u001b[0m\u001b[1;33m\u001b[0m\u001b[1;33m\u001b[0m\u001b[0m\n\u001b[0m\u001b[0;32m      2\u001b[0m \u001b[1;33m\u001b[0m\u001b[0m\n\u001b[0;32m      3\u001b[0m \u001b[0mcustom\u001b[0m \u001b[1;33m=\u001b[0m \u001b[0mdf\u001b[0m\u001b[1;33m.\u001b[0m\u001b[0mloc\u001b[0m\u001b[1;33m[\u001b[0m\u001b[1;34m'A.B.D Villers'\u001b[0m\u001b[1;33m:\u001b[0m\u001b[1;34m'S.Smith'\u001b[0m\u001b[1;33m]\u001b[0m\u001b[1;33m\u001b[0m\u001b[1;33m\u001b[0m\u001b[0m\n\u001b[0;32m      4\u001b[0m \u001b[0mprint\u001b[0m\u001b[1;33m(\u001b[0m\u001b[0mcustom\u001b[0m\u001b[1;33m)\u001b[0m\u001b[1;33m\u001b[0m\u001b[1;33m\u001b[0m\u001b[0m\n",
      "\u001b[1;32m~\\AppData\\Local\\Programs\\Python\\Python312\\Lib\\site-packages\\pandas\\core\\frame.py\u001b[0m in \u001b[0;36m?\u001b[1;34m(self, keys, drop, append, inplace, verify_integrity)\u001b[0m\n\u001b[0;32m   6118\u001b[0m                     \u001b[1;32mif\u001b[0m \u001b[1;32mnot\u001b[0m \u001b[0mfound\u001b[0m\u001b[1;33m:\u001b[0m\u001b[1;33m\u001b[0m\u001b[1;33m\u001b[0m\u001b[0m\n\u001b[0;32m   6119\u001b[0m                         \u001b[0mmissing\u001b[0m\u001b[1;33m.\u001b[0m\u001b[0mappend\u001b[0m\u001b[1;33m(\u001b[0m\u001b[0mcol\u001b[0m\u001b[1;33m)\u001b[0m\u001b[1;33m\u001b[0m\u001b[1;33m\u001b[0m\u001b[0m\n\u001b[0;32m   6120\u001b[0m \u001b[1;33m\u001b[0m\u001b[0m\n\u001b[0;32m   6121\u001b[0m         \u001b[1;32mif\u001b[0m \u001b[0mmissing\u001b[0m\u001b[1;33m:\u001b[0m\u001b[1;33m\u001b[0m\u001b[1;33m\u001b[0m\u001b[0m\n\u001b[1;32m-> 6122\u001b[1;33m             \u001b[1;32mraise\u001b[0m \u001b[0mKeyError\u001b[0m\u001b[1;33m(\u001b[0m\u001b[1;33mf\"\u001b[0m\u001b[1;33mNone of \u001b[0m\u001b[1;33m{\u001b[0m\u001b[0mmissing\u001b[0m\u001b[1;33m}\u001b[0m\u001b[1;33m are in the columns\u001b[0m\u001b[1;33m\"\u001b[0m\u001b[1;33m)\u001b[0m\u001b[1;33m\u001b[0m\u001b[1;33m\u001b[0m\u001b[0m\n\u001b[0m\u001b[0;32m   6123\u001b[0m \u001b[1;33m\u001b[0m\u001b[0m\n\u001b[0;32m   6124\u001b[0m         \u001b[1;32mif\u001b[0m \u001b[0minplace\u001b[0m\u001b[1;33m:\u001b[0m\u001b[1;33m\u001b[0m\u001b[1;33m\u001b[0m\u001b[0m\n\u001b[0;32m   6125\u001b[0m             \u001b[0mframe\u001b[0m \u001b[1;33m=\u001b[0m \u001b[0mself\u001b[0m\u001b[1;33m\u001b[0m\u001b[1;33m\u001b[0m\u001b[0m\n",
      "\u001b[1;31mKeyError\u001b[0m: \"None of ['Name'] are in the columns\""
     ]
    }
   ],
   "source": [
    "df.set_index('Name', inplace=True)\n",
    "\n",
    "custom = df.loc['A.B.D Villers':'S.Smith']\n",
    "print(custom)"
   ]
  },
  {
   "cell_type": "code",
   "execution_count": 41,
   "id": "235cb1c3-7a01-4509-ae7a-de252a85e329",
   "metadata": {},
   "outputs": [
    {
     "data": {
      "text/html": [
       "<div>\n",
       "<style scoped>\n",
       "    .dataframe tbody tr th:only-of-type {\n",
       "        vertical-align: middle;\n",
       "    }\n",
       "\n",
       "    .dataframe tbody tr th {\n",
       "        vertical-align: top;\n",
       "    }\n",
       "\n",
       "    .dataframe thead th {\n",
       "        text-align: right;\n",
       "    }\n",
       "</style>\n",
       "<table border=\"1\" class=\"dataframe\">\n",
       "  <thead>\n",
       "    <tr style=\"text-align: right;\">\n",
       "      <th></th>\n",
       "      <th>Name</th>\n",
       "      <th>Age</th>\n",
       "      <th>Salary</th>\n",
       "      <th>JOB</th>\n",
       "    </tr>\n",
       "  </thead>\n",
       "  <tbody>\n",
       "    <tr>\n",
       "      <th>0</th>\n",
       "      <td>RACHEL</td>\n",
       "      <td>30</td>\n",
       "      <td>100000</td>\n",
       "      <td>DESIGNER</td>\n",
       "    </tr>\n",
       "    <tr>\n",
       "      <th>1</th>\n",
       "      <td>MONICA</td>\n",
       "      <td>35</td>\n",
       "      <td>93000</td>\n",
       "      <td>CHEF</td>\n",
       "    </tr>\n",
       "    <tr>\n",
       "      <th>2</th>\n",
       "      <td>PHOEBE</td>\n",
       "      <td>37</td>\n",
       "      <td>88000</td>\n",
       "      <td>MASUS</td>\n",
       "    </tr>\n",
       "    <tr>\n",
       "      <th>3</th>\n",
       "      <td>ROSS</td>\n",
       "      <td>33</td>\n",
       "      <td>120000</td>\n",
       "      <td>PALENTOLOGY</td>\n",
       "    </tr>\n",
       "    <tr>\n",
       "      <th>4</th>\n",
       "      <td>CHANDLER</td>\n",
       "      <td>34</td>\n",
       "      <td>94000</td>\n",
       "      <td>IT</td>\n",
       "    </tr>\n",
       "    <tr>\n",
       "      <th>5</th>\n",
       "      <td>JOEY</td>\n",
       "      <td>30</td>\n",
       "      <td>95000</td>\n",
       "      <td>ARTIST</td>\n",
       "    </tr>\n",
       "  </tbody>\n",
       "</table>\n",
       "</div>"
      ],
      "text/plain": [
       "         Name  Age  Salary          JOB\n",
       "0    RACHEL     30  100000     DESIGNER\n",
       "1    MONICA     35   93000         CHEF\n",
       "2    PHOEBE     37   88000        MASUS\n",
       "3    ROSS       33  120000  PALENTOLOGY\n",
       "4    CHANDLER   34   94000           IT\n",
       "5    JOEY       30   95000       ARTIST"
      ]
     },
     "metadata": {},
     "output_type": "display_data"
    }
   ],
   "source": [
    "# import module\n",
    "import pandas as pd\n",
    "\n",
    "# assign data\n",
    "dataFrame = pd.DataFrame({'Name': [' RACHEL  ', ' MONICA  ', ' PHOEBE  ',\n",
    "                                   '  ROSS    ', 'CHANDLER', ' JOEY    '],\n",
    "                          \n",
    "                          'Age': [30, 35, 37, 33, 34, 30],\n",
    "                          \n",
    "                          'Salary': [100000, 93000, 88000, 120000, 94000, 95000],\n",
    "                          \n",
    "                          'JOB': ['DESIGNER', 'CHEF', 'MASUS', 'PALENTOLOGY',\n",
    "                                  'IT', 'ARTIST']})\n",
    "\n",
    "# display dataframe\n",
    "display(dataFrame)"
   ]
  },
  {
   "cell_type": "code",
   "execution_count": 42,
   "id": "13dcdeef-317f-4b59-95ec-d8c1de768f3f",
   "metadata": {},
   "outputs": [
    {
     "data": {
      "text/html": [
       "<div>\n",
       "<style scoped>\n",
       "    .dataframe tbody tr th:only-of-type {\n",
       "        vertical-align: middle;\n",
       "    }\n",
       "\n",
       "    .dataframe tbody tr th {\n",
       "        vertical-align: top;\n",
       "    }\n",
       "\n",
       "    .dataframe thead th {\n",
       "        text-align: right;\n",
       "    }\n",
       "</style>\n",
       "<table border=\"1\" class=\"dataframe\">\n",
       "  <thead>\n",
       "    <tr style=\"text-align: right;\">\n",
       "      <th></th>\n",
       "      <th>Name</th>\n",
       "      <th>JOB</th>\n",
       "    </tr>\n",
       "  </thead>\n",
       "  <tbody>\n",
       "    <tr>\n",
       "      <th>0</th>\n",
       "      <td>RACHEL</td>\n",
       "      <td>DESIGNER</td>\n",
       "    </tr>\n",
       "  </tbody>\n",
       "</table>\n",
       "</div>"
      ],
      "text/plain": [
       "        Name       JOB\n",
       "0   RACHEL    DESIGNER"
      ]
     },
     "metadata": {},
     "output_type": "display_data"
    }
   ],
   "source": [
    "dataFrame = pd.DataFrame({'Name': [' RACHEL  ', ' MONICA  ', ' PHOEBE  ',\n",
    "                                   '  ROSS    ', 'CHANDLER', ' JOEY    '],\n",
    "                          \n",
    "                          'Age': [30, 35, 37, 33, 34, 30],\n",
    "                          \n",
    "                          'Salary': [100000, 93000, 88000, 120000, 94000, 95000],\n",
    "                          \n",
    "                          'JOB': ['DESIGNER', 'CHEF', 'MASUS', 'PALENTOLOGY',\n",
    "                                  'IT', 'ARTIST']})\n",
    "\n",
    "# filter dataframe \n",
    "\n",
    "display(dataFrame.loc[(dataFrame[\"Salary\"]>=100000)&(dataFrame[\"Age\"]<40)&(dataFrame[\"JOB\"].str.startswith(\"D\")),\n",
    "        [\"Name\",\"JOB\"]])"
   ]
  },
  {
   "cell_type": "markdown",
   "id": "0de9c84b-65f6-4e71-8bef-86e6c9888b3c",
   "metadata": {},
   "source": [
    "Here will get all rows having Salary greater or equal to 100000 and Age < 40 and their JOB starts with ‘D’ from the data frame. We need to use NumPy. \n"
   ]
  },
  {
   "cell_type": "code",
   "execution_count": 46,
   "id": "b8ea33b7-14c7-450f-97cc-701403f5e487",
   "metadata": {},
   "outputs": [],
   "source": [
    "import numpy as np\n",
    "filtered_data=np.where((dataFrame[\"Salary\"]>=100000)&(dataFrame[\"Age\"]<40)&\n",
    "                       (dataFrame[\"JOB\"].str.startswith(\"D\")))\n"
   ]
  },
  {
   "cell_type": "code",
   "execution_count": 47,
   "id": "bc96cb77-2425-41c8-910f-b5fbfd37408c",
   "metadata": {},
   "outputs": [
    {
     "name": "stdout",
     "output_type": "stream",
     "text": [
      "(array([0], dtype=int64),)\n"
     ]
    }
   ],
   "source": [
    "print(filtered_data)"
   ]
  },
  {
   "cell_type": "code",
   "execution_count": 49,
   "id": "c00a3515-08ef-49ac-a6ab-8b369995e05b",
   "metadata": {},
   "outputs": [
    {
     "data": {
      "text/html": [
       "<div>\n",
       "<style scoped>\n",
       "    .dataframe tbody tr th:only-of-type {\n",
       "        vertical-align: middle;\n",
       "    }\n",
       "\n",
       "    .dataframe tbody tr th {\n",
       "        vertical-align: top;\n",
       "    }\n",
       "\n",
       "    .dataframe thead th {\n",
       "        text-align: right;\n",
       "    }\n",
       "</style>\n",
       "<table border=\"1\" class=\"dataframe\">\n",
       "  <thead>\n",
       "    <tr style=\"text-align: right;\">\n",
       "      <th></th>\n",
       "      <th>Name</th>\n",
       "      <th>Age</th>\n",
       "      <th>Salary</th>\n",
       "      <th>JOB</th>\n",
       "    </tr>\n",
       "  </thead>\n",
       "  <tbody>\n",
       "    <tr>\n",
       "      <th>0</th>\n",
       "      <td>RACHEL</td>\n",
       "      <td>30</td>\n",
       "      <td>100000</td>\n",
       "      <td>DESIGNER</td>\n",
       "    </tr>\n",
       "  </tbody>\n",
       "</table>\n",
       "</div>"
      ],
      "text/plain": [
       "        Name  Age  Salary       JOB\n",
       "0   RACHEL     30  100000  DESIGNER"
      ]
     },
     "metadata": {},
     "output_type": "display_data"
    }
   ],
   "source": [
    "display(dataFrame.loc[filtered_data])"
   ]
  },
  {
   "cell_type": "markdown",
   "id": "c9a37e86-d5dc-4129-9cdf-6cc983ec7d74",
   "metadata": {},
   "source": [
    "Filter Pandas Dataframe Using Query (eval and query works only with columns)\n",
    "In this approach, we get all rows having Salary lesser or equal to 100000 and Age < 40, and their JOB starts with ‘C’ from the dataframe. Its just query the columns of a DataFrame with a single or more Boolean expressions and if multiple, it is having & condition in the middle."
   ]
  },
  {
   "cell_type": "code",
   "execution_count": 51,
   "id": "0c79bda5-12f9-4786-a01b-ea6a8491b7f2",
   "metadata": {},
   "outputs": [
    {
     "data": {
      "text/html": [
       "<div>\n",
       "<style scoped>\n",
       "    .dataframe tbody tr th:only-of-type {\n",
       "        vertical-align: middle;\n",
       "    }\n",
       "\n",
       "    .dataframe tbody tr th {\n",
       "        vertical-align: top;\n",
       "    }\n",
       "\n",
       "    .dataframe thead th {\n",
       "        text-align: right;\n",
       "    }\n",
       "</style>\n",
       "<table border=\"1\" class=\"dataframe\">\n",
       "  <thead>\n",
       "    <tr style=\"text-align: right;\">\n",
       "      <th></th>\n",
       "      <th>Name</th>\n",
       "      <th>Age</th>\n",
       "      <th>Salary</th>\n",
       "      <th>JOB</th>\n",
       "    </tr>\n",
       "  </thead>\n",
       "  <tbody>\n",
       "    <tr>\n",
       "      <th>1</th>\n",
       "      <td>MONICA</td>\n",
       "      <td>35</td>\n",
       "      <td>93000</td>\n",
       "      <td>CHEF</td>\n",
       "    </tr>\n",
       "  </tbody>\n",
       "</table>\n",
       "</div>"
      ],
      "text/plain": [
       "        Name  Age  Salary   JOB\n",
       "1   MONICA     35   93000  CHEF"
      ]
     },
     "metadata": {},
     "output_type": "display_data"
    }
   ],
   "source": [
    "display(dataFrame.query('Salary <=100000 & Age<40 & JOB.str.startswith(\"C\").values'))\n"
   ]
  },
  {
   "cell_type": "code",
   "execution_count": 53,
   "id": "278b5d50-6231-4b06-baf5-5a7a724531aa",
   "metadata": {},
   "outputs": [],
   "source": [
    "# pandas boolean indecing multiple conditiuon standard way "
   ]
  },
  {
   "cell_type": "code",
   "execution_count": 55,
   "id": "69272118-3e00-4cb9-8cee-a3773769bbce",
   "metadata": {},
   "outputs": [
    {
     "data": {
      "text/html": [
       "<div>\n",
       "<style scoped>\n",
       "    .dataframe tbody tr th:only-of-type {\n",
       "        vertical-align: middle;\n",
       "    }\n",
       "\n",
       "    .dataframe tbody tr th {\n",
       "        vertical-align: top;\n",
       "    }\n",
       "\n",
       "    .dataframe thead th {\n",
       "        text-align: right;\n",
       "    }\n",
       "</style>\n",
       "<table border=\"1\" class=\"dataframe\">\n",
       "  <thead>\n",
       "    <tr style=\"text-align: right;\">\n",
       "      <th></th>\n",
       "      <th>Name</th>\n",
       "      <th>Age</th>\n",
       "      <th>Salary</th>\n",
       "    </tr>\n",
       "  </thead>\n",
       "  <tbody>\n",
       "    <tr>\n",
       "      <th>3</th>\n",
       "      <td>ROSS</td>\n",
       "      <td>33</td>\n",
       "      <td>120000</td>\n",
       "    </tr>\n",
       "  </tbody>\n",
       "</table>\n",
       "</div>"
      ],
      "text/plain": [
       "         Name  Age  Salary\n",
       "3    ROSS       33  120000"
      ]
     },
     "metadata": {},
     "output_type": "display_data"
    }
   ],
   "source": [
    "\n",
    "# filter dataframe \n",
    "display(dataFrame[(dataFrame['Salary']>=100000) & (dataFrame['Age']<40) \n",
    "        & dataFrame['JOB'].str.startswith('P')][['Name','Age','Salary']])"
   ]
  },
  {
   "cell_type": "code",
   "execution_count": 56,
   "id": "97677c8a-95ee-41af-8e3b-d4d6bb7cbc15",
   "metadata": {},
   "outputs": [],
   "source": [
    "# different ways of creating a dataframe"
   ]
  },
  {
   "cell_type": "code",
   "execution_count": 57,
   "id": "b4ab8a36-bbe4-417a-a14e-e1368896213e",
   "metadata": {},
   "outputs": [
    {
     "name": "stdout",
     "output_type": "stream",
     "text": [
      "    Name  Age\n",
      "0    Tom   20\n",
      "1   nick   21\n",
      "2  Krish   19\n",
      "3   jack   18\n"
     ]
    }
   ],
   "source": [
    "import pandas as pd\n",
    "data={\"Name\":[\"Tom\",\"nick\",\"Krish\",\"jack\"],\n",
    "      \"Age\":[20,21,19,18]}\n",
    "df=pd.DataFrame(data)\n",
    "print(df)"
   ]
  },
  {
   "cell_type": "code",
   "execution_count": 58,
   "id": "f67d09aa-64dc-4416-9c60-b0733d3c3f5e",
   "metadata": {},
   "outputs": [],
   "source": [
    "# pandas dataframe syntax\n",
    "# pandas.DataFrame(data,index,columns)\n"
   ]
  },
  {
   "cell_type": "markdown",
   "id": "dcec7f25-f923-496d-b4a7-fe8b04e9c109",
   "metadata": {},
   "source": [
    "creating a dataframe from list or arrays"
   ]
  },
  {
   "cell_type": "code",
   "execution_count": 59,
   "id": "8101c972-307f-4568-90f6-991313e6c19c",
   "metadata": {},
   "outputs": [
    {
     "name": "stdout",
     "output_type": "stream",
     "text": [
      "    Name  Age\n",
      "0    tom   10\n",
      "1  alice   18\n",
      "2    dan   14\n"
     ]
    }
   ],
   "source": [
    "data=[[\"tom\",10],[\"alice\",18],[\"dan\",14]]\n",
    "df=pd.DataFrame(data,columns=[\"Name\",\"Age\"])\n",
    "print(df)"
   ]
  },
  {
   "cell_type": "code",
   "execution_count": 61,
   "id": "74836638-803e-47ce-85e6-ce88fe2108e0",
   "metadata": {},
   "outputs": [
    {
     "name": "stdout",
     "output_type": "stream",
     "text": [
      "     Name  Age    Address Qualification\n",
      "0     Jai   27     Nagpur           Msc\n",
      "1  Princi   24     Kanpur            MA\n",
      "2  Gaurav   22  Allahabad           MCA\n",
      "3    Anuj   32    Kannuaj           Phd \n",
      "\n",
      "      Name  Age    Address Qualification\n",
      "4     Jai   27     Nagpur           Msc\n",
      "5  Princi   24     Kanpur            MA\n",
      "6  Gaurav   22  Allahabad           MCA\n",
      "7    Anuj   32    Kannuaj           Phd\n"
     ]
    }
   ],
   "source": [
    "\n",
    "data1 = {'Name': ['Jai', 'Princi', 'Gaurav', 'Anuj'],\n",
    "         'Age': [27, 24, 22, 32],\n",
    "         'Address': ['Nagpur', 'Kanpur', 'Allahabad', 'Kannuaj'],\n",
    "         'Qualification': ['Msc', 'MA', 'MCA', 'Phd']}\n",
    "\n",
    "data2 = {'Name': ['Abhi', 'Ayushi', 'Dhiraj', 'Hitesh'],\n",
    "         'Age': [17, 14, 12, 52],\n",
    "         'Address': ['Nagpur', 'Kanpur', 'Allahabad', 'Kannuaj'],\n",
    "         'Qualification': ['Btech', 'B.A', 'Bcom', 'B.hons']}\n",
    "\n",
    "\n",
    "df=pd.DataFrame(data1,index=[0,1,2,3])\n",
    "df1=pd.DataFrame(data1,index=[4,5,6,7])\n",
    "print(df,\"\\n\\n\",df1)"
   ]
  },
  {
   "cell_type": "code",
   "execution_count": 62,
   "id": "44aa3700-a6fb-4d89-91f1-1f6bc4c35085",
   "metadata": {},
   "outputs": [
    {
     "name": "stdout",
     "output_type": "stream",
     "text": [
      "     Name  Age    Address Qualification\n",
      "0     Jai   27     Nagpur           Msc\n",
      "1  Princi   24     Kanpur            MA\n",
      "2  Gaurav   22  Allahabad           MCA\n",
      "3    Anuj   32    Kannuaj           Phd\n",
      "4     Jai   27     Nagpur           Msc\n",
      "5  Princi   24     Kanpur            MA\n",
      "6  Gaurav   22  Allahabad           MCA\n",
      "7    Anuj   32    Kannuaj           Phd\n"
     ]
    }
   ],
   "source": [
    "# concatination\n",
    "frames=[df,df1]\n",
    "res1=pd.concat(frames)\n",
    "print(res1)"
   ]
  },
  {
   "cell_type": "code",
   "execution_count": 64,
   "id": "4b1fc9a3-73b2-40d4-8f80-0ea68296a6dc",
   "metadata": {},
   "outputs": [
    {
     "data": {
      "text/html": [
       "<div>\n",
       "<style scoped>\n",
       "    .dataframe tbody tr th:only-of-type {\n",
       "        vertical-align: middle;\n",
       "    }\n",
       "\n",
       "    .dataframe tbody tr th {\n",
       "        vertical-align: top;\n",
       "    }\n",
       "\n",
       "    .dataframe thead th {\n",
       "        text-align: right;\n",
       "    }\n",
       "</style>\n",
       "<table border=\"1\" class=\"dataframe\">\n",
       "  <thead>\n",
       "    <tr style=\"text-align: right;\">\n",
       "      <th></th>\n",
       "      <th>Name</th>\n",
       "      <th>Age</th>\n",
       "      <th>Address</th>\n",
       "      <th>Qualification</th>\n",
       "      <th>Name</th>\n",
       "      <th>Age</th>\n",
       "      <th>Address</th>\n",
       "      <th>Qualification</th>\n",
       "    </tr>\n",
       "  </thead>\n",
       "  <tbody>\n",
       "    <tr>\n",
       "      <th>0</th>\n",
       "      <td>Jai</td>\n",
       "      <td>27.0</td>\n",
       "      <td>Nagpur</td>\n",
       "      <td>Msc</td>\n",
       "      <td>NaN</td>\n",
       "      <td>NaN</td>\n",
       "      <td>NaN</td>\n",
       "      <td>NaN</td>\n",
       "    </tr>\n",
       "    <tr>\n",
       "      <th>1</th>\n",
       "      <td>Princi</td>\n",
       "      <td>24.0</td>\n",
       "      <td>Kanpur</td>\n",
       "      <td>MA</td>\n",
       "      <td>NaN</td>\n",
       "      <td>NaN</td>\n",
       "      <td>NaN</td>\n",
       "      <td>NaN</td>\n",
       "    </tr>\n",
       "    <tr>\n",
       "      <th>2</th>\n",
       "      <td>Gaurav</td>\n",
       "      <td>22.0</td>\n",
       "      <td>Allahabad</td>\n",
       "      <td>MCA</td>\n",
       "      <td>NaN</td>\n",
       "      <td>NaN</td>\n",
       "      <td>NaN</td>\n",
       "      <td>NaN</td>\n",
       "    </tr>\n",
       "    <tr>\n",
       "      <th>3</th>\n",
       "      <td>Anuj</td>\n",
       "      <td>32.0</td>\n",
       "      <td>Kannuaj</td>\n",
       "      <td>Phd</td>\n",
       "      <td>NaN</td>\n",
       "      <td>NaN</td>\n",
       "      <td>NaN</td>\n",
       "      <td>NaN</td>\n",
       "    </tr>\n",
       "    <tr>\n",
       "      <th>4</th>\n",
       "      <td>NaN</td>\n",
       "      <td>NaN</td>\n",
       "      <td>NaN</td>\n",
       "      <td>NaN</td>\n",
       "      <td>Jai</td>\n",
       "      <td>27.0</td>\n",
       "      <td>Nagpur</td>\n",
       "      <td>Msc</td>\n",
       "    </tr>\n",
       "    <tr>\n",
       "      <th>5</th>\n",
       "      <td>NaN</td>\n",
       "      <td>NaN</td>\n",
       "      <td>NaN</td>\n",
       "      <td>NaN</td>\n",
       "      <td>Princi</td>\n",
       "      <td>24.0</td>\n",
       "      <td>Kanpur</td>\n",
       "      <td>MA</td>\n",
       "    </tr>\n",
       "    <tr>\n",
       "      <th>6</th>\n",
       "      <td>NaN</td>\n",
       "      <td>NaN</td>\n",
       "      <td>NaN</td>\n",
       "      <td>NaN</td>\n",
       "      <td>Gaurav</td>\n",
       "      <td>22.0</td>\n",
       "      <td>Allahabad</td>\n",
       "      <td>MCA</td>\n",
       "    </tr>\n",
       "    <tr>\n",
       "      <th>7</th>\n",
       "      <td>NaN</td>\n",
       "      <td>NaN</td>\n",
       "      <td>NaN</td>\n",
       "      <td>NaN</td>\n",
       "      <td>Anuj</td>\n",
       "      <td>32.0</td>\n",
       "      <td>Kannuaj</td>\n",
       "      <td>Phd</td>\n",
       "    </tr>\n",
       "  </tbody>\n",
       "</table>\n",
       "</div>"
      ],
      "text/plain": [
       "     Name   Age    Address Qualification    Name   Age    Address  \\\n",
       "0     Jai  27.0     Nagpur           Msc     NaN   NaN        NaN   \n",
       "1  Princi  24.0     Kanpur            MA     NaN   NaN        NaN   \n",
       "2  Gaurav  22.0  Allahabad           MCA     NaN   NaN        NaN   \n",
       "3    Anuj  32.0    Kannuaj           Phd     NaN   NaN        NaN   \n",
       "4     NaN   NaN        NaN           NaN     Jai  27.0     Nagpur   \n",
       "5     NaN   NaN        NaN           NaN  Princi  24.0     Kanpur   \n",
       "6     NaN   NaN        NaN           NaN  Gaurav  22.0  Allahabad   \n",
       "7     NaN   NaN        NaN           NaN    Anuj  32.0    Kannuaj   \n",
       "\n",
       "  Qualification  \n",
       "0           NaN  \n",
       "1           NaN  \n",
       "2           NaN  \n",
       "3           NaN  \n",
       "4           Msc  \n",
       "5            MA  \n",
       "6           MCA  \n",
       "7           Phd  "
      ]
     },
     "execution_count": 64,
     "metadata": {},
     "output_type": "execute_result"
    }
   ],
   "source": [
    "res2=pd.concat([df,df1],axis=1,sort=False)\n",
    "res2"
   ]
  },
  {
   "cell_type": "code",
   "execution_count": 65,
   "id": "888e3ddb-ae60-44f7-98cf-d45072a7c2d8",
   "metadata": {},
   "outputs": [],
   "source": [
    "# sorting pandas dataframe "
   ]
  },
  {
   "cell_type": "markdown",
   "id": "17a035a9-06d8-4d44-8c03-d88088dacbee",
   "metadata": {},
   "source": [
    "sorting data is done by using sort_values() method\n",
    "\n",
    "\n",
    "Parameters of sort_values() method\n",
    "\n",
    "by : specifies the cilumn to sort by \n",
    "\n",
    "ascending : A Boolean ( True for acending ) and false for descending \n",
    "\n",
    "\n",
    "inplace  : id True ,the original dataframe is modified otherwise a new sorted DatFrame is returned\n",
    "\n",
    "na_position : control where Nan vakues are placed if we use 'first' to put NaNs at top or 'last'(default)to place them at end\n",
    "\n",
    "ignore_index : "
   ]
  },
  {
   "cell_type": "code",
   "execution_count": 66,
   "id": "3f56f9ab-6986-4f10-b7ff-d7d00eee98aa",
   "metadata": {},
   "outputs": [
    {
     "name": "stdout",
     "output_type": "stream",
     "text": [
      "      Name  Age  Score\n",
      "0    Alice   25     85\n",
      "1      Bob   30     90\n",
      "2  Charlie   35     95\n",
      "3    David   40     80\n"
     ]
    }
   ],
   "source": [
    "# sorting a adataframe by a single column\n",
    "\n",
    "data = {'Name': ['Alice', 'Bob', 'Charlie', 'David'],\n",
    "        'Age': [25, 30, 35, 40],\n",
    "        'Score': [85, 90, 95, 80]}\n",
    "\n",
    "df=pd.DataFrame(data)\n",
    "sorted_df=df.sort_values(by=\"Age\")\n",
    "print(sorted_df)\n",
    "\n"
   ]
  },
  {
   "cell_type": "code",
   "execution_count": 67,
   "id": "8c9a114a-d2f3-4f1e-bd74-24329c6aea0f",
   "metadata": {},
   "outputs": [
    {
     "name": "stdout",
     "output_type": "stream",
     "text": [
      "      Name  Age  Score\n",
      "3    David   40     80\n",
      "2  Charlie   35     95\n",
      "1      Bob   30     90\n",
      "0    Alice   25     85\n"
     ]
    }
   ],
   "source": [
    "# sorting an array using ascending \n",
    "data = {'Name': ['Alice', 'Bob', 'Charlie', 'David'],\n",
    "        'Age': [25, 30, 35, 40],'Score': [85, 90, 95, 80]}\n",
    "\n",
    "\n",
    "df=pd.DataFrame(data)\n",
    "sorted_df=df.sort_values(by=\"Age\",ascending=False)\n",
    "print(sorted_df)"
   ]
  },
  {
   "cell_type": "code",
   "execution_count": 68,
   "id": "cd61f298-b649-460b-83d8-b6a1d985daf0",
   "metadata": {},
   "outputs": [
    {
     "name": "stdout",
     "output_type": "stream",
     "text": [
      "      Name  Age  Score\n",
      "3    David   40     80\n",
      "2  Charlie   35     95\n",
      "1      Bob   30     90\n",
      "0    Alice   25     85\n"
     ]
    }
   ],
   "source": [
    "# sorting a values by a multiple columns\n",
    "data = {'Name': ['Alice', 'Bob', 'Charlie', 'David'],\n",
    "        'Age': [25, 30, 35, 40],\n",
    "        'Score': [85, 90, 95, 80]}\n",
    "\n",
    "df=pd.DataFrame(data)\n",
    "print(sorted_df)"
   ]
  },
  {
   "cell_type": "code",
   "execution_count": 69,
   "id": "48765b89-2f62-40be-b676-2d82607d6115",
   "metadata": {},
   "outputs": [
    {
     "name": "stdout",
     "output_type": "stream",
     "text": [
      "      Name   Age\n",
      "2  Charlie   NaN\n",
      "1      Bob  22.0\n",
      "3    David  22.0\n",
      "0    Alice  28.0\n"
     ]
    }
   ],
   "source": [
    "data_with_nan = {\"Name\": [\"Alice\", \"Bob\", \"Charlie\", \"David\"],\n",
    "                 \"Age\": [28, 22, None, 22]}\n",
    "df_nan=pd.DataFrame(data_with_nan)\n",
    "sorted_df=df_nan.sort_values(by=\"Age\",na_position=\"first\")\n",
    "print(sorted_df)"
   ]
  },
  {
   "cell_type": "markdown",
   "id": "4dc880d8-4530-4541-b5b8-ae9e6b7b75fc",
   "metadata": {},
   "source": [
    "### sorting by array\n",
    "in sorting by column values we may also want to sort a dataFrame based on its index .This can be done using the sort_index() method"
   ]
  },
  {
   "cell_type": "code",
   "execution_count": 70,
   "id": "d5cd336a-fb30-457e-b45e-fbbbe9cd0f06",
   "metadata": {},
   "outputs": [
    {
     "name": "stdout",
     "output_type": "stream",
     "text": [
      "      Name  Age  Score\n",
      "0    Alice   25     85\n",
      "1      Bob   30     90\n",
      "2  Charlie   35     95\n",
      "3    David   40     80\n"
     ]
    }
   ],
   "source": [
    "data = {'Name': ['Alice', 'Bob', 'Charlie', 'David'],\n",
    "        'Age': [25, 30, 35, 40],\n",
    "        'Score': [85, 90, 95, 80]}\n",
    "\n",
    "df=pd.DataFrame(data)\n",
    "df_sorted_by_index=df.sort_index()\n",
    "print(df_sorted_by_index)"
   ]
  },
  {
   "cell_type": "code",
   "execution_count": 71,
   "id": "8ba3a688-69d5-4661-afcf-2d5bda0a9c47",
   "metadata": {},
   "outputs": [
    {
     "name": "stdout",
     "output_type": "stream",
     "text": [
      "      Name  Age  Score\n",
      "3    David   40     80\n",
      "2  Charlie   35     95\n",
      "1      Bob   30     90\n",
      "0    Alice   25     85\n"
     ]
    }
   ],
   "source": [
    "df_sorted_by_desc=df.sort_index(ascending=False)\n",
    "print(df_sorted_by_desc)"
   ]
  },
  {
   "cell_type": "code",
   "execution_count": 72,
   "id": "e8d4ca8c-cbec-45f8-b1e7-48d0669015c6",
   "metadata": {},
   "outputs": [],
   "source": [
    "df = pd.DataFrame({'Product': ['Carrots', 'Broccoli', 'Banana', 'Banana',\n",
    "                               'Beans', 'Orange', 'Broccoli', 'Banana'],\n",
    "                   'Category': ['Vegetable', 'Vegetable', 'Fruit', 'Fruit',\n",
    "                                'Vegetable', 'Fruit', 'Vegetable', 'Fruit'],\n",
    "                   'Quantity': [8, 5, 3, 4, 5, 9, 11, 8],\n",
    "                   'Amount': [270, 239, 617, 384, 626, 610, 62, 90]})"
   ]
  },
  {
   "cell_type": "code",
   "execution_count": 73,
   "id": "17e21997-583f-490b-a11c-48740ffc92e1",
   "metadata": {},
   "outputs": [
    {
     "data": {
      "text/html": [
       "<div>\n",
       "<style scoped>\n",
       "    .dataframe tbody tr th:only-of-type {\n",
       "        vertical-align: middle;\n",
       "    }\n",
       "\n",
       "    .dataframe tbody tr th {\n",
       "        vertical-align: top;\n",
       "    }\n",
       "\n",
       "    .dataframe thead th {\n",
       "        text-align: right;\n",
       "    }\n",
       "</style>\n",
       "<table border=\"1\" class=\"dataframe\">\n",
       "  <thead>\n",
       "    <tr style=\"text-align: right;\">\n",
       "      <th></th>\n",
       "      <th>Product</th>\n",
       "      <th>Category</th>\n",
       "      <th>Quantity</th>\n",
       "      <th>Amount</th>\n",
       "    </tr>\n",
       "  </thead>\n",
       "  <tbody>\n",
       "    <tr>\n",
       "      <th>0</th>\n",
       "      <td>Carrots</td>\n",
       "      <td>Vegetable</td>\n",
       "      <td>8</td>\n",
       "      <td>270</td>\n",
       "    </tr>\n",
       "    <tr>\n",
       "      <th>1</th>\n",
       "      <td>Broccoli</td>\n",
       "      <td>Vegetable</td>\n",
       "      <td>5</td>\n",
       "      <td>239</td>\n",
       "    </tr>\n",
       "    <tr>\n",
       "      <th>2</th>\n",
       "      <td>Banana</td>\n",
       "      <td>Fruit</td>\n",
       "      <td>3</td>\n",
       "      <td>617</td>\n",
       "    </tr>\n",
       "    <tr>\n",
       "      <th>3</th>\n",
       "      <td>Banana</td>\n",
       "      <td>Fruit</td>\n",
       "      <td>4</td>\n",
       "      <td>384</td>\n",
       "    </tr>\n",
       "    <tr>\n",
       "      <th>4</th>\n",
       "      <td>Beans</td>\n",
       "      <td>Vegetable</td>\n",
       "      <td>5</td>\n",
       "      <td>626</td>\n",
       "    </tr>\n",
       "    <tr>\n",
       "      <th>5</th>\n",
       "      <td>Orange</td>\n",
       "      <td>Fruit</td>\n",
       "      <td>9</td>\n",
       "      <td>610</td>\n",
       "    </tr>\n",
       "    <tr>\n",
       "      <th>6</th>\n",
       "      <td>Broccoli</td>\n",
       "      <td>Vegetable</td>\n",
       "      <td>11</td>\n",
       "      <td>62</td>\n",
       "    </tr>\n",
       "    <tr>\n",
       "      <th>7</th>\n",
       "      <td>Banana</td>\n",
       "      <td>Fruit</td>\n",
       "      <td>8</td>\n",
       "      <td>90</td>\n",
       "    </tr>\n",
       "  </tbody>\n",
       "</table>\n",
       "</div>"
      ],
      "text/plain": [
       "    Product   Category  Quantity  Amount\n",
       "0   Carrots  Vegetable         8     270\n",
       "1  Broccoli  Vegetable         5     239\n",
       "2    Banana      Fruit         3     617\n",
       "3    Banana      Fruit         4     384\n",
       "4     Beans  Vegetable         5     626\n",
       "5    Orange      Fruit         9     610\n",
       "6  Broccoli  Vegetable        11      62\n",
       "7    Banana      Fruit         8      90"
      ]
     },
     "execution_count": 73,
     "metadata": {},
     "output_type": "execute_result"
    }
   ],
   "source": [
    "df"
   ]
  },
  {
   "cell_type": "code",
   "execution_count": 74,
   "id": "f7eef18c-c825-49a9-a5a5-9a18c295fd20",
   "metadata": {},
   "outputs": [],
   "source": [
    "# getting total sales of eaxch product"
   ]
  },
  {
   "cell_type": "code",
   "execution_count": 76,
   "id": "c5cadb8f-0ddc-4d5a-a940-38eec456bee2",
   "metadata": {},
   "outputs": [
    {
     "name": "stdout",
     "output_type": "stream",
     "text": [
      "          Amount\n",
      "Product         \n",
      "Banana      1091\n",
      "Beans        626\n",
      "Broccoli     301\n",
      "Carrots      270\n",
      "Orange       610\n"
     ]
    }
   ],
   "source": [
    "pivot=df.pivot_table(index=[\"Product\"],values=[\"Amount\"],aggfunc=\"sum\")\n",
    "print(pivot)"
   ]
  },
  {
   "cell_type": "code",
   "execution_count": 77,
   "id": "5b067940-37a2-49ee-88e3-85670448ac4b",
   "metadata": {},
   "outputs": [],
   "source": [
    "# getting total sales of each category"
   ]
  },
  {
   "cell_type": "code",
   "execution_count": 78,
   "id": "2365a408-d8ca-40e7-afb0-86681a6ed581",
   "metadata": {},
   "outputs": [
    {
     "name": "stdout",
     "output_type": "stream",
     "text": [
      "           Amount\n",
      "Category         \n",
      "Fruit        1701\n",
      "Vegetable    1197\n"
     ]
    }
   ],
   "source": [
    "pivot=df.pivot_table(index=[\"Category\"],values=[\"Amount\"],aggfunc=\"sum\")\n",
    "print(pivot)"
   ]
  },
  {
   "cell_type": "code",
   "execution_count": 81,
   "id": "fb0c15af-0a17-4ecf-b2e6-1ab6e7d409d8",
   "metadata": {},
   "outputs": [
    {
     "name": "stdout",
     "output_type": "stream",
     "text": [
      "                    Amount\n",
      "Product  Category         \n",
      "Banana   Fruit        1091\n",
      "Beans    Vegetable     626\n",
      "Broccoli Vegetable     301\n",
      "Carrots  Vegetable     270\n",
      "Orange   Fruit         610\n"
     ]
    }
   ],
   "source": [
    "# getting pivot values by category and product\n",
    "pivot=df.pivot_table(index=[\"Product\",\"Category\"],\n",
    "                  values=[\"Amount\"],aggfunc=\"sum\")\n",
    "print(pivot)"
   ]
  },
  {
   "cell_type": "code",
   "execution_count": 82,
   "id": "fd2fe823-be0f-45f5-a00c-3c510ffd9f79",
   "metadata": {},
   "outputs": [],
   "source": [
    "# Getting the mean,median and mode sales by category\n"
   ]
  },
  {
   "cell_type": "code",
   "execution_count": 83,
   "id": "75937fd9-5682-406a-9ee5-79b1e28e8b71",
   "metadata": {},
   "outputs": [
    {
     "name": "stdout",
     "output_type": "stream",
     "text": [
      "           Amount           \n",
      "             mean median min\n",
      "Category                    \n",
      "Fruit      425.25  497.0  90\n",
      "Vegetable  299.25  254.5  62\n"
     ]
    }
   ],
   "source": [
    "pivot=df.pivot_table(index=[\"Category\"],values=[\"Amount\"],aggfunc={\"median\",\"mean\",\"min\"})\n",
    "print(pivot)"
   ]
  },
  {
   "cell_type": "code",
   "execution_count": 84,
   "id": "cec04041-e244-40bd-8b79-f4a3662f59df",
   "metadata": {},
   "outputs": [],
   "source": [
    "# get mean,median,minimum sale by product\n"
   ]
  },
  {
   "cell_type": "code",
   "execution_count": 86,
   "id": "6f926ebc-8320-476c-9252-6e9de4b90d1a",
   "metadata": {},
   "outputs": [
    {
     "name": "stdout",
     "output_type": "stream",
     "text": [
      "              Amount            \n",
      "                mean median  min\n",
      "Product                         \n",
      "Banana    363.666667  384.0   90\n",
      "Beans     626.000000  626.0  626\n",
      "Broccoli  150.500000  150.5   62\n",
      "Carrots   270.000000  270.0  270\n",
      "Orange    610.000000  610.0  610\n"
     ]
    }
   ],
   "source": [
    "pivot=df.pivot_table(index=[\"Product\"],values=[\"Amount\"],aggfunc={\"median\",\"mean\",\"min\"})\n",
    "print(pivot)"
   ]
  },
  {
   "cell_type": "code",
   "execution_count": 87,
   "id": "279820ec-11b9-4716-8ae2-f8ace83c74ec",
   "metadata": {},
   "outputs": [],
   "source": [
    "data = {'Name': ['Alice', 'Bob', 'Charlie', 'David'],\n",
    "        'Age': [25, 30, 35, 40],\n",
    "        'Score': [85, 90, 95, 80]}"
   ]
  },
  {
   "cell_type": "code",
   "execution_count": 88,
   "id": "0ea1d66c-fbe7-4bf9-9879-2150995c607e",
   "metadata": {},
   "outputs": [
    {
     "name": "stdout",
     "output_type": "stream",
     "text": [
      "      Name  Age  Score\n",
      "0    Alice   25     85\n",
      "1      Bob   30     90\n",
      "2  Charlie   35     95\n",
      "3    David   40     80\n"
     ]
    }
   ],
   "source": [
    "df=pd.DataFrame(data)\n",
    "sorted_df=df.sort_values(by=\"Age\")\n",
    "print(sorted_df)"
   ]
  },
  {
   "cell_type": "code",
   "execution_count": 89,
   "id": "f9e6ad1f-0e21-419c-85ca-0f088206dd21",
   "metadata": {},
   "outputs": [
    {
     "name": "stdout",
     "output_type": "stream",
     "text": [
      "      Name  Age  Score\n",
      "3    David   40     80\n",
      "2  Charlie   35     95\n",
      "1      Bob   30     90\n",
      "0    Alice   25     85\n"
     ]
    }
   ],
   "source": [
    "# sort the array by aage with descending order\n",
    "sorted_array=df.sort_values(by=\"Age\",ascending=False)\n",
    "print(sorted_array)"
   ]
  },
  {
   "cell_type": "code",
   "execution_count": 90,
   "id": "56c78660-0ae3-422e-bbc3-e40e9586efc5",
   "metadata": {},
   "outputs": [],
   "source": [
    "# sorting the dataframe by multiple columns\n",
    "df=pd.DataFrame(data)"
   ]
  },
  {
   "cell_type": "code",
   "execution_count": 93,
   "id": "c966c7a1-93a9-4e42-9874-735126bf5cba",
   "metadata": {},
   "outputs": [
    {
     "name": "stdout",
     "output_type": "stream",
     "text": [
      "      Name  Age  Score\n",
      "0    Alice   25     85\n",
      "1      Bob   30     90\n",
      "2  Charlie   35     95\n",
      "3    David   40     80\n"
     ]
    }
   ],
   "source": [
    "sorted_array=df.sort_values(by=[\"Age\",\"Score\"])\n",
    "print(sorted_array)"
   ]
  },
  {
   "cell_type": "code",
   "execution_count": 94,
   "id": "e969e968-d111-40cf-927f-7c9e466bec70",
   "metadata": {},
   "outputs": [
    {
     "name": "stdout",
     "output_type": "stream",
     "text": [
      "      Name  Age  Score\n",
      "0    Alice   25     85\n",
      "1      Bob   30     90\n",
      "2  Charlie   35     95\n",
      "3    David   40     80\n"
     ]
    }
   ],
   "source": [
    "sorted_df=df.sort_values(by=\"Age\",na_position=\"first\")\n",
    "print(sorted_df)"
   ]
  },
  {
   "cell_type": "code",
   "execution_count": 95,
   "id": "bb941f68-ec21-4a1e-abae-584f1dd2f113",
   "metadata": {},
   "outputs": [],
   "source": [
    "data = {'Name': ['Alice', 'Bob', 'Charlie', 'David'],\n",
    "        'Age': [25, 30, 35, 40],\n",
    "        'Score': [85, 90, 95, 80]}\n",
    "\n",
    "df=pd.DataFrame(data)\n"
   ]
  },
  {
   "cell_type": "code",
   "execution_count": 96,
   "id": "6413dac4-176a-4ef0-a4dc-a08b6045f7b4",
   "metadata": {},
   "outputs": [
    {
     "name": "stdout",
     "output_type": "stream",
     "text": [
      "      Name  Age  Score\n",
      "0    Alice   25     85\n",
      "1      Bob   30     90\n",
      "2  Charlie   35     95\n",
      "3    David   40     80\n"
     ]
    }
   ],
   "source": [
    "df_sorted=df.sort_index()\n",
    "print(df_sorted)"
   ]
  },
  {
   "cell_type": "code",
   "execution_count": 97,
   "id": "fcce8f3e-edf1-42ec-9b8d-13ca25f1a7cd",
   "metadata": {},
   "outputs": [
    {
     "name": "stdout",
     "output_type": "stream",
     "text": [
      "      Name  Age  Score\n",
      "3    David   40     80\n",
      "2  Charlie   35     95\n",
      "1      Bob   30     90\n",
      "0    Alice   25     85\n"
     ]
    }
   ],
   "source": [
    "sort_index_desc=df.sort_index(ascending=False)\n",
    "print(sort_index_desc)"
   ]
  },
  {
   "cell_type": "code",
   "execution_count": 98,
   "id": "9e0b3b02-1377-4c0b-9116-03bb5478286e",
   "metadata": {},
   "outputs": [
    {
     "name": "stdout",
     "output_type": "stream",
     "text": [
      "      Name  Age  Score\n",
      "1      Bob   22     90\n",
      "3    David   22     80\n",
      "2  Charlie   25     95\n",
      "0    Alice   28     85\n",
      "4      Eve   28     88\n"
     ]
    }
   ],
   "source": [
    "data = {\n",
    "    \"Name\": [\"Alice\", \"Bob\", \"Charlie\", \"David\", \"Eve\"],\n",
    "    \"Age\": [28, 22, 25, 22, 28],\n",
    "    \"Score\": [85, 90, 95, 80, 88]\n",
    "}\n",
    "\n",
    "df=pd.DataFrame(data)\n",
    "sorted_df=df.sort_values(by=\"Age\",kind=\"quicksort\")\n",
    "print(sorted_df)"
   ]
  },
  {
   "cell_type": "code",
   "execution_count": 99,
   "id": "0109c408-0a0f-43be-a070-0a652463cb81",
   "metadata": {},
   "outputs": [
    {
     "name": "stdout",
     "output_type": "stream",
     "text": [
      "      Name  Age  Score\n",
      "1      Bob   22     90\n",
      "3    David   22     80\n",
      "2  Charlie   25     95\n",
      "0    Alice   28     85\n",
      "4      Eve   28     88\n"
     ]
    }
   ],
   "source": [
    "merged_df=df.sort_values(by=\"Age\",kind=\"mergesort\")\n",
    "print(merged_df)"
   ]
  },
  {
   "cell_type": "code",
   "execution_count": 100,
   "id": "edd0d73b-7db1-41ac-8298-c213ef521e6c",
   "metadata": {},
   "outputs": [
    {
     "name": "stdout",
     "output_type": "stream",
     "text": [
      "      Name  Age  Score\n",
      "1      Bob   22     90\n",
      "3    David   22     80\n",
      "2  Charlie   25     95\n",
      "4      Eve   28     88\n",
      "0    Alice   28     85\n"
     ]
    }
   ],
   "source": [
    "heap_sort=df.sort_values(by=\"Age\",kind=\"heapsort\")\n",
    "print(heap_sort)"
   ]
  },
  {
   "cell_type": "code",
   "execution_count": 101,
   "id": "8dc8545c-01a0-41e2-acf1-e23fbeeb7a5f",
   "metadata": {},
   "outputs": [],
   "source": [
    "# pandas merging,joining and concatinating"
   ]
  },
  {
   "cell_type": "code",
   "execution_count": null,
   "id": "58a24871-f3d0-4d0d-95f5-eff630cf14da",
   "metadata": {},
   "outputs": [],
   "source": [
    "# when we are working with data organized in rows and columns "
   ]
  }
 ],
 "metadata": {
  "kernelspec": {
   "display_name": "Python 3 (ipykernel)",
   "language": "python",
   "name": "python3"
  },
  "language_info": {
   "codemirror_mode": {
    "name": "ipython",
    "version": 3
   },
   "file_extension": ".py",
   "mimetype": "text/x-python",
   "name": "python",
   "nbconvert_exporter": "python",
   "pygments_lexer": "ipython3",
   "version": "3.12.2"
  }
 },
 "nbformat": 4,
 "nbformat_minor": 5
}
