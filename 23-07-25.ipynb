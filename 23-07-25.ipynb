{
 "cells": [
  {
   "cell_type": "code",
   "execution_count": 1,
   "id": "edf81a75-8a6c-4fc0-88d4-a9f90b7c1ad5",
   "metadata": {},
   "outputs": [],
   "source": [
    "# creating a pandas series"
   ]
  },
  {
   "cell_type": "markdown",
   "id": "dd4d7779-214e-48e9-bfce-6d0d344837ea",
   "metadata": {},
   "source": [
    "pandas series is a single column in a spreadsheet.it is a one dimensional array that can hold many type of data such as  numbers,word or even other python objects \n",
    "\n",
    "Each value in index is associated with an index\n",
    "\n",
    "\n",
    "\n",
    "creating an empty pandas series\n",
    "\n",
    "An empty series contains no data and can be useful when we plan to add values later.we can create a empty Series using pd.Series() function By defalut an empty DSeries has afloat64 data type ."
   ]
  },
  {
   "cell_type": "code",
   "execution_count": 2,
   "id": "5501c6ae-1559-41e3-b306-08d63ad4a5e9",
   "metadata": {},
   "outputs": [
    {
     "name": "stdout",
     "output_type": "stream",
     "text": [
      "Series([], dtype: object)\n"
     ]
    }
   ],
   "source": [
    "import pandas as pd\n",
    "ser=pd.Series()\n",
    "print(ser)"
   ]
  },
  {
   "cell_type": "code",
   "execution_count": 3,
   "id": "075dde85-642a-4ebe-a3fa-ba2308b83fe4",
   "metadata": {},
   "outputs": [
    {
     "name": "stdout",
     "output_type": "stream",
     "text": [
      "0    g\n",
      "1    e\n",
      "2    e\n",
      "3    k\n",
      "4    s\n",
      "dtype: object\n"
     ]
    }
   ],
   "source": [
    "# creating an series from numpy array\n",
    "import pandas as pd\n",
    "import numpy as np\n",
    "data=np.array(['g','e','e','k','s'])\n",
    "ser=pd.Series(data)\n",
    "print(ser)"
   ]
  },
  {
   "cell_type": "code",
   "execution_count": 4,
   "id": "3788fb51-7e7e-4313-babc-5f603351b5ac",
   "metadata": {},
   "outputs": [
    {
     "name": "stdout",
     "output_type": "stream",
     "text": [
      "0    g\n",
      "1    e\n",
      "2    e\n",
      "3    k\n",
      "4    s\n",
      "dtype: object\n"
     ]
    }
   ],
   "source": [
    "# creating a series form list\n",
    "list=['g','e','e','k','s']\n",
    "ser=pd.Series(list)\n",
    "print(ser)"
   ]
  },
  {
   "cell_type": "code",
   "execution_count": 6,
   "id": "1e63f1ff-b906-4c35-8f25-5fc18c6fc626",
   "metadata": {},
   "outputs": [
    {
     "name": "stdout",
     "output_type": "stream",
     "text": [
      "Geeks    10\n",
      "for      20\n",
      "geeks    30\n",
      "dtype: int64\n"
     ]
    }
   ],
   "source": [
    "# creating a series from dictonary\n",
    "data_dict={\"Geeks\":10,\"for\":20,\"geeks\":30}\n",
    "ser=pd.Series(data_dict)\n",
    "print(ser)"
   ]
  },
  {
   "cell_type": "code",
   "execution_count": 9,
   "id": "001d8bb4-bc6b-47eb-aaf0-dec5d75b6d2d",
   "metadata": {},
   "outputs": [
    {
     "data": {
      "text/plain": [
       "0     1.00\n",
       "1     3.25\n",
       "2     5.50\n",
       "3     7.75\n",
       "4    10.00\n",
       "dtype: float64"
      ]
     },
     "metadata": {},
     "output_type": "display_data"
    }
   ],
   "source": [
    "# creating pandas series from numpy function\n",
    "import pandas as pd\n",
    "import numpy as np\n",
    "ser=pd.Series(np.linspace(1,10,5))\n",
    "display(ser)"
   ]
  },
  {
   "cell_type": "code",
   "execution_count": 8,
   "id": "867bd7c3-dab5-4b5f-9638-2279c4a4c8b8",
   "metadata": {},
   "outputs": [
    {
     "name": "stdout",
     "output_type": "stream",
     "text": [
      "0     5\n",
      "1     6\n",
      "2     7\n",
      "3     8\n",
      "4     9\n",
      "5    10\n",
      "6    11\n",
      "7    12\n",
      "8    13\n",
      "9    14\n",
      "dtype: int64\n"
     ]
    }
   ],
   "source": [
    "# creating the series using range() function\n",
    "ser=pd.Series(range(5,15))\n",
    "print(ser)"
   ]
  },
  {
   "cell_type": "code",
   "execution_count": 10,
   "id": "ac9391a9-73c9-4073-ab06-09e327223967",
   "metadata": {},
   "outputs": [],
   "source": [
    "# creating series using a list comprahensive "
   ]
  },
  {
   "cell_type": "code",
   "execution_count": 14,
   "id": "0603ba61-5e9a-476e-a9a3-c4ca563e746f",
   "metadata": {},
   "outputs": [
    {
     "name": "stdout",
     "output_type": "stream",
     "text": [
      "a     1\n",
      "b     4\n",
      "c     7\n",
      "d    10\n",
      "e    13\n",
      "f    16\n",
      "g    19\n",
      "dtype: int64\n"
     ]
    }
   ],
   "source": [
    "ser=pd.Series(range(1,20,3),index=[x for x in 'abcdefg'])\n",
    "print(ser)"
   ]
  },
  {
   "cell_type": "markdown",
   "id": "36a57288-839d-492a-9167-f64af4fda596",
   "metadata": {},
   "source": [
    "### accessing elements of a pandas series \n",
    "\n",
    "pandas series can hold data of any type .\n",
    "\n",
    "elements of series can be xaaccessed by two ways they are \n",
    "\n",
    "accessing elements from series with position \n",
    "accessing elements using label"
   ]
  },
  {
   "cell_type": "markdown",
   "id": "a1f86927-6377-4c29-8a27-0db611c14064",
   "metadata": {},
   "source": [
    "## accessing elements from series with position \n",
    "\n",
    "in order to access the series elements refers to the index number >use the index[] operator to sccess an elements in a series .index must be integer\n",
    "\n",
    "in order to access multiple elements from series ,we use slice operator . slice operation is performed on series with the use of the colon(:)\n",
    "\n",
    "print the elements from beginning to a range use [:index]\n",
    "print the elements specific index till end use [index:]\n",
    "print elements within a range [start index: end index]\n",
    "print the whole series with the series using [:]\n",
    "print the whole series reverse order [::-1]\n"
   ]
  },
  {
   "cell_type": "code",
   "execution_count": 15,
   "id": "36624a48-b641-4115-b320-e2e9015c0619",
   "metadata": {},
   "outputs": [
    {
     "name": "stdout",
     "output_type": "stream",
     "text": [
      "0     g\n",
      "1     e\n",
      "2     e\n",
      "3     k\n",
      "4     s\n",
      "5     f\n",
      "6     o\n",
      "7     r\n",
      "8     g\n",
      "9     e\n",
      "10    e\n",
      "11    k\n",
      "12    s\n",
      "dtype: object\n"
     ]
    }
   ],
   "source": [
    "# accessing the fiorst elements of series\n",
    "import pandas as pd\n",
    "import numpy as np\n",
    "data = np.array(['g', 'e', 'e', 'k', 's', 'f',\n",
    "                 'o', 'r', 'g', 'e', 'e', 'k', 's'])\n",
    "\n",
    "ser=pd.Series(data)\n",
    "print(ser)\n"
   ]
  },
  {
   "cell_type": "code",
   "execution_count": 16,
   "id": "34bdc742-b378-49dd-b35b-3c3ff503afc2",
   "metadata": {},
   "outputs": [
    {
     "name": "stdout",
     "output_type": "stream",
     "text": [
      "e\n"
     ]
    }
   ],
   "source": [
    "print(ser[10])"
   ]
  },
  {
   "cell_type": "code",
   "execution_count": 17,
   "id": "25475e6e-21ea-4279-8d2b-ad7fa2533933",
   "metadata": {},
   "outputs": [
    {
     "name": "stdout",
     "output_type": "stream",
     "text": [
      "0    g\n",
      "1    e\n",
      "2    e\n",
      "3    k\n",
      "4    s\n",
      "dtype: object\n"
     ]
    }
   ],
   "source": [
    "# accessing the first five elements from  a series\n",
    "print(ser[:5])"
   ]
  },
  {
   "cell_type": "code",
   "execution_count": 19,
   "id": "36f1fae8-f224-4c83-8939-ac41399ca03e",
   "metadata": {},
   "outputs": [
    {
     "name": "stdout",
     "output_type": "stream",
     "text": [
      "3     k\n",
      "4     s\n",
      "5     f\n",
      "6     o\n",
      "7     r\n",
      "8     g\n",
      "9     e\n",
      "10    e\n",
      "11    k\n",
      "12    s\n",
      "dtype: object\n"
     ]
    }
   ],
   "source": [
    "# accessing last 10 elements\n",
    "print(ser[-10:])\n"
   ]
  },
  {
   "cell_type": "code",
   "execution_count": 20,
   "id": "890c9ec5-e164-4050-a5a0-578b968ccbb3",
   "metadata": {},
   "outputs": [],
   "source": [
    "# Binary operations on pandas and series\n",
    "\n",
    "# Binary operations involve applying mathematical or logical operations on two objects "
   ]
  },
  {
   "cell_type": "markdown",
   "id": "ed0a6e53-72f0-44c5-bca4-c18199d4249e",
   "metadata": {},
   "source": [
    "The most common binary operations include\n",
    "\n",
    "Arthematic operations : addition ,substraction, multiplication and division\n",
    "\n",
    "comparison opeartions : equal to ,not equal to ,greater than, lesser than  etc..\n",
    "\n",
    "logical operation : And or etc...\n",
    "\n"
   ]
  },
  {
   "cell_type": "code",
   "execution_count": 21,
   "id": "366d5fee-3853-4676-b55f-23f675ace7d7",
   "metadata": {},
   "outputs": [],
   "source": [
    "# 1 arthematic operation on series \n",
    "\n",
    "#  arthematic operation between two series is applied in element wise .the index label must allign for the opearation to work\n",
    "# if indexes doesnot match,pandas will fill in missing values with NaN "
   ]
  },
  {
   "cell_type": "code",
   "execution_count": 23,
   "id": "db84cfb3-4a4d-4474-b8d9-bc49c37f7aee",
   "metadata": {},
   "outputs": [
    {
     "name": "stdout",
     "output_type": "stream",
     "text": [
      "a    11\n",
      "b    22\n",
      "c    33\n",
      "dtype: int64\n"
     ]
    }
   ],
   "source": [
    "import pandas as pd\n",
    "s1=pd.Series([10,20,30],index=['a','b','c'])\n",
    "s2=pd.Series([1,2,3],index=['a','b','c'])\n",
    "result=s1+s2\n",
    "print(result)"
   ]
  },
  {
   "cell_type": "code",
   "execution_count": 24,
   "id": "b1ee4bde-47d7-4b71-9ae0-29b999b05a74",
   "metadata": {},
   "outputs": [
    {
     "name": "stdout",
     "output_type": "stream",
     "text": [
      "0     True\n",
      "1    False\n",
      "2     True\n",
      "dtype: bool\n"
     ]
    }
   ],
   "source": [
    "# comparison operation on series \n",
    "s1=pd.Series([10,20,30])\n",
    "s2=pd.Series([10,25,30])\n",
    "result=s1==s2\n",
    "\n",
    "print(result)"
   ]
  },
  {
   "cell_type": "code",
   "execution_count": 26,
   "id": "542642f8-9853-4df9-aaa4-1adb66d7af63",
   "metadata": {},
   "outputs": [],
   "source": [
    "# Binary operation on pandas DataFrame \n",
    "\n",
    "# 1 Arthematic operation on dataframes\n",
    "\n",
    "# substracting dataframes\n",
    "df1=pd.DataFrame({'A':[10,20,30],'B':[40,50,60]})\n",
    "df2=pd.DataFrame({'A':[1,2,3],'B':[4,5,6]})\n",
    "\n"
   ]
  },
  {
   "cell_type": "code",
   "execution_count": 27,
   "id": "1cfaa1e6-78d0-4619-be0a-96e385124cb3",
   "metadata": {},
   "outputs": [
    {
     "name": "stdout",
     "output_type": "stream",
     "text": [
      "    A   B\n",
      "0   9  36\n",
      "1  18  45\n",
      "2  27  54\n"
     ]
    }
   ],
   "source": [
    "result=df1-df2\n",
    "print(result)"
   ]
  },
  {
   "cell_type": "code",
   "execution_count": 28,
   "id": "65e9345c-32b8-4d33-a33f-d7557bc5999a",
   "metadata": {},
   "outputs": [],
   "source": [
    "# comparision operation on dataframes"
   ]
  },
  {
   "cell_type": "code",
   "execution_count": 29,
   "id": "12ab4c5c-6357-440d-87a7-6238056ac70e",
   "metadata": {},
   "outputs": [
    {
     "name": "stdout",
     "output_type": "stream",
     "text": [
      "       A      B\n",
      "0   True  False\n",
      "1   True  False\n",
      "2  False  False\n"
     ]
    }
   ],
   "source": [
    "import pandas as pd\n",
    "df1=pd.DataFrame({'A':[10,20,30],'B':[40,50,60]})\n",
    "df2=pd.DataFrame({'A':[5,10,30],'B':[40,50,60]})\n",
    "result=df1>df2\n",
    "print(result)"
   ]
  },
  {
   "cell_type": "code",
   "execution_count": 30,
   "id": "fc90920c-c5c4-4c99-a98d-71628a3d2adf",
   "metadata": {},
   "outputs": [],
   "source": [
    "# Logical operation on Dataframe and series "
   ]
  },
  {
   "cell_type": "code",
   "execution_count": 31,
   "id": "8546317a-8d18-46f0-a6fe-2ea8cfe76801",
   "metadata": {},
   "outputs": [],
   "source": [
    "# pandas always supports logical operations on DataFrames and series .these are commonly used for filtering and applying condition"
   ]
  },
  {
   "cell_type": "code",
   "execution_count": 33,
   "id": "361d320e-4622-4402-b59f-de841e6db2dc",
   "metadata": {},
   "outputs": [
    {
     "name": "stdout",
     "output_type": "stream",
     "text": [
      "0     True\n",
      "1    False\n",
      "2    False\n",
      "3    False\n",
      "dtype: bool\n"
     ]
    }
   ],
   "source": [
    "import pandas as pd\n",
    "s1=pd.Series([True,False,False,True])\n",
    "s2=pd.Series([True,False,True,False])\n",
    "result=s1&s2\n",
    "print(result)"
   ]
  },
  {
   "cell_type": "code",
   "execution_count": 34,
   "id": "d8193dba-3df8-4682-84d2-20ff15acd9b3",
   "metadata": {},
   "outputs": [],
   "source": [
    "# pandas series index attribute\n"
   ]
  },
  {
   "cell_type": "code",
   "execution_count": 35,
   "id": "5c95b77b-f5ca-4e02-9ed7-474bef4cb9b7",
   "metadata": {},
   "outputs": [],
   "source": [
    "# pandas series is a one dimensional array capable of holding any data type \n"
   ]
  },
  {
   "cell_type": "code",
   "execution_count": 37,
   "id": "a385dd15-a60d-45be-99b2-b517df659dd5",
   "metadata": {},
   "outputs": [
    {
     "name": "stdout",
     "output_type": "stream",
     "text": [
      "original index Index(['a', 'b', 'c', 'd'], dtype='object')\n"
     ]
    }
   ],
   "source": [
    "# Ex : data.index() \n",
    "data=pd.Series([10,20,30,40],index=[\"a\",\"b\",\"c\",\"d\"])\n",
    "print(\"original index\",data.index)\n"
   ]
  },
  {
   "cell_type": "code",
   "execution_count": 38,
   "id": "03edadb6-11a8-4caa-9590-a3996e82ae63",
   "metadata": {},
   "outputs": [
    {
     "name": "stdout",
     "output_type": "stream",
     "text": [
      "Modified Series w    10\n",
      "x    20\n",
      "y    30\n",
      "z    40\n",
      "dtype: int64\n"
     ]
    }
   ],
   "source": [
    "# change array index \n",
    "data.index=[\"w\",\"x\",\"y\",\"z\"]\n",
    "print(\"Modified Series\",data)\n"
   ]
  },
  {
   "cell_type": "code",
   "execution_count": 41,
   "id": "88963c40-9a49-4c6f-98e1-34ffdd10a6b7",
   "metadata": {},
   "outputs": [
    {
     "name": "stdout",
     "output_type": "stream",
     "text": [
      "0    a\n",
      "1    b\n",
      "2    c\n",
      "3    d\n",
      "4    e\n",
      "dtype: object\n"
     ]
    }
   ],
   "source": [
    "# creating a pandas series without custom index \n",
    "import pandas as pd\n",
    "import numpy as np\n",
    "array=np.array([\"a\",\"b\",\"c\",\"d\",\"e\"])\n",
    "s=pd.Series(array)\n",
    "print(s)"
   ]
  },
  {
   "cell_type": "code",
   "execution_count": 43,
   "id": "2c042dff-4940-407a-8ed2-ba0a210eb961",
   "metadata": {},
   "outputs": [
    {
     "name": "stdout",
     "output_type": "stream",
     "text": [
      "1000    a\n",
      "1001    b\n",
      "1002    c\n",
      "1003    d\n",
      "1004    e\n",
      "dtype: object\n"
     ]
    }
   ],
   "source": [
    "# creating a pandas series with a index\n",
    "import pandas as pd\n",
    "import numpy as np\n",
    "array=np.array([\"a\",\"b\",\"c\",\"d\",\"e\"])\n",
    "s=pd.Series(array,index=[1000,1001,1002,1003,1004])\n",
    "print(s)"
   ]
  },
  {
   "cell_type": "code",
   "execution_count": 44,
   "id": "5542ba6c-80af-49c5-8917-628e2b64e212",
   "metadata": {},
   "outputs": [],
   "source": [
    "# pandas read CVS in python "
   ]
  },
  {
   "cell_type": "code",
   "execution_count": 46,
   "id": "2c6d3248-6f61-40dc-b2db-42bb1a02e6c5",
   "metadata": {},
   "outputs": [
    {
     "name": "stdout",
     "output_type": "stream",
     "text": [
      "  First Name Last Name     Sex                       Email Date of birth  \\\n",
      "0     Shelby   Terrell    Male        elijah57@example.net    1945-10-26   \n",
      "1    Phillip   Summers  Female       bethany14@example.com    1910-03-24   \n",
      "2   Kristine    Travis    Male       bthompson@example.com    1992-07-02   \n",
      "3    Yesenia  Martinez    Male   kaitlinkaiser@example.com    2017-08-03   \n",
      "4       Lori      Todd    Male  buchananmanuel@example.net    1938-12-01   \n",
      "\n",
      "            Job Title  \n",
      "0     Games developer  \n",
      "1      Phytotherapist  \n",
      "2           Homeopath  \n",
      "3   Market researcher  \n",
      "4  Veterinary surgeon  \n"
     ]
    }
   ],
   "source": [
    "import pandas as pd\n",
    "df=pd.read_csv(\"people_data.csv\")\n",
    "print(df)"
   ]
  },
  {
   "cell_type": "code",
   "execution_count": 47,
   "id": "5dd9c9e0-1f02-46ec-bd1f-7624745c5f70",
   "metadata": {},
   "outputs": [
    {
     "data": {
      "text/html": [
       "<div>\n",
       "<style scoped>\n",
       "    .dataframe tbody tr th:only-of-type {\n",
       "        vertical-align: middle;\n",
       "    }\n",
       "\n",
       "    .dataframe tbody tr th {\n",
       "        vertical-align: top;\n",
       "    }\n",
       "\n",
       "    .dataframe thead th {\n",
       "        text-align: right;\n",
       "    }\n",
       "</style>\n",
       "<table border=\"1\" class=\"dataframe\">\n",
       "  <thead>\n",
       "    <tr style=\"text-align: right;\">\n",
       "      <th></th>\n",
       "      <th>First Name</th>\n",
       "      <th>Last Name</th>\n",
       "      <th>Sex</th>\n",
       "      <th>Email</th>\n",
       "      <th>Date of birth</th>\n",
       "      <th>Job Title</th>\n",
       "    </tr>\n",
       "  </thead>\n",
       "  <tbody>\n",
       "    <tr>\n",
       "      <th>0</th>\n",
       "      <td>Shelby</td>\n",
       "      <td>Terrell</td>\n",
       "      <td>Male</td>\n",
       "      <td>elijah57@example.net</td>\n",
       "      <td>1945-10-26</td>\n",
       "      <td>Games developer</td>\n",
       "    </tr>\n",
       "    <tr>\n",
       "      <th>1</th>\n",
       "      <td>Phillip</td>\n",
       "      <td>Summers</td>\n",
       "      <td>Female</td>\n",
       "      <td>bethany14@example.com</td>\n",
       "      <td>1910-03-24</td>\n",
       "      <td>Phytotherapist</td>\n",
       "    </tr>\n",
       "    <tr>\n",
       "      <th>2</th>\n",
       "      <td>Kristine</td>\n",
       "      <td>Travis</td>\n",
       "      <td>Male</td>\n",
       "      <td>bthompson@example.com</td>\n",
       "      <td>1992-07-02</td>\n",
       "      <td>Homeopath</td>\n",
       "    </tr>\n",
       "    <tr>\n",
       "      <th>3</th>\n",
       "      <td>Yesenia</td>\n",
       "      <td>Martinez</td>\n",
       "      <td>Male</td>\n",
       "      <td>kaitlinkaiser@example.com</td>\n",
       "      <td>2017-08-03</td>\n",
       "      <td>Market researcher</td>\n",
       "    </tr>\n",
       "    <tr>\n",
       "      <th>4</th>\n",
       "      <td>Lori</td>\n",
       "      <td>Todd</td>\n",
       "      <td>Male</td>\n",
       "      <td>buchananmanuel@example.net</td>\n",
       "      <td>1938-12-01</td>\n",
       "      <td>Veterinary surgeon</td>\n",
       "    </tr>\n",
       "  </tbody>\n",
       "</table>\n",
       "</div>"
      ],
      "text/plain": [
       "  First Name Last Name     Sex                       Email Date of birth  \\\n",
       "0     Shelby   Terrell    Male        elijah57@example.net    1945-10-26   \n",
       "1    Phillip   Summers  Female       bethany14@example.com    1910-03-24   \n",
       "2   Kristine    Travis    Male       bthompson@example.com    1992-07-02   \n",
       "3    Yesenia  Martinez    Male   kaitlinkaiser@example.com    2017-08-03   \n",
       "4       Lori      Todd    Male  buchananmanuel@example.net    1938-12-01   \n",
       "\n",
       "            Job Title  \n",
       "0     Games developer  \n",
       "1      Phytotherapist  \n",
       "2           Homeopath  \n",
       "3   Market researcher  \n",
       "4  Veterinary surgeon  "
      ]
     },
     "execution_count": 47,
     "metadata": {},
     "output_type": "execute_result"
    }
   ],
   "source": [
    "df"
   ]
  },
  {
   "cell_type": "code",
   "execution_count": 49,
   "id": "0608d674-7087-4bd2-a485-fdebd2214806",
   "metadata": {},
   "outputs": [
    {
     "data": {
      "text/html": [
       "<div>\n",
       "<style scoped>\n",
       "    .dataframe tbody tr th:only-of-type {\n",
       "        vertical-align: middle;\n",
       "    }\n",
       "\n",
       "    .dataframe tbody tr th {\n",
       "        vertical-align: top;\n",
       "    }\n",
       "\n",
       "    .dataframe thead th {\n",
       "        text-align: right;\n",
       "    }\n",
       "</style>\n",
       "<table border=\"1\" class=\"dataframe\">\n",
       "  <thead>\n",
       "    <tr style=\"text-align: right;\">\n",
       "      <th></th>\n",
       "      <th>First Name</th>\n",
       "      <th>Email</th>\n",
       "    </tr>\n",
       "  </thead>\n",
       "  <tbody>\n",
       "    <tr>\n",
       "      <th>0</th>\n",
       "      <td>Shelby</td>\n",
       "      <td>elijah57@example.net</td>\n",
       "    </tr>\n",
       "    <tr>\n",
       "      <th>1</th>\n",
       "      <td>Phillip</td>\n",
       "      <td>bethany14@example.com</td>\n",
       "    </tr>\n",
       "    <tr>\n",
       "      <th>2</th>\n",
       "      <td>Kristine</td>\n",
       "      <td>bthompson@example.com</td>\n",
       "    </tr>\n",
       "    <tr>\n",
       "      <th>3</th>\n",
       "      <td>Yesenia</td>\n",
       "      <td>kaitlinkaiser@example.com</td>\n",
       "    </tr>\n",
       "    <tr>\n",
       "      <th>4</th>\n",
       "      <td>Lori</td>\n",
       "      <td>buchananmanuel@example.net</td>\n",
       "    </tr>\n",
       "  </tbody>\n",
       "</table>\n",
       "</div>"
      ],
      "text/plain": [
       "  First Name                       Email\n",
       "0     Shelby        elijah57@example.net\n",
       "1    Phillip       bethany14@example.com\n",
       "2   Kristine       bthompson@example.com\n",
       "3    Yesenia   kaitlinkaiser@example.com\n",
       "4       Lori  buchananmanuel@example.net"
      ]
     },
     "execution_count": 49,
     "metadata": {},
     "output_type": "execute_result"
    }
   ],
   "source": [
    "# features in pandas using read_csv\n",
    "# read specific columns using read_csv\n",
    "\n",
    "# usecols is used for read specific columns \n",
    "df=pd.read_csv(\"people_data.csv\",usecols=[\"First Name\",\"Email\"])\n",
    "df"
   ]
  },
  {
   "cell_type": "code",
   "execution_count": 50,
   "id": "7d2e60c7-d9ec-4504-b729-f6e03eca3dc9",
   "metadata": {},
   "outputs": [],
   "source": [
    "# setting an index column(index_col)\n",
    "# index_col : The index_col parameter sets one or more columns as the DataFrame index "
   ]
  },
  {
   "cell_type": "code",
   "execution_count": 52,
   "id": "27b4d516-cc63-4a13-8c39-d8d726a8d10b",
   "metadata": {},
   "outputs": [
    {
     "data": {
      "text/html": [
       "<div>\n",
       "<style scoped>\n",
       "    .dataframe tbody tr th:only-of-type {\n",
       "        vertical-align: middle;\n",
       "    }\n",
       "\n",
       "    .dataframe tbody tr th {\n",
       "        vertical-align: top;\n",
       "    }\n",
       "\n",
       "    .dataframe thead th {\n",
       "        text-align: right;\n",
       "    }\n",
       "</style>\n",
       "<table border=\"1\" class=\"dataframe\">\n",
       "  <thead>\n",
       "    <tr style=\"text-align: right;\">\n",
       "      <th></th>\n",
       "      <th>Last Name</th>\n",
       "      <th>Sex</th>\n",
       "      <th>Email</th>\n",
       "      <th>Date of birth</th>\n",
       "      <th>Job Title</th>\n",
       "    </tr>\n",
       "    <tr>\n",
       "      <th>First Name</th>\n",
       "      <th></th>\n",
       "      <th></th>\n",
       "      <th></th>\n",
       "      <th></th>\n",
       "      <th></th>\n",
       "    </tr>\n",
       "  </thead>\n",
       "  <tbody>\n",
       "    <tr>\n",
       "      <th>Shelby</th>\n",
       "      <td>Terrell</td>\n",
       "      <td>Male</td>\n",
       "      <td>elijah57@example.net</td>\n",
       "      <td>1945-10-26</td>\n",
       "      <td>Games developer</td>\n",
       "    </tr>\n",
       "    <tr>\n",
       "      <th>Phillip</th>\n",
       "      <td>Summers</td>\n",
       "      <td>Female</td>\n",
       "      <td>bethany14@example.com</td>\n",
       "      <td>1910-03-24</td>\n",
       "      <td>Phytotherapist</td>\n",
       "    </tr>\n",
       "    <tr>\n",
       "      <th>Kristine</th>\n",
       "      <td>Travis</td>\n",
       "      <td>Male</td>\n",
       "      <td>bthompson@example.com</td>\n",
       "      <td>1992-07-02</td>\n",
       "      <td>Homeopath</td>\n",
       "    </tr>\n",
       "    <tr>\n",
       "      <th>Yesenia</th>\n",
       "      <td>Martinez</td>\n",
       "      <td>Male</td>\n",
       "      <td>kaitlinkaiser@example.com</td>\n",
       "      <td>2017-08-03</td>\n",
       "      <td>Market researcher</td>\n",
       "    </tr>\n",
       "    <tr>\n",
       "      <th>Lori</th>\n",
       "      <td>Todd</td>\n",
       "      <td>Male</td>\n",
       "      <td>buchananmanuel@example.net</td>\n",
       "      <td>1938-12-01</td>\n",
       "      <td>Veterinary surgeon</td>\n",
       "    </tr>\n",
       "  </tbody>\n",
       "</table>\n",
       "</div>"
      ],
      "text/plain": [
       "           Last Name     Sex                       Email Date of birth  \\\n",
       "First Name                                                               \n",
       "Shelby       Terrell    Male        elijah57@example.net    1945-10-26   \n",
       "Phillip      Summers  Female       bethany14@example.com    1910-03-24   \n",
       "Kristine      Travis    Male       bthompson@example.com    1992-07-02   \n",
       "Yesenia     Martinez    Male   kaitlinkaiser@example.com    2017-08-03   \n",
       "Lori            Todd    Male  buchananmanuel@example.net    1938-12-01   \n",
       "\n",
       "                     Job Title  \n",
       "First Name                      \n",
       "Shelby         Games developer  \n",
       "Phillip         Phytotherapist  \n",
       "Kristine             Homeopath  \n",
       "Yesenia      Market researcher  \n",
       "Lori        Veterinary surgeon  "
      ]
     },
     "execution_count": 52,
     "metadata": {},
     "output_type": "execute_result"
    }
   ],
   "source": [
    "df=pd.read_csv(\"people_data.csv\",index_col=\"First Name\")\n",
    "df"
   ]
  },
  {
   "cell_type": "code",
   "execution_count": 53,
   "id": "649e76d0-ca8f-4a22-9cd1-514045dfdc02",
   "metadata": {},
   "outputs": [],
   "source": [
    "# handling missing values using read_csv\n",
    "# na_values "
   ]
  },
  {
   "cell_type": "code",
   "execution_count": 54,
   "id": "ffa6ecee-b62e-4c7e-927a-a308aebe3c6b",
   "metadata": {},
   "outputs": [],
   "source": [
    "# saving a pandas dataframe as a csv\n",
    "# here we use to_csv() method : by default the to_csv() ethod exports dataFrame to a csv file row \n",
    "# index as first column and comma as the delimeter"
   ]
  },
  {
   "cell_type": "code",
   "execution_count": 55,
   "id": "247674f8-8abd-4590-b851-8a3befd01e76",
   "metadata": {},
   "outputs": [],
   "source": [
    "import pandas as pd\n",
    "\n",
    "# list of name, degree, score\n",
    "nme = [\"aparna\", \"pankaj\", \"sudhir\", \"Geeku\"]\n",
    "deg = [\"MBA\", \"BCA\", \"M.Tech\", \"MBA\"]\n",
    "scr = [90, 40, 80, 98]"
   ]
  },
  {
   "cell_type": "code",
   "execution_count": 56,
   "id": "0d0b7ca7-74e7-404f-8fe5-316421a461e8",
   "metadata": {},
   "outputs": [],
   "source": [
    "dict={\"name\":nme,\"degree\":deg,\"score\":scr}\n",
    "df=pd.DataFrame(dict)"
   ]
  },
  {
   "cell_type": "code",
   "execution_count": 57,
   "id": "2e7012d0-0b4a-4bf9-babe-8c82a53328fa",
   "metadata": {},
   "outputs": [
    {
     "data": {
      "text/html": [
       "<div>\n",
       "<style scoped>\n",
       "    .dataframe tbody tr th:only-of-type {\n",
       "        vertical-align: middle;\n",
       "    }\n",
       "\n",
       "    .dataframe tbody tr th {\n",
       "        vertical-align: top;\n",
       "    }\n",
       "\n",
       "    .dataframe thead th {\n",
       "        text-align: right;\n",
       "    }\n",
       "</style>\n",
       "<table border=\"1\" class=\"dataframe\">\n",
       "  <thead>\n",
       "    <tr style=\"text-align: right;\">\n",
       "      <th></th>\n",
       "      <th>name</th>\n",
       "      <th>degree</th>\n",
       "      <th>score</th>\n",
       "    </tr>\n",
       "  </thead>\n",
       "  <tbody>\n",
       "    <tr>\n",
       "      <th>0</th>\n",
       "      <td>aparna</td>\n",
       "      <td>MBA</td>\n",
       "      <td>90</td>\n",
       "    </tr>\n",
       "    <tr>\n",
       "      <th>1</th>\n",
       "      <td>pankaj</td>\n",
       "      <td>BCA</td>\n",
       "      <td>40</td>\n",
       "    </tr>\n",
       "    <tr>\n",
       "      <th>2</th>\n",
       "      <td>sudhir</td>\n",
       "      <td>M.Tech</td>\n",
       "      <td>80</td>\n",
       "    </tr>\n",
       "    <tr>\n",
       "      <th>3</th>\n",
       "      <td>Geeku</td>\n",
       "      <td>MBA</td>\n",
       "      <td>98</td>\n",
       "    </tr>\n",
       "  </tbody>\n",
       "</table>\n",
       "</div>"
      ],
      "text/plain": [
       "     name  degree  score\n",
       "0  aparna     MBA     90\n",
       "1  pankaj     BCA     40\n",
       "2  sudhir  M.Tech     80\n",
       "3   Geeku     MBA     98"
      ]
     },
     "execution_count": 57,
     "metadata": {},
     "output_type": "execute_result"
    }
   ],
   "source": [
    "df"
   ]
  },
  {
   "cell_type": "code",
   "execution_count": 58,
   "id": "c201cf77-8b41-4370-8d87-5d612f50e7de",
   "metadata": {},
   "outputs": [],
   "source": [
    "# export csv to working directory\n",
    "df.to_csv(\"file.csv\")\n"
   ]
  },
  {
   "cell_type": "code",
   "execution_count": 59,
   "id": "fc211b59-a95e-4343-8581-099a0bf9fd73",
   "metadata": {},
   "outputs": [],
   "source": [
    "df.to_csv(\"file2.csv\",header=False,index=False)"
   ]
  },
  {
   "cell_type": "code",
   "execution_count": 60,
   "id": "07dd1a77-e0cb-451d-a987-81b986dbbc6a",
   "metadata": {},
   "outputs": [],
   "source": [
    "# save the csv file to a specific location \n",
    "df.to_csv(r\"C:\\Users\\rakes\\file3.csv\")"
   ]
  },
  {
   "cell_type": "code",
   "execution_count": 61,
   "id": "740383e8-148d-4c25-ab58-b60305f26c95",
   "metadata": {},
   "outputs": [],
   "source": [
    "# write a dataframe to csv file using tab seperator\n"
   ]
  },
  {
   "cell_type": "code",
   "execution_count": 63,
   "id": "342f87f4-147b-4583-870e-55716002c754",
   "metadata": {},
   "outputs": [
    {
     "name": "stdout",
     "output_type": "stream",
     "text": [
      "Original dfataFrame:\n",
      "\n",
      "   Name  Age\n",
      "0  Amit   20\n",
      "1  cody   21\n",
      "2  Drew   25\n"
     ]
    }
   ],
   "source": [
    "import pandas as pd\n",
    "import numpy as np\n",
    "users={\"Name\":[\"Amit\",\"cody\",\"Drew\"],\n",
    "       \"Age\":[20,21,25]}\n",
    "df=pd.DataFrame(users,columns=[\"Name\",\"Age\"])\n",
    "print(\"Original dfataFrame:\\n\")\n",
    "print(df)"
   ]
  },
  {
   "cell_type": "code",
   "execution_count": 64,
   "id": "17f21c52-bf4f-423e-bf39-f65cb3df7dbb",
   "metadata": {},
   "outputs": [
    {
     "name": "stdout",
     "output_type": "stream",
     "text": [
      "Data from users.csv\n"
     ]
    }
   ],
   "source": [
    "print(\"Data from users.csv\")\n",
    "df.to_csv(\"Users.csv\",sep=\"\\t\",index=False,header=True)\n"
   ]
  },
  {
   "cell_type": "code",
   "execution_count": 66,
   "id": "e482019c-88ed-4edb-a697-ef7f5c2e2665",
   "metadata": {},
   "outputs": [
    {
     "data": {
      "text/html": [
       "<div>\n",
       "<style scoped>\n",
       "    .dataframe tbody tr th:only-of-type {\n",
       "        vertical-align: middle;\n",
       "    }\n",
       "\n",
       "    .dataframe tbody tr th {\n",
       "        vertical-align: top;\n",
       "    }\n",
       "\n",
       "    .dataframe thead th {\n",
       "        text-align: right;\n",
       "    }\n",
       "</style>\n",
       "<table border=\"1\" class=\"dataframe\">\n",
       "  <thead>\n",
       "    <tr style=\"text-align: right;\">\n",
       "      <th></th>\n",
       "      <th>Name\\tAge</th>\n",
       "    </tr>\n",
       "  </thead>\n",
       "  <tbody>\n",
       "    <tr>\n",
       "      <th>0</th>\n",
       "      <td>Amit\\t20</td>\n",
       "    </tr>\n",
       "    <tr>\n",
       "      <th>1</th>\n",
       "      <td>cody\\t21</td>\n",
       "    </tr>\n",
       "    <tr>\n",
       "      <th>2</th>\n",
       "      <td>Drew\\t25</td>\n",
       "    </tr>\n",
       "  </tbody>\n",
       "</table>\n",
       "</div>"
      ],
      "text/plain": [
       "  Name\\tAge\n",
       "0  Amit\\t20\n",
       "1  cody\\t21\n",
       "2  Drew\\t25"
      ]
     },
     "execution_count": 66,
     "metadata": {},
     "output_type": "execute_result"
    }
   ],
   "source": [
    "new_df=pd.read_csv(\"users.csv\")\n",
    "new_df"
   ]
  },
  {
   "cell_type": "code",
   "execution_count": 67,
   "id": "e6667ea8-3c6e-4b35-bc00-82bcffd42bdd",
   "metadata": {},
   "outputs": [],
   "source": [
    "# exporty pandas dataframe to csv file \n"
   ]
  },
  {
   "cell_type": "markdown",
   "id": "c8b710d2-0fd2-4697-aaf6-b68f08633611",
   "metadata": {},
   "source": [
    "When we are working with data science project one of the key tasks is data management which includes data collection,cleaning and storage once our data is cleaned and processed its essential for further analysis and sharing "
   ]
  },
  {
   "cell_type": "code",
   "execution_count": 68,
   "id": "00e9f8b9-14f0-4aed-ac20-36d3aa06df46",
   "metadata": {},
   "outputs": [],
   "source": [
    "# creating a sample dataframe "
   ]
  },
  {
   "cell_type": "code",
   "execution_count": 69,
   "id": "fd2a2ccf-cde4-4e1b-b795-88b23732e8e2",
   "metadata": {},
   "outputs": [
    {
     "data": {
      "text/html": [
       "<div>\n",
       "<style scoped>\n",
       "    .dataframe tbody tr th:only-of-type {\n",
       "        vertical-align: middle;\n",
       "    }\n",
       "\n",
       "    .dataframe tbody tr th {\n",
       "        vertical-align: top;\n",
       "    }\n",
       "\n",
       "    .dataframe thead th {\n",
       "        text-align: right;\n",
       "    }\n",
       "</style>\n",
       "<table border=\"1\" class=\"dataframe\">\n",
       "  <thead>\n",
       "    <tr style=\"text-align: right;\">\n",
       "      <th></th>\n",
       "      <th>Name</th>\n",
       "      <th>Score</th>\n",
       "    </tr>\n",
       "  </thead>\n",
       "  <tbody>\n",
       "    <tr>\n",
       "      <th>0</th>\n",
       "      <td>a</td>\n",
       "      <td>90</td>\n",
       "    </tr>\n",
       "    <tr>\n",
       "      <th>1</th>\n",
       "      <td>b</td>\n",
       "      <td>80</td>\n",
       "    </tr>\n",
       "    <tr>\n",
       "      <th>2</th>\n",
       "      <td>c</td>\n",
       "      <td>95</td>\n",
       "    </tr>\n",
       "    <tr>\n",
       "      <th>3</th>\n",
       "      <td>d</td>\n",
       "      <td>20</td>\n",
       "    </tr>\n",
       "  </tbody>\n",
       "</table>\n",
       "</div>"
      ],
      "text/plain": [
       "  Name  Score\n",
       "0    a     90\n",
       "1    b     80\n",
       "2    c     95\n",
       "3    d     20"
      ]
     },
     "execution_count": 69,
     "metadata": {},
     "output_type": "execute_result"
    }
   ],
   "source": [
    "import pandas as pd\n",
    "scores = {'Name': ['a', 'b', 'c', 'd'],\n",
    "          'Score': [90, 80, 95, 20]}\n",
    "df=pd.DataFrame(scores)\n",
    "df"
   ]
  },
  {
   "cell_type": "code",
   "execution_count": 70,
   "id": "fb392ce5-8bff-4855-b86e-026509ce4222",
   "metadata": {},
   "outputs": [],
   "source": [
    "# Basic export:\n",
    "# the simple way to export a dataframe to a csv file by using the to_csv() function"
   ]
  },
  {
   "cell_type": "code",
   "execution_count": 74,
   "id": "8ad7feff-ffeb-4205-b3f3-0be010058fe9",
   "metadata": {},
   "outputs": [],
   "source": [
    "df.to_csv(\"your_name.csv\")\n"
   ]
  },
  {
   "cell_type": "code",
   "execution_count": 72,
   "id": "97e0e0c3-746b-4444-8c3c-921041a062bf",
   "metadata": {},
   "outputs": [],
   "source": [
    "# remove index column \n",
    "# The to_csv() exports the index column\n",
    "# index=False"
   ]
  },
  {
   "cell_type": "code",
   "execution_count": 73,
   "id": "079d31f7-92cb-41af-b5eb-35e922b31f56",
   "metadata": {},
   "outputs": [],
   "source": [
    "df.to_csv(\"your_name.csv\",index=False)\n"
   ]
  },
  {
   "cell_type": "code",
   "execution_count": 75,
   "id": "81d84adb-de31-40b5-b4e8-5a17653cdeb3",
   "metadata": {},
   "outputs": [],
   "source": [
    "# export only selected columns "
   ]
  },
  {
   "cell_type": "code",
   "execution_count": 76,
   "id": "5e75430d-7e0e-46b0-8078-ce41bc69af58",
   "metadata": {},
   "outputs": [],
   "source": [
    "df.to_csv(\"your_name.csv\",columns=[\"Name\"])\n"
   ]
  },
  {
   "cell_type": "code",
   "execution_count": 78,
   "id": "a2916eaa-dbbd-4ba0-8d18-142767c0128f",
   "metadata": {},
   "outputs": [],
   "source": [
    "# handling missing values \n",
    "df.to_csv(\"your_names\",na_rep=\"nothing\")"
   ]
  },
  {
   "cell_type": "code",
   "execution_count": 79,
   "id": "4cdd6298-77ee-4cce-baf0-c2feb4cd1320",
   "metadata": {},
   "outputs": [],
   "source": [
    "# how to read JSON files with pandas "
   ]
  },
  {
   "cell_type": "markdown",
   "id": "634f18ab-1ffc-4af7-ac62-be414b0aaf7b",
   "metadata": {},
   "source": [
    "JSON(javascript object Notation) stores data using key-value pair \n",
    "reading with JSON files using pandas is simple and helpfull when you're working with data in .json format."
   ]
  },
  {
   "cell_type": "code",
   "execution_count": 80,
   "id": "1c40e8c2-6fbd-4e1d-a211-62b3e8fb5e14",
   "metadata": {},
   "outputs": [],
   "source": [
    "# there are mainly three methods to read json file using pandas \n"
   ]
  },
  {
   "cell_type": "code",
   "execution_count": 81,
   "id": "91a6be2b-8067-4e19-a4bc-182c3df79ef8",
   "metadata": {},
   "outputs": [],
   "source": [
    "# Using pd.read_json() method\n",
    "# using JSON Modules and pd.json_normalize() method\n",
    "# using pd.Dataframe() methods"
   ]
  },
  {
   "cell_type": "code",
   "execution_count": 82,
   "id": "05d7f6ac-4b10-4ab6-83d9-b94297bf136b",
   "metadata": {},
   "outputs": [
    {
     "data": {
      "text/plain": [
       "[{'id': 1, 'name': 'Alice', 'age': 25},\n",
       " {'id': 2, 'name': 'Bob', 'age': 30},\n",
       " {'id': 3, 'name': 'Charlie', 'age': 22}]"
      ]
     },
     "execution_count": 82,
     "metadata": {},
     "output_type": "execute_result"
    }
   ],
   "source": [
    "[\n",
    "\n",
    "    {\"id\": 1, \"name\": \"Alice\", \"age\": 25},\n",
    "\n",
    "    {\"id\": 2, \"name\": \"Bob\", \"age\": 30},\n",
    "\n",
    "    {\"id\": 3, \"name\": \"Charlie\", \"age\": 22}\n",
    "\n",
    "]"
   ]
  },
  {
   "cell_type": "code",
   "execution_count": 83,
   "id": "9af1df13-204f-4887-9b9c-e44d0ee5d184",
   "metadata": {},
   "outputs": [
    {
     "ename": "FileNotFoundError",
     "evalue": "File data.json does not exist",
     "output_type": "error",
     "traceback": [
      "\u001b[1;31m---------------------------------------------------------------------------\u001b[0m",
      "\u001b[1;31mFileNotFoundError\u001b[0m                         Traceback (most recent call last)",
      "Cell \u001b[1;32mIn[83], line 3\u001b[0m\n\u001b[0;32m      1\u001b[0m \u001b[38;5;66;03m# Using pd.read_json() to read JSON files in pandas \u001b[39;00m\n\u001b[0;32m      2\u001b[0m \u001b[38;5;28;01mimport\u001b[39;00m \u001b[38;5;21;01mpandas\u001b[39;00m \u001b[38;5;28;01mas\u001b[39;00m \u001b[38;5;21;01mpd\u001b[39;00m\n\u001b[1;32m----> 3\u001b[0m df\u001b[38;5;241m=\u001b[39m\u001b[43mpd\u001b[49m\u001b[38;5;241;43m.\u001b[39;49m\u001b[43mread_json\u001b[49m\u001b[43m(\u001b[49m\u001b[38;5;124;43m\"\u001b[39;49m\u001b[38;5;124;43mdata.json\u001b[39;49m\u001b[38;5;124;43m\"\u001b[39;49m\u001b[43m)\u001b[49m\n\u001b[0;32m      4\u001b[0m \u001b[38;5;28mprint\u001b[39m(df\u001b[38;5;241m.\u001b[39mhead())\n",
      "File \u001b[1;32m~\\AppData\\Local\\Programs\\Python\\Python312\\Lib\\site-packages\\pandas\\io\\json\\_json.py:791\u001b[0m, in \u001b[0;36mread_json\u001b[1;34m(path_or_buf, orient, typ, dtype, convert_axes, convert_dates, keep_default_dates, precise_float, date_unit, encoding, encoding_errors, lines, chunksize, compression, nrows, storage_options, dtype_backend, engine)\u001b[0m\n\u001b[0;32m    788\u001b[0m \u001b[38;5;28;01mif\u001b[39;00m convert_axes \u001b[38;5;129;01mis\u001b[39;00m \u001b[38;5;28;01mNone\u001b[39;00m \u001b[38;5;129;01mand\u001b[39;00m orient \u001b[38;5;241m!=\u001b[39m \u001b[38;5;124m\"\u001b[39m\u001b[38;5;124mtable\u001b[39m\u001b[38;5;124m\"\u001b[39m:\n\u001b[0;32m    789\u001b[0m     convert_axes \u001b[38;5;241m=\u001b[39m \u001b[38;5;28;01mTrue\u001b[39;00m\n\u001b[1;32m--> 791\u001b[0m json_reader \u001b[38;5;241m=\u001b[39m \u001b[43mJsonReader\u001b[49m\u001b[43m(\u001b[49m\n\u001b[0;32m    792\u001b[0m \u001b[43m    \u001b[49m\u001b[43mpath_or_buf\u001b[49m\u001b[43m,\u001b[49m\n\u001b[0;32m    793\u001b[0m \u001b[43m    \u001b[49m\u001b[43morient\u001b[49m\u001b[38;5;241;43m=\u001b[39;49m\u001b[43morient\u001b[49m\u001b[43m,\u001b[49m\n\u001b[0;32m    794\u001b[0m \u001b[43m    \u001b[49m\u001b[43mtyp\u001b[49m\u001b[38;5;241;43m=\u001b[39;49m\u001b[43mtyp\u001b[49m\u001b[43m,\u001b[49m\n\u001b[0;32m    795\u001b[0m \u001b[43m    \u001b[49m\u001b[43mdtype\u001b[49m\u001b[38;5;241;43m=\u001b[39;49m\u001b[43mdtype\u001b[49m\u001b[43m,\u001b[49m\n\u001b[0;32m    796\u001b[0m \u001b[43m    \u001b[49m\u001b[43mconvert_axes\u001b[49m\u001b[38;5;241;43m=\u001b[39;49m\u001b[43mconvert_axes\u001b[49m\u001b[43m,\u001b[49m\n\u001b[0;32m    797\u001b[0m \u001b[43m    \u001b[49m\u001b[43mconvert_dates\u001b[49m\u001b[38;5;241;43m=\u001b[39;49m\u001b[43mconvert_dates\u001b[49m\u001b[43m,\u001b[49m\n\u001b[0;32m    798\u001b[0m \u001b[43m    \u001b[49m\u001b[43mkeep_default_dates\u001b[49m\u001b[38;5;241;43m=\u001b[39;49m\u001b[43mkeep_default_dates\u001b[49m\u001b[43m,\u001b[49m\n\u001b[0;32m    799\u001b[0m \u001b[43m    \u001b[49m\u001b[43mprecise_float\u001b[49m\u001b[38;5;241;43m=\u001b[39;49m\u001b[43mprecise_float\u001b[49m\u001b[43m,\u001b[49m\n\u001b[0;32m    800\u001b[0m \u001b[43m    \u001b[49m\u001b[43mdate_unit\u001b[49m\u001b[38;5;241;43m=\u001b[39;49m\u001b[43mdate_unit\u001b[49m\u001b[43m,\u001b[49m\n\u001b[0;32m    801\u001b[0m \u001b[43m    \u001b[49m\u001b[43mencoding\u001b[49m\u001b[38;5;241;43m=\u001b[39;49m\u001b[43mencoding\u001b[49m\u001b[43m,\u001b[49m\n\u001b[0;32m    802\u001b[0m \u001b[43m    \u001b[49m\u001b[43mlines\u001b[49m\u001b[38;5;241;43m=\u001b[39;49m\u001b[43mlines\u001b[49m\u001b[43m,\u001b[49m\n\u001b[0;32m    803\u001b[0m \u001b[43m    \u001b[49m\u001b[43mchunksize\u001b[49m\u001b[38;5;241;43m=\u001b[39;49m\u001b[43mchunksize\u001b[49m\u001b[43m,\u001b[49m\n\u001b[0;32m    804\u001b[0m \u001b[43m    \u001b[49m\u001b[43mcompression\u001b[49m\u001b[38;5;241;43m=\u001b[39;49m\u001b[43mcompression\u001b[49m\u001b[43m,\u001b[49m\n\u001b[0;32m    805\u001b[0m \u001b[43m    \u001b[49m\u001b[43mnrows\u001b[49m\u001b[38;5;241;43m=\u001b[39;49m\u001b[43mnrows\u001b[49m\u001b[43m,\u001b[49m\n\u001b[0;32m    806\u001b[0m \u001b[43m    \u001b[49m\u001b[43mstorage_options\u001b[49m\u001b[38;5;241;43m=\u001b[39;49m\u001b[43mstorage_options\u001b[49m\u001b[43m,\u001b[49m\n\u001b[0;32m    807\u001b[0m \u001b[43m    \u001b[49m\u001b[43mencoding_errors\u001b[49m\u001b[38;5;241;43m=\u001b[39;49m\u001b[43mencoding_errors\u001b[49m\u001b[43m,\u001b[49m\n\u001b[0;32m    808\u001b[0m \u001b[43m    \u001b[49m\u001b[43mdtype_backend\u001b[49m\u001b[38;5;241;43m=\u001b[39;49m\u001b[43mdtype_backend\u001b[49m\u001b[43m,\u001b[49m\n\u001b[0;32m    809\u001b[0m \u001b[43m    \u001b[49m\u001b[43mengine\u001b[49m\u001b[38;5;241;43m=\u001b[39;49m\u001b[43mengine\u001b[49m\u001b[43m,\u001b[49m\n\u001b[0;32m    810\u001b[0m \u001b[43m\u001b[49m\u001b[43m)\u001b[49m\n\u001b[0;32m    812\u001b[0m \u001b[38;5;28;01mif\u001b[39;00m chunksize:\n\u001b[0;32m    813\u001b[0m     \u001b[38;5;28;01mreturn\u001b[39;00m json_reader\n",
      "File \u001b[1;32m~\\AppData\\Local\\Programs\\Python\\Python312\\Lib\\site-packages\\pandas\\io\\json\\_json.py:904\u001b[0m, in \u001b[0;36mJsonReader.__init__\u001b[1;34m(self, filepath_or_buffer, orient, typ, dtype, convert_axes, convert_dates, keep_default_dates, precise_float, date_unit, encoding, lines, chunksize, compression, nrows, storage_options, encoding_errors, dtype_backend, engine)\u001b[0m\n\u001b[0;32m    902\u001b[0m     \u001b[38;5;28mself\u001b[39m\u001b[38;5;241m.\u001b[39mdata \u001b[38;5;241m=\u001b[39m filepath_or_buffer\n\u001b[0;32m    903\u001b[0m \u001b[38;5;28;01melif\u001b[39;00m \u001b[38;5;28mself\u001b[39m\u001b[38;5;241m.\u001b[39mengine \u001b[38;5;241m==\u001b[39m \u001b[38;5;124m\"\u001b[39m\u001b[38;5;124mujson\u001b[39m\u001b[38;5;124m\"\u001b[39m:\n\u001b[1;32m--> 904\u001b[0m     data \u001b[38;5;241m=\u001b[39m \u001b[38;5;28;43mself\u001b[39;49m\u001b[38;5;241;43m.\u001b[39;49m\u001b[43m_get_data_from_filepath\u001b[49m\u001b[43m(\u001b[49m\u001b[43mfilepath_or_buffer\u001b[49m\u001b[43m)\u001b[49m\n\u001b[0;32m    905\u001b[0m     \u001b[38;5;28mself\u001b[39m\u001b[38;5;241m.\u001b[39mdata \u001b[38;5;241m=\u001b[39m \u001b[38;5;28mself\u001b[39m\u001b[38;5;241m.\u001b[39m_preprocess_data(data)\n",
      "File \u001b[1;32m~\\AppData\\Local\\Programs\\Python\\Python312\\Lib\\site-packages\\pandas\\io\\json\\_json.py:960\u001b[0m, in \u001b[0;36mJsonReader._get_data_from_filepath\u001b[1;34m(self, filepath_or_buffer)\u001b[0m\n\u001b[0;32m    952\u001b[0m     filepath_or_buffer \u001b[38;5;241m=\u001b[39m \u001b[38;5;28mself\u001b[39m\u001b[38;5;241m.\u001b[39mhandles\u001b[38;5;241m.\u001b[39mhandle\n\u001b[0;32m    953\u001b[0m \u001b[38;5;28;01melif\u001b[39;00m (\n\u001b[0;32m    954\u001b[0m     \u001b[38;5;28misinstance\u001b[39m(filepath_or_buffer, \u001b[38;5;28mstr\u001b[39m)\n\u001b[0;32m    955\u001b[0m     \u001b[38;5;129;01mand\u001b[39;00m filepath_or_buffer\u001b[38;5;241m.\u001b[39mlower()\u001b[38;5;241m.\u001b[39mendswith(\n\u001b[1;32m   (...)\u001b[0m\n\u001b[0;32m    958\u001b[0m     \u001b[38;5;129;01mand\u001b[39;00m \u001b[38;5;129;01mnot\u001b[39;00m file_exists(filepath_or_buffer)\n\u001b[0;32m    959\u001b[0m ):\n\u001b[1;32m--> 960\u001b[0m     \u001b[38;5;28;01mraise\u001b[39;00m \u001b[38;5;167;01mFileNotFoundError\u001b[39;00m(\u001b[38;5;124mf\u001b[39m\u001b[38;5;124m\"\u001b[39m\u001b[38;5;124mFile \u001b[39m\u001b[38;5;132;01m{\u001b[39;00mfilepath_or_buffer\u001b[38;5;132;01m}\u001b[39;00m\u001b[38;5;124m does not exist\u001b[39m\u001b[38;5;124m\"\u001b[39m)\n\u001b[0;32m    961\u001b[0m \u001b[38;5;28;01melse\u001b[39;00m:\n\u001b[0;32m    962\u001b[0m     warnings\u001b[38;5;241m.\u001b[39mwarn(\n\u001b[0;32m    963\u001b[0m         \u001b[38;5;124m\"\u001b[39m\u001b[38;5;124mPassing literal json to \u001b[39m\u001b[38;5;124m'\u001b[39m\u001b[38;5;124mread_json\u001b[39m\u001b[38;5;124m'\u001b[39m\u001b[38;5;124m is deprecated and \u001b[39m\u001b[38;5;124m\"\u001b[39m\n\u001b[0;32m    964\u001b[0m         \u001b[38;5;124m\"\u001b[39m\u001b[38;5;124mwill be removed in a future version. To read from a \u001b[39m\u001b[38;5;124m\"\u001b[39m\n\u001b[1;32m   (...)\u001b[0m\n\u001b[0;32m    967\u001b[0m         stacklevel\u001b[38;5;241m=\u001b[39mfind_stack_level(),\n\u001b[0;32m    968\u001b[0m     )\n",
      "\u001b[1;31mFileNotFoundError\u001b[0m: File data.json does not exist"
     ]
    }
   ],
   "source": [
    "# Using pd.read_json() to read JSON files in pandas \n",
    "import pandas as pd\n",
    "df=pd.read_json(\"data.json\")\n",
    "print(df.head())"
   ]
  },
  {
   "cell_type": "code",
   "execution_count": 84,
   "id": "8a658bc2-a2e8-48c8-9e70-a3dbe562e60e",
   "metadata": {},
   "outputs": [],
   "source": [
    "# using json "
   ]
  },
  {
   "cell_type": "code",
   "execution_count": 85,
   "id": "f583f3fe-64fc-40bd-b637-824061c96fa2",
   "metadata": {},
   "outputs": [],
   "source": [
    "# converting text file to CSV using python pandas refers to the process of transforming a plain text \n",
    "# file into structured CSV file using pandas library"
   ]
  },
  {
   "cell_type": "markdown",
   "id": "e13b5c47-c04c-4c63-b77d-b1464d10d886",
   "metadata": {},
   "source": [
    "import pandas as pd\n",
    "df=pd.read_csv(\"geeksforgeeks.txt\")\n",
    "df1=to_csv(\"geeksforgeeks.xsv\")"
   ]
  },
  {
   "cell_type": "code",
   "execution_count": null,
   "id": "28a1c40a-2c92-4e37-8ac4-7cf0542815e6",
   "metadata": {},
   "outputs": [],
   "source": []
  }
 ],
 "metadata": {
  "kernelspec": {
   "display_name": "Python 3 (ipykernel)",
   "language": "python",
   "name": "python3"
  },
  "language_info": {
   "codemirror_mode": {
    "name": "ipython",
    "version": 3
   },
   "file_extension": ".py",
   "mimetype": "text/x-python",
   "name": "python",
   "nbconvert_exporter": "python",
   "pygments_lexer": "ipython3",
   "version": "3.12.2"
  }
 },
 "nbformat": 4,
 "nbformat_minor": 5
}
