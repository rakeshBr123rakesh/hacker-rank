{
 "cells": [
  {
   "cell_type": "markdown",
   "id": "5bc2c8e1-84f1-430e-821b-ceba5278e1aa",
   "metadata": {},
   "source": [
    "Task\n",
    "\n",
    "You are given two integer arrays,  and  of dimensions X.\n",
    "Your task is to perform the following operations:\n",
    "\n",
    "Add ( + )\n",
    "Subtract ( - )\n",
    "Multiply ( * )\n",
    "Integer Division ( / )\n",
    "Mod ( % )\n",
    "Power ( ** )\n",
    "Note\n",
    "There is a method numpy.floor_divide() that works like numpy.divide() except it performs a floor division.\n",
    "\n",
    "Input Format\n",
    "\n",
    "The first line contains two space separated integers,  and .\n",
    "The next  lines contains  space separated integers of array .\n",
    "The following  lines contains  space separated integers of array .\n",
    "\n",
    "Output Format\n",
    "\n",
    "Print the result of each operation in the given order under Task."
   ]
  },
  {
   "cell_type": "code",
   "execution_count": 3,
   "id": "3619db3d-710b-4a59-8d88-8c05081a481e",
   "metadata": {},
   "outputs": [
    {
     "name": "stdin",
     "output_type": "stream",
     "text": [
      " 2 3\n",
      " 2 3 3\n",
      " 2 3 4\n",
      "  5 6 7\n",
      " 5 6 7\n"
     ]
    }
   ],
   "source": [
    "import numpy as np\n",
    "N,M=map(int,input().strip().split())\n",
    "A=np.array([input().strip().split() for _ in range(N)],int)\n",
    "B=np.array([input().strip().split() for _ in range(N)],int)\n"
   ]
  },
  {
   "cell_type": "code",
   "execution_count": 5,
   "id": "b55fa521-a380-4b80-85dd-cbcc8a765dbf",
   "metadata": {},
   "outputs": [
    {
     "name": "stdout",
     "output_type": "stream",
     "text": [
      "[[ 7  9 10]\n",
      " [ 7  9 11]]\n",
      "[[-3 -3 -4]\n",
      " [-3 -3 -3]]\n",
      "[[10 18 21]\n",
      " [10 18 28]]\n",
      "[[0 0 0]\n",
      " [0 0 0]]\n",
      "[[2 3 3]\n",
      " [2 3 4]]\n",
      "[[   32   729  2187]\n",
      " [   32   729 16384]]\n"
     ]
    }
   ],
   "source": [
    "print(np.add(A, B))\n",
    "print(np.subtract(A, B))\n",
    "print(np.multiply(A, B))\n",
    "print(np.floor_divide(A, B))\n",
    "print(np.mod(A, B))\n",
    "print(np.power(A, B))"
   ]
  },
  {
   "cell_type": "markdown",
   "id": "b737418a-2d62-4dea-947b-cf87f88d1aff",
   "metadata": {},
   "source": [
    "Task\n",
    "You are given a 1-D array, . Your task is to print the ,  and  of all the elements of .\n",
    "\n",
    "Note\n",
    "In order to get the correct output format, add the line  below the numpy import.\n",
    "\n",
    "Input Format\n",
    "\n",
    "A single line of input containing the space separated elements of array .\n",
    "\n",
    "Output Format\n",
    "\n",
    "On the first line, print the  of A.\n",
    "On the second line, print the  of A.\n",
    "On the third line, print the  of A."
   ]
  },
  {
   "cell_type": "code",
   "execution_count": 6,
   "id": "65bbf2b0-6143-4299-a57c-572b48bc0a7d",
   "metadata": {},
   "outputs": [
    {
     "name": "stdin",
     "output_type": "stream",
     "text": [
      " 1.1 2.2 3.3 4.4 5.5 6.6 7.7\n"
     ]
    },
    {
     "name": "stdout",
     "output_type": "stream",
     "text": [
      "[ 1.  2.  3.  4.  5.  6.  7.]\n",
      "[ 2.  3.  4.  5.  6.  7.  8.]\n",
      "[ 1.  2.  3.  4.  6.  7.  8.]\n"
     ]
    }
   ],
   "source": [
    "import numpy\n",
    "numpy.set_printoptions(legacy='1.13')\n",
    "\n",
    "my_array=numpy.array(list(map(float,input().split())))\n",
    "print(numpy.floor(my_array))\n",
    "print(numpy.ceil(my_array))\n",
    "print(numpy.rint(my_array))"
   ]
  },
  {
   "cell_type": "markdown",
   "id": "c337f6b7-27c2-4e73-98c6-06d0bea8933a",
   "metadata": {},
   "source": [
    "Task\n",
    "\n",
    "You are given a 2-D array with dimensions X.\n",
    "Your task is to perform the  tool over axis  and then find the  of that result.\n",
    "\n",
    "Input Format\n",
    "\n",
    "The first line of input contains space separated values of  and .\n",
    "The next  lines contains  space separated integers.\n",
    "\n",
    "Output Format\n",
    "\n",
    "Compute the sum along axis . Then, print the product of that sum.\n",
    "\n",
    "Sample Input"
   ]
  },
  {
   "cell_type": "code",
   "execution_count": 7,
   "id": "5ed33273-60e5-4a5b-9879-aa3fa7556491",
   "metadata": {},
   "outputs": [
    {
     "name": "stdin",
     "output_type": "stream",
     "text": [
      " 2 2\n",
      " 2 4 \n",
      " 5 6\n"
     ]
    },
    {
     "name": "stdout",
     "output_type": "stream",
     "text": [
      "70\n"
     ]
    }
   ],
   "source": [
    "import numpy\n",
    "N, M = map(int, input().split())\n",
    "\n",
    "# Read N lines of input and form a numpy array\n",
    "arr = numpy.array([list(map(int, input().split())) for _ in range(N)])\n",
    "\n",
    "result=numpy.sum(arr,axis=0)\n",
    "print(numpy.prod(result))\n"
   ]
  },
  {
   "cell_type": "markdown",
   "id": "3914eff8-ca53-4a87-bdf0-18656aa7c538",
   "metadata": {},
   "source": [
    "Task\n",
    "\n",
    "You are given a 2-D array of size X.\n",
    "Your task is to find:\n",
    "\n",
    "The mean along axis \n",
    "The var along axis \n",
    "The std along axis \n",
    "Input Format\n",
    "\n",
    "The first line contains the space separated values of  and .\n",
    "The next  lines contains  space separated integers.\n",
    "\n",
    "Output Format\n",
    "\n",
    "First, print the mean.\n",
    "Second, print the var.\n",
    "Third, print the std."
   ]
  },
  {
   "cell_type": "markdown",
   "id": "edd78174-a2f1-4845-bb5f-b8f65e5e4430",
   "metadata": {},
   "source": [
    "Matrix manupulation in python"
   ]
  },
  {
   "cell_type": "markdown",
   "id": "08a64b49-5a79-4560-b24b-180643ebc8d3",
   "metadata": {},
   "source": [
    "In python matrix can be implemented as 2D list and 2D array .formatting matrix from latter "
   ]
  },
  {
   "cell_type": "markdown",
   "id": "8fb9730a-c323-4c7a-96ec-a93c5f384e26",
   "metadata": {},
   "source": [
    "opeartion on matrix:\n",
    "1.add(): this function is used to perform element wise matrix adition\n",
    "2.subtract(): this element is used to perform element wise matrix subtraction\n",
    "3.divide(): this element is used tpo perform element wise matrix division"
   ]
  },
  {
   "cell_type": "code",
   "execution_count": 9,
   "id": "e0a9d32d-00ed-4421-b63f-c886c5072725",
   "metadata": {},
   "outputs": [
    {
     "name": "stdout",
     "output_type": "stream",
     "text": [
      "[[ 7  9]\n",
      " [13 13]]\n",
      "[[-5 -5]\n",
      " [-5 -3]]\n",
      "[[ 0.16666667  0.28571429]\n",
      " [ 0.44444444  0.625     ]]\n"
     ]
    }
   ],
   "source": [
    "import numpy \n",
    "x=np.array([[1,2],[4,5]])\n",
    "y=np.array([[6,7],[9,8]])\n",
    "print(numpy.add(x,y))\n",
    "print(numpy.subtract(x,y))\n",
    "print(numpy.divide(x,y))"
   ]
  },
  {
   "cell_type": "code",
   "execution_count": 10,
   "id": "92e55de4-41e1-494f-8a70-059313abd4f7",
   "metadata": {},
   "outputs": [
    {
     "name": "stdout",
     "output_type": "stream",
     "text": [
      "[[ 6 14]\n",
      " [36 40]]\n"
     ]
    }
   ],
   "source": [
    "print(numpy.multiply(x,y))"
   ]
  },
  {
   "cell_type": "code",
   "execution_count": 11,
   "id": "ab3b4659-b39e-4eb1-ba00-ef950bba9f7a",
   "metadata": {},
   "outputs": [
    {
     "name": "stdout",
     "output_type": "stream",
     "text": [
      "[[24 23]\n",
      " [69 68]]\n"
     ]
    }
   ],
   "source": [
    "print(numpy.dot(x,y))"
   ]
  },
  {
   "cell_type": "code",
   "execution_count": 12,
   "id": "b9be1fda-9358-4ec9-bc25-76aa7c8704ff",
   "metadata": {},
   "outputs": [
    {
     "name": "stdout",
     "output_type": "stream",
     "text": [
      "[[ 1.          1.41421356]\n",
      " [ 2.          2.23606798]]\n"
     ]
    }
   ],
   "source": [
    "print(numpy.sqrt(x))"
   ]
  },
  {
   "cell_type": "code",
   "execution_count": 13,
   "id": "8c9f51dc-f2c4-4f3c-9349-d5354e72fa00",
   "metadata": {},
   "outputs": [
    {
     "name": "stdout",
     "output_type": "stream",
     "text": [
      "30\n"
     ]
    }
   ],
   "source": [
    "print(numpy.sum(y))"
   ]
  },
  {
   "cell_type": "code",
   "execution_count": 14,
   "id": "a4483055-067c-4f34-b114-12f753e290a8",
   "metadata": {},
   "outputs": [
    {
     "name": "stdout",
     "output_type": "stream",
     "text": [
      "[15 15]\n"
     ]
    }
   ],
   "source": [
    "print(numpy.sum(y,axis=0))"
   ]
  },
  {
   "cell_type": "code",
   "execution_count": 15,
   "id": "9f2d3ce0-d25f-456c-a22b-c2a2fd779639",
   "metadata": {},
   "outputs": [
    {
     "name": "stdout",
     "output_type": "stream",
     "text": [
      "[[1 4]\n",
      " [2 5]]\n"
     ]
    }
   ],
   "source": [
    "print(x.T)"
   ]
  },
  {
   "cell_type": "markdown",
   "id": "9c0f99eb-ae86-4420-8fd8-fc0c42ba1739",
   "metadata": {},
   "source": [
    "product of vector and matrix in numpy"
   ]
  },
  {
   "cell_type": "markdown",
   "id": "b6012c30-e1c4-43d9-a471-6ab954f217bd",
   "metadata": {},
   "source": [
    "1.Inner product of  vector and matrix "
   ]
  },
  {
   "cell_type": "code",
   "execution_count": 16,
   "id": "a40f9b14-e3e9-432f-a73a-c384bc1f1417",
   "metadata": {},
   "outputs": [],
   "source": [
    "import numpy as np"
   ]
  },
  {
   "cell_type": "code",
   "execution_count": 17,
   "id": "1d40c777-b762-449d-88b7-65f068d89a0c",
   "metadata": {},
   "outputs": [
    {
     "name": "stdout",
     "output_type": "stream",
     "text": [
      "46\n"
     ]
    }
   ],
   "source": [
    "a=np.array([2,6])\n",
    "b=np.array([5,6])\n",
    "print(np.inner(a,b))"
   ]
  },
  {
   "cell_type": "code",
   "execution_count": 18,
   "id": "38c9d285-a58a-4503-9c88-ebc9b94c344f",
   "metadata": {},
   "outputs": [
    {
     "name": "stdout",
     "output_type": "stream",
     "text": [
      "[[10 12]\n",
      " [30 36]]\n"
     ]
    }
   ],
   "source": [
    "print(np.outer(a,b))"
   ]
  },
  {
   "cell_type": "code",
   "execution_count": 19,
   "id": "fb55fe06-9e49-418b-a357-06340a044cad",
   "metadata": {},
   "outputs": [
    {
     "name": "stdout",
     "output_type": "stream",
     "text": [
      "-18\n"
     ]
    }
   ],
   "source": [
    "print(np.cross(a,b))"
   ]
  },
  {
   "cell_type": "code",
   "execution_count": 20,
   "id": "e425b0fe-09f3-4e3b-86ce-260059b5dff1",
   "metadata": {},
   "outputs": [
    {
     "name": "stdout",
     "output_type": "stream",
     "text": [
      "[[ 38  20]\n",
      " [128  65]]\n"
     ]
    }
   ],
   "source": [
    "a=np.array([[1,2,3],[6,7,8]])\n",
    "b=np.array([[5,6,7],[2,3,4]])\n",
    "print(np.inner(a,b))"
   ]
  },
  {
   "cell_type": "code",
   "execution_count": 21,
   "id": "d08b89df-6c1f-42f7-a7c1-7cd6f299ca6f",
   "metadata": {},
   "outputs": [
    {
     "name": "stdout",
     "output_type": "stream",
     "text": [
      "[[ 5  6  7  2  3  4]\n",
      " [10 12 14  4  6  8]\n",
      " [15 18 21  6  9 12]\n",
      " [30 36 42 12 18 24]\n",
      " [35 42 49 14 21 28]\n",
      " [40 48 56 16 24 32]]\n"
     ]
    }
   ],
   "source": [
    "print(np.outer(a,b))"
   ]
  },
  {
   "cell_type": "code",
   "execution_count": 22,
   "id": "fa1fc9ab-fe6a-43a3-bceb-e6c1a1dc57ca",
   "metadata": {},
   "outputs": [
    {
     "name": "stdout",
     "output_type": "stream",
     "text": [
      "[[-4  8 -4]\n",
      " [ 4 -8  4]]\n"
     ]
    }
   ],
   "source": [
    "print(np.cross(a,b))"
   ]
  },
  {
   "cell_type": "markdown",
   "id": "07136331-ff43-4f21-93ed-f5b5b7529480",
   "metadata": {},
   "source": [
    "Inverse a matris using numpy"
   ]
  },
  {
   "cell_type": "markdown",
   "id": "1fa2d292-4dd6-4048-ab1e-bde1c93ae76c",
   "metadata": {},
   "source": [
    "numpy.linalg.inv(a): used to find the inverse"
   ]
  },
  {
   "cell_type": "code",
   "execution_count": 24,
   "id": "06b42dfb-7765-4b1e-8c0e-0b2d3351c93f",
   "metadata": {},
   "outputs": [
    {
     "name": "stdout",
     "output_type": "stream",
     "text": [
      "[[-0.17647059 -0.11764706  0.29411765]\n",
      " [-2.52941176 -0.35294118  1.88235294]\n",
      " [ 2.29411765  0.52941176 -1.82352941]]\n"
     ]
    }
   ],
   "source": [
    "import numpy as np\n",
    "a=np.array([[6,1,2],[5,6,7],[9,3,4]])\n",
    "print(np.linalg.inv(a))"
   ]
  },
  {
   "cell_type": "code",
   "execution_count": 25,
   "id": "33dddcb4-e3bb-4f13-94b9-43d426bc347c",
   "metadata": {},
   "outputs": [
    {
     "name": "stdout",
     "output_type": "stream",
     "text": [
      "[[ 0.13368984  0.10695187  0.02139037 -0.09090909]\n",
      " [-0.00229183  0.02673797  0.14820474 -0.12987013]\n",
      " [-0.12987013  0.18181818  0.06493506 -0.02597403]\n",
      " [ 0.11000764 -0.28342246 -0.11382735  0.23376623]]\n"
     ]
    }
   ],
   "source": [
    "A = np.array([[6, 1, 1, 3],\n",
    "              [4, -2, 5, 1],\n",
    "              [2, 8, 7, 6],\n",
    "              [3, 1, 9, 7]])\n",
    "print(np.linalg.inv(A))"
   ]
  },
  {
   "cell_type": "markdown",
   "id": "aa622c10-9746-4ec0-a60a-9734015edc0d",
   "metadata": {},
   "source": [
    "The inner product of vector for 1-D array using numpy in python"
   ]
  },
  {
   "cell_type": "code",
   "execution_count": 27,
   "id": "39e26c47-8903-4858-a5c5-75b965002d40",
   "metadata": {},
   "outputs": [
    {
     "name": "stdout",
     "output_type": "stream",
     "text": [
      "33\n"
     ]
    }
   ],
   "source": [
    "import numpy as np\n",
    "array1=np.array([2,3])\n",
    "array2=np.array([9,5])\n",
    "result=np.inner(array1,array2)\n",
    "print(result)"
   ]
  },
  {
   "cell_type": "code",
   "execution_count": 28,
   "id": "97c770d0-85f3-44cd-b4dd-c5e7bd1c0461",
   "metadata": {},
   "outputs": [
    {
     "name": "stdout",
     "output_type": "stream",
     "text": [
      "[[18 10]\n",
      " [27 15]]\n"
     ]
    }
   ],
   "source": [
    "result=numpy.outer(array1,array2)\n",
    "print(result)"
   ]
  },
  {
   "cell_type": "code",
   "execution_count": 29,
   "id": "4d69c695-4743-4aab-bbd7-a38468ddc657",
   "metadata": {},
   "outputs": [],
   "source": [
    "#numpy.dot() in numpy"
   ]
  },
  {
   "cell_type": "code",
   "execution_count": 30,
   "id": "1c556ac3-5447-4c29-891c-2626445c1056",
   "metadata": {},
   "outputs": [],
   "source": [
    "# numpy.vdot()"
   ]
  },
  {
   "cell_type": "markdown",
   "id": "af5ec8d3-76f7-4ac3-9550-1ba6bf2b5194",
   "metadata": {},
   "source": [
    "Eigenvalues and eigenvectors are fundamental concepts ain ;inear algebra used in various applications such as matrix diagnolization ,stbility analysis and data analysis "
   ]
  },
  {
   "cell_type": "markdown",
   "id": "fd7c9d64-7652-4e9d-88d4-b878267aa260",
   "metadata": {},
   "source": [
    "random sampling in numpy randomint() function"
   ]
  },
  {
   "cell_type": "code",
   "execution_count": 31,
   "id": "fdcb769c-7eec-438a-95e6-2cdb9c6eb1d4",
   "metadata": {},
   "outputs": [
    {
     "name": "stdout",
     "output_type": "stream",
     "text": [
      "[2 3 2 2 3]\n"
     ]
    }
   ],
   "source": [
    "import numpy as np\n",
    "out_arr=np.random.randint(low=2,high=6,size=5)\n",
    "print(out_arr)"
   ]
  },
  {
   "cell_type": "code",
   "execution_count": 35,
   "id": "cc28c26c-4c27-432a-8afe-ef5c8806b2eb",
   "metadata": {},
   "outputs": [
    {
     "name": "stdout",
     "output_type": "stream",
     "text": [
      "[[3 1 3]\n",
      " [0 2 1]]\n"
     ]
    }
   ],
   "source": [
    "#here low=4 is work as high if High is None\n",
    "out_arr=np.random.randint(low=4,size=(2,3))\n",
    "print(out_arr)"
   ]
  },
  {
   "cell_type": "code",
   "execution_count": 36,
   "id": "7293aaa3-4971-4b37-90c0-b6cc8e83e3d2",
   "metadata": {},
   "outputs": [
    {
     "name": "stdout",
     "output_type": "stream",
     "text": [
      "[[[6 8 7 3]\n",
      "  [8 5 4 5]\n",
      "  [2 4 7 6]]\n",
      "\n",
      " [[6 8 3 3]\n",
      "  [4 5 5 3]\n",
      "  [4 4 8 4]]]\n"
     ]
    }
   ],
   "source": [
    "out_arr=np.random.randint(2,9,(2,3,4))\n",
    "print(out_arr)"
   ]
  },
  {
   "cell_type": "markdown",
   "id": "8a561af3-f720-4047-8914-35b801d785a2",
   "metadata": {},
   "source": [
    "Normal distribution in numpy "
   ]
  },
  {
   "cell_type": "markdown",
   "id": "a5522ecc-e829-4f70-8171-10892082f246",
   "metadata": {},
   "source": [
    "The normal distribution also known as gaussian distribution is one of the most important distribution in statistics and data science"
   ]
  },
  {
   "cell_type": "markdown",
   "id": "96f6f070-9ba9-400f-8598-bed968e46f99",
   "metadata": {},
   "source": [
    "It is widely used to model real-world phenamena such as IQ scores ,heart rates ,test results and many naturally occuring events"
   ]
  },
  {
   "cell_type": "code",
   "execution_count": 37,
   "id": "66b2ffff-df39-4ae1-b1ed-128a00f30b94",
   "metadata": {},
   "outputs": [],
   "source": [
    "# numpy.random.normal() method it has three key parameters"
   ]
  },
  {
   "cell_type": "code",
   "execution_count": 38,
   "id": "c959ce1b-07d3-4efa-81c3-b3c55c2c44f5",
   "metadata": {},
   "outputs": [],
   "source": [
    "#loc specifies the center of the distribution where the peak of the bell curve exists"
   ]
  },
  {
   "cell_type": "code",
   "execution_count": 40,
   "id": "876cfb59-f8e9-4f3e-941e-0e9b3ce31f87",
   "metadata": {},
   "outputs": [],
   "source": [
    "# scale : determine sthe spread of the data of the distribution contriolling how flat or narrow the graph is "
   ]
  },
  {
   "cell_type": "code",
   "execution_count": 41,
   "id": "52caa4fb-ec59-4079-845b-b71c9612b0b9",
   "metadata": {},
   "outputs": [],
   "source": [
    "# size : defines the shape of the returned array"
   ]
  },
  {
   "cell_type": "code",
   "execution_count": 42,
   "id": "620893a1-4f6c-4a71-88aa-4914aa3a3982",
   "metadata": {},
   "outputs": [],
   "source": [
    "# generate the single random number"
   ]
  },
  {
   "cell_type": "code",
   "execution_count": 44,
   "id": "f2df0920-96f3-4e51-bd2d-61fd0b518e9e",
   "metadata": {},
   "outputs": [
    {
     "name": "stdout",
     "output_type": "stream",
     "text": [
      "1.8317148814152426\n"
     ]
    }
   ],
   "source": [
    "import numpy as np\n",
    "random_number=np.random.normal()\n",
    "print(random_number)"
   ]
  },
  {
   "cell_type": "code",
   "execution_count": 45,
   "id": "3b51e1fc-99a2-46f7-be6d-066d14795af0",
   "metadata": {},
   "outputs": [],
   "source": [
    "# generate an array of random numbers"
   ]
  },
  {
   "cell_type": "code",
   "execution_count": 48,
   "id": "aa91d04e-d2da-4531-bebb-865f54e30591",
   "metadata": {},
   "outputs": [
    {
     "name": "stdout",
     "output_type": "stream",
     "text": [
      "[-0.82257344 -0.13596435  0.40697873 -0.76666068  1.4665345 ]\n"
     ]
    }
   ],
   "source": [
    "random_number=np.random.normal(size=5)\n",
    "print(random_number)"
   ]
  },
  {
   "cell_type": "code",
   "execution_count": 52,
   "id": "6aba2047-47ea-4a3b-824e-f1feba47b390",
   "metadata": {},
   "outputs": [
    {
     "name": "stdout",
     "output_type": "stream",
     "text": [
      "[  2.09532652 -19.90348592  26.52856209  22.30769762  -5.5145599 ]\n"
     ]
    }
   ],
   "source": [
    "random_number=np.random.normal(loc=0,scale=20,size=5)\n",
    "print(random_number)"
   ]
  },
  {
   "cell_type": "code",
   "execution_count": 53,
   "id": "0d56b4de-bdf2-469c-8be1-725cc400bfb9",
   "metadata": {},
   "outputs": [],
   "source": [
    "import numpy as np\n",
    "import matplotlib.pyplot as plt"
   ]
  },
  {
   "cell_type": "code",
   "execution_count": null,
   "id": "d14c4e79-c6a9-4f57-be35-594ed0aa48e4",
   "metadata": {},
   "outputs": [],
   "source": []
  }
 ],
 "metadata": {
  "kernelspec": {
   "display_name": "Python 3 (ipykernel)",
   "language": "python",
   "name": "python3"
  },
  "language_info": {
   "codemirror_mode": {
    "name": "ipython",
    "version": 3
   },
   "file_extension": ".py",
   "mimetype": "text/x-python",
   "name": "python",
   "nbconvert_exporter": "python",
   "pygments_lexer": "ipython3",
   "version": "3.12.2"
  }
 },
 "nbformat": 4,
 "nbformat_minor": 5
}
